{
 "cells": [
  {
   "cell_type": "markdown",
   "metadata": {},
   "source": [
    "# 공공데이터 코로나 관련 뉴스 분석\n",
    "- 국가중점데이터인 상권 정보를 살펴봅니다."
   ]
  },
  {
   "cell_type": "markdown",
   "metadata": {},
   "source": [
    "## 필요한 라이브러리 불러오기\n",
    "- Pandas : Python Data Analysis Library\n",
    "- Numpy : numpy\n",
    "- seaborn : data visualization"
   ]
  },
  {
   "cell_type": "code",
   "execution_count": 2,
   "metadata": {},
   "outputs": [],
   "source": [
    "import pandas as pd\n",
    "import numpy as np\n",
    "import seaborn as sns"
   ]
  },
  {
   "cell_type": "markdown",
   "metadata": {},
   "source": [
    "## 시각화를 위한 폰트 설정"
   ]
  },
  {
   "cell_type": "code",
   "execution_count": 3,
   "metadata": {},
   "outputs": [],
   "source": [
    "import matplotlib.pyplot as plt\n",
    "# Mac 한글 폰트 설정\n",
    "plt.rc('font', family='AppleGothic')\n",
    "plt.rc('axes', unicode_minus=False)\n",
    "\n",
    "# 그래프가 노트북 안에 보이게 하기 위해\n",
    "%matplotlib inline"
   ]
  },
  {
   "cell_type": "code",
   "execution_count": 4,
   "metadata": {},
   "outputs": [],
   "source": [
    "from IPython.display import set_matplotlib_formats\n",
    "# 폰트가 선명하게 보이기 위해\n",
    "set_matplotlib_formats('retina')"
   ]
  },
  {
   "cell_type": "markdown",
   "metadata": {},
   "source": [
    "## 데이터 로드하기\n",
    "- 판다스에서 데이터를 로드할 때는 `read_csv()`를 사용합니다.\n",
    "- 데이터를 로드해서 df에 담습니다.\n",
    "- 그리고 `shape`를 통핵서 데이터의 개수를 찍습니다. 결과는 (행, 열) 순으로 출력됩니다."
   ]
  },
  {
   "cell_type": "code",
   "execution_count": 5,
   "metadata": {},
   "outputs": [
    {
     "data": {
      "text/plain": [
       "(108947, 18)"
      ]
     },
     "execution_count": 5,
     "metadata": {},
     "output_type": "execute_result"
    }
   ],
   "source": [
    "# read_csv로 불러온 파일을 df에 담기\n",
    "df = pd.read_csv('../data/한국언론진흥재단_뉴스빅데이터_메타데이터_코로나_20200831.csv', encoding='CP949')\n",
    "df.shape"
   ]
  },
  {
   "cell_type": "markdown",
   "metadata": {},
   "source": [
    "## 데이터 미리보기\n",
    "- head, tail을 통해 데이터를 미리 볼 수 있다."
   ]
  },
  {
   "cell_type": "code",
   "execution_count": 6,
   "metadata": {},
   "outputs": [
    {
     "data": {
      "text/html": [
       "<div>\n",
       "<style scoped>\n",
       "    .dataframe tbody tr th:only-of-type {\n",
       "        vertical-align: middle;\n",
       "    }\n",
       "\n",
       "    .dataframe tbody tr th {\n",
       "        vertical-align: top;\n",
       "    }\n",
       "\n",
       "    .dataframe thead th {\n",
       "        text-align: right;\n",
       "    }\n",
       "</style>\n",
       "<table border=\"1\" class=\"dataframe\">\n",
       "  <thead>\n",
       "    <tr style=\"text-align: right;\">\n",
       "      <th></th>\n",
       "      <th>주소</th>\n",
       "      <th>일자</th>\n",
       "      <th>언론사</th>\n",
       "      <th>기고자</th>\n",
       "      <th>제목</th>\n",
       "      <th>통합 분류1</th>\n",
       "      <th>통합 분류2</th>\n",
       "      <th>통합 분류3</th>\n",
       "      <th>사건/사고 분류1</th>\n",
       "      <th>사건/사고 분류2</th>\n",
       "      <th>사건/사고 분류3</th>\n",
       "      <th>개체명(인물)</th>\n",
       "      <th>개체명(지역)</th>\n",
       "      <th>개체명(기업/기관)</th>\n",
       "      <th>키워드</th>\n",
       "      <th>특성추출</th>\n",
       "      <th>본문</th>\n",
       "      <th>원본주소</th>\n",
       "    </tr>\n",
       "  </thead>\n",
       "  <tbody>\n",
       "    <tr>\n",
       "      <th>0</th>\n",
       "      <td>http://www.bigkinds.or.kr/news/newsDetailView....</td>\n",
       "      <td>20200801.0</td>\n",
       "      <td>경기일보</td>\n",
       "      <td>임진흥 기자</td>\n",
       "      <td>의왕시, 청소년 랜선 트롯 가요제 개최</td>\n",
       "      <td>문화&gt;전시_공연</td>\n",
       "      <td>NaN</td>\n",
       "      <td>NaN</td>\n",
       "      <td>NaN</td>\n",
       "      <td>NaN</td>\n",
       "      <td>NaN</td>\n",
       "      <td>NaN</td>\n",
       "      <td>의왕시 의왕학생축제</td>\n",
       "      <td>진로 의왕학생동아리연합회 의왕시장 의왕시</td>\n",
       "      <td>의왕시,청소년,랜선,트롯,가요,개최,의왕시,코로나,장기,진로체험,문화,활동,청소년들...</td>\n",
       "      <td>의왕시,온라인,실시간,의왕,가요제,엔터테이너,dream,오프라인,김상돈,유튜브,트롯...</td>\n",
       "      <td>의왕시는 코로나 19 장기화로 진로체험 및 문화 활동이 어려운 청소년들을 위해 진로...</td>\n",
       "      <td>www.kyeonggi.com/news/articleView.html idxno=2...</td>\n",
       "    </tr>\n",
       "    <tr>\n",
       "      <th>1</th>\n",
       "      <td>http://www.bigkinds.or.kr/news/newsDetailView....</td>\n",
       "      <td>20200801.0</td>\n",
       "      <td>경기일보</td>\n",
       "      <td>이광희 기자</td>\n",
       "      <td>이재명이 조폭 ' 악의적 허위사실 유포 90건 경찰 '고발'</td>\n",
       "      <td>사회&gt;미디어</td>\n",
       "      <td>지역&gt;경기</td>\n",
       "      <td>지역&gt;충남</td>\n",
       "      <td>NaN</td>\n",
       "      <td>NaN</td>\n",
       "      <td>NaN</td>\n",
       "      <td>백 백종덕 최정민 이재명</td>\n",
       "      <td>경기도지사 왜곡</td>\n",
       "      <td>서성민 변호사 가짜뉴스 일베 광주경찰서 분당경찰서</td>\n",
       "      <td>이재명이,조폭,악의,허위,사실,유포,경찰,고발,대책단,코로나19,가짜,백종덕,최정민...</td>\n",
       "      <td>이재명,가짜뉴스,악의적,공동단장,백종덕,허위사실,코로나19,90건,온라인,살해설,조...</td>\n",
       "      <td>코로나19 가짜뉴스 대책단(백종덕ㆍ최정민ㆍ서성민 변호사 공동단장)이 지난 29일 이...</td>\n",
       "      <td>www.kyeonggi.com/news/articleView.html idxno=2...</td>\n",
       "    </tr>\n",
       "    <tr>\n",
       "      <th>2</th>\n",
       "      <td>http://www.bigkinds.or.kr/news/newsDetailView....</td>\n",
       "      <td>20200801.0</td>\n",
       "      <td>한국경제</td>\n",
       "      <td>한경닷컴</td>\n",
       "      <td>모츠(MOTZ), 비대면 라이브 이벤트 솔루션 출시</td>\n",
       "      <td>IT_과학&gt;콘텐츠</td>\n",
       "      <td>IT_과학&gt;인터넷_SNS</td>\n",
       "      <td>IT_과학&gt;모바일</td>\n",
       "      <td>NaN</td>\n",
       "      <td>NaN</td>\n",
       "      <td>NaN</td>\n",
       "      <td>NaN</td>\n",
       "      <td>페기구 한국형 뉴딜정책 내한공연 한국 동계 평창</td>\n",
       "      <td>정부 세미나 프라이빗 한경닷컴 ㈜캐롯닷밀 비대면 캐롯닷밀 한국 페스티벌</td>\n",
       "      <td>모츠,MOTZ,출시,라이브,이벤트,솔루션,언택트,시대,마케팅,업계,변화,바람,오프라...</td>\n",
       "      <td>오프라인,모츠,한국,온라인,런칭,전문가,언택트,캐롯닷밀,뉴딜,엘튼,조슈아</td>\n",
       "      <td>지금까지와는 전혀 다른 언택트 시대가 다가오면서, 마케팅 업계에도 변화의 바람이 불...</td>\n",
       "      <td>https://www.hankyung.com/economy/article/20200...</td>\n",
       "    </tr>\n",
       "    <tr>\n",
       "      <th>3</th>\n",
       "      <td>http://www.bigkinds.or.kr/news/newsDetailView....</td>\n",
       "      <td>20200801.0</td>\n",
       "      <td>YTN</td>\n",
       "      <td>양시창</td>\n",
       "      <td>소리 못 질러도 괜찮아...'직관' 갈증 해소한 축구팬들</td>\n",
       "      <td>스포츠&gt;축구</td>\n",
       "      <td>스포츠&gt;농구_배구</td>\n",
       "      <td>스포츠&gt;월드컵</td>\n",
       "      <td>NaN</td>\n",
       "      <td>NaN</td>\n",
       "      <td>NaN</td>\n",
       "      <td>최용수</td>\n",
       "      <td>경기 광주도 성남 성남시 전북 전북도 포항</td>\n",
       "      <td>서울</td>\n",
       "      <td>소리,직관,갈증,해소,축구팬들,앵커,프로야구,프로축구,코로나,사태,관중,입장,허용,...</td>\n",
       "      <td>팬들,경기장,광주도,선수들,역전승,최용수,전북도,양시창,전후좌우,2칸,엄원,모라이스...</td>\n",
       "      <td>[앵커] ..프로야구에 이어 프로축구도 코로나 19 사태 뒤 처음으로 관중 입장이 ...</td>\n",
       "      <td>https://www.ytn.co.kr/_ln/0107_202008012223393076</td>\n",
       "    </tr>\n",
       "    <tr>\n",
       "      <th>4</th>\n",
       "      <td>http://www.bigkinds.or.kr/news/newsDetailView....</td>\n",
       "      <td>20200801.0</td>\n",
       "      <td>YTN</td>\n",
       "      <td>박철원</td>\n",
       "      <td>미, 코로나19 백신 대량 입도선매...EU·日도 백신 확보전 동참</td>\n",
       "      <td>국제&gt;미국_북미</td>\n",
       "      <td>IT_과학&gt;IT_과학일반</td>\n",
       "      <td>NaN</td>\n",
       "      <td>사회&gt;사회갈등&gt;시위</td>\n",
       "      <td>NaN</td>\n",
       "      <td>NaN</td>\n",
       "      <td>앤서니 파우치</td>\n",
       "      <td>미 미국 유럽 일본 프랑스</td>\n",
       "      <td>EU 미국 유럽연합 정부 제약사 집행위원회 행정부</td>\n",
       "      <td>코로나19,백신,대량,입도선매,EU·,동참,백신,확보전,앵커,세계적,재확산,코로나1...</td>\n",
       "      <td>미국,코로나19,제약사,사노피,유럽연합,행정부,유럽,상용화,5억,입도선매,사람들,임...</td>\n",
       "      <td>[앵커] ..전세계적으로 재확산 중인 코로나19가 진정될 조짐을 안 보이는 가운데 ...</td>\n",
       "      <td>https://www.ytn.co.kr/_ln/0104_202008010720568851</td>\n",
       "    </tr>\n",
       "  </tbody>\n",
       "</table>\n",
       "</div>"
      ],
      "text/plain": [
       "                                                  주소          일자   언론사  \\\n",
       "0  http://www.bigkinds.or.kr/news/newsDetailView....  20200801.0  경기일보   \n",
       "1  http://www.bigkinds.or.kr/news/newsDetailView....  20200801.0  경기일보   \n",
       "2  http://www.bigkinds.or.kr/news/newsDetailView....  20200801.0  한국경제   \n",
       "3  http://www.bigkinds.or.kr/news/newsDetailView....  20200801.0   YTN   \n",
       "4  http://www.bigkinds.or.kr/news/newsDetailView....  20200801.0   YTN   \n",
       "\n",
       "      기고자                                     제목     통합 분류1         통합 분류2  \\\n",
       "0  임진흥 기자                  의왕시, 청소년 랜선 트롯 가요제 개최   문화>전시_공연            NaN   \n",
       "1  이광희 기자      이재명이 조폭 ' 악의적 허위사실 유포 90건 경찰 '고발'     사회>미디어          지역>경기   \n",
       "2    한경닷컴           모츠(MOTZ), 비대면 라이브 이벤트 솔루션 출시  IT_과학>콘텐츠  IT_과학>인터넷_SNS   \n",
       "3     양시창        소리 못 질러도 괜찮아...'직관' 갈증 해소한 축구팬들     스포츠>축구      스포츠>농구_배구   \n",
       "4     박철원  미, 코로나19 백신 대량 입도선매...EU·日도 백신 확보전 동참   국제>미국_북미  IT_과학>IT_과학일반   \n",
       "\n",
       "      통합 분류3   사건/사고 분류1 사건/사고 분류2 사건/사고 분류3        개체명(인물)  \\\n",
       "0        NaN         NaN       NaN       NaN            NaN   \n",
       "1      지역>충남         NaN       NaN       NaN  백 백종덕 최정민 이재명   \n",
       "2  IT_과학>모바일         NaN       NaN       NaN            NaN   \n",
       "3    스포츠>월드컵         NaN       NaN       NaN            최용수   \n",
       "4        NaN  사회>사회갈등>시위       NaN       NaN        앤서니 파우치   \n",
       "\n",
       "                      개체명(지역)                               개체명(기업/기관)  \\\n",
       "0                  의왕시 의왕학생축제                   진로 의왕학생동아리연합회 의왕시장 의왕시   \n",
       "1                    경기도지사 왜곡              서성민 변호사 가짜뉴스 일베 광주경찰서 분당경찰서   \n",
       "2  페기구 한국형 뉴딜정책 내한공연 한국 동계 평창  정부 세미나 프라이빗 한경닷컴 ㈜캐롯닷밀 비대면 캐롯닷밀 한국 페스티벌   \n",
       "3     경기 광주도 성남 성남시 전북 전북도 포항                                       서울   \n",
       "4              미 미국 유럽 일본 프랑스              EU 미국 유럽연합 정부 제약사 집행위원회 행정부   \n",
       "\n",
       "                                                 키워드  \\\n",
       "0  의왕시,청소년,랜선,트롯,가요,개최,의왕시,코로나,장기,진로체험,문화,활동,청소년들...   \n",
       "1  이재명이,조폭,악의,허위,사실,유포,경찰,고발,대책단,코로나19,가짜,백종덕,최정민...   \n",
       "2  모츠,MOTZ,출시,라이브,이벤트,솔루션,언택트,시대,마케팅,업계,변화,바람,오프라...   \n",
       "3  소리,직관,갈증,해소,축구팬들,앵커,프로야구,프로축구,코로나,사태,관중,입장,허용,...   \n",
       "4  코로나19,백신,대량,입도선매,EU·,동참,백신,확보전,앵커,세계적,재확산,코로나1...   \n",
       "\n",
       "                                                특성추출  \\\n",
       "0  의왕시,온라인,실시간,의왕,가요제,엔터테이너,dream,오프라인,김상돈,유튜브,트롯...   \n",
       "1  이재명,가짜뉴스,악의적,공동단장,백종덕,허위사실,코로나19,90건,온라인,살해설,조...   \n",
       "2           오프라인,모츠,한국,온라인,런칭,전문가,언택트,캐롯닷밀,뉴딜,엘튼,조슈아   \n",
       "3  팬들,경기장,광주도,선수들,역전승,최용수,전북도,양시창,전후좌우,2칸,엄원,모라이스...   \n",
       "4  미국,코로나19,제약사,사노피,유럽연합,행정부,유럽,상용화,5억,입도선매,사람들,임...   \n",
       "\n",
       "                                                  본문  \\\n",
       "0  의왕시는 코로나 19 장기화로 진로체험 및 문화 활동이 어려운 청소년들을 위해 진로...   \n",
       "1  코로나19 가짜뉴스 대책단(백종덕ㆍ최정민ㆍ서성민 변호사 공동단장)이 지난 29일 이...   \n",
       "2  지금까지와는 전혀 다른 언택트 시대가 다가오면서, 마케팅 업계에도 변화의 바람이 불...   \n",
       "3  [앵커] ..프로야구에 이어 프로축구도 코로나 19 사태 뒤 처음으로 관중 입장이 ...   \n",
       "4  [앵커] ..전세계적으로 재확산 중인 코로나19가 진정될 조짐을 안 보이는 가운데 ...   \n",
       "\n",
       "                                                원본주소  \n",
       "0  www.kyeonggi.com/news/articleView.html idxno=2...  \n",
       "1  www.kyeonggi.com/news/articleView.html idxno=2...  \n",
       "2  https://www.hankyung.com/economy/article/20200...  \n",
       "3  https://www.ytn.co.kr/_ln/0107_202008012223393076  \n",
       "4  https://www.ytn.co.kr/_ln/0104_202008010720568851  "
      ]
     },
     "execution_count": 6,
     "metadata": {},
     "output_type": "execute_result"
    }
   ],
   "source": [
    "df.head()"
   ]
  },
  {
   "cell_type": "code",
   "execution_count": 26,
   "metadata": {},
   "outputs": [
    {
     "data": {
      "text/html": [
       "<div>\n",
       "<style scoped>\n",
       "    .dataframe tbody tr th:only-of-type {\n",
       "        vertical-align: middle;\n",
       "    }\n",
       "\n",
       "    .dataframe tbody tr th {\n",
       "        vertical-align: top;\n",
       "    }\n",
       "\n",
       "    .dataframe thead th {\n",
       "        text-align: right;\n",
       "    }\n",
       "</style>\n",
       "<table border=\"1\" class=\"dataframe\">\n",
       "  <thead>\n",
       "    <tr style=\"text-align: right;\">\n",
       "      <th></th>\n",
       "      <th>주소</th>\n",
       "      <th>일자</th>\n",
       "      <th>언론사</th>\n",
       "      <th>기고자</th>\n",
       "      <th>제목</th>\n",
       "      <th>통합 분류1</th>\n",
       "      <th>통합 분류2</th>\n",
       "      <th>통합 분류3</th>\n",
       "      <th>사건/사고 분류1</th>\n",
       "      <th>사건/사고 분류2</th>\n",
       "      <th>사건/사고 분류3</th>\n",
       "      <th>개체명(인물)</th>\n",
       "      <th>개체명(지역)</th>\n",
       "      <th>개체명(기업/기관)</th>\n",
       "      <th>키워드</th>\n",
       "      <th>특성추출</th>\n",
       "      <th>본문</th>\n",
       "      <th>원본주소</th>\n",
       "    </tr>\n",
       "  </thead>\n",
       "  <tbody>\n",
       "    <tr>\n",
       "      <th>108942</th>\n",
       "      <td>http://www.bigkinds.or.kr/news/newsDetailView....</td>\n",
       "      <td>20200831.0</td>\n",
       "      <td>매일경제</td>\n",
       "      <td>고득관</td>\n",
       "      <td>코스피, 외국인 1조원 매도에 급락 전환…2330선 후퇴</td>\n",
       "      <td>경제&gt;증권_증시</td>\n",
       "      <td>경제&gt;외환</td>\n",
       "      <td>경제&gt;부동산</td>\n",
       "      <td>범죄&gt;기업범죄&gt;거래제한</td>\n",
       "      <td>NaN</td>\n",
       "      <td>NaN</td>\n",
       "      <td>NaN</td>\n",
       "      <td>NaN</td>\n",
       "      <td>배드민턴장 수도권 유가증권 정부 중앙방역대책본부 커피전문점</td>\n",
       "      <td>코스피,외국인,매도,급락,전환,2330선,후퇴,출발,급등,코스피,외국인,매도세,급락...</td>\n",
       "      <td>코로나19,외국인,코스피,2330선,1조,확진자,종목들,감염증,하이닉스,삼성,셀트리...</td>\n",
       "      <td>1%대 급등 출발했던 코스피가 외국인의 강한 매도세에 급락세로 돌아섰다... 237...</td>\n",
       "      <td>http://news.mk.co.kr/newsRead.php no=895468&amp;ye...</td>\n",
       "    </tr>\n",
       "    <tr>\n",
       "      <th>108943</th>\n",
       "      <td>http://www.bigkinds.or.kr/news/newsDetailView....</td>\n",
       "      <td>20200831.0</td>\n",
       "      <td>매일경제</td>\n",
       "      <td>김경택</td>\n",
       "      <td>다이노나, `DNP002` 영장류 실험서 호중구 제거 효과 입증</td>\n",
       "      <td>사회&gt;사회일반</td>\n",
       "      <td>IT_과학&gt;과학</td>\n",
       "      <td>NaN</td>\n",
       "      <td>NaN</td>\n",
       "      <td>NaN</td>\n",
       "      <td>NaN</td>\n",
       "      <td>NaN</td>\n",
       "      <td>NaN</td>\n",
       "      <td>금호에이치티 식품의약품안전처</td>\n",
       "      <td>다이노나,DNP002,영장,실험,호중구,제거,효과,입증,금호에이치티,합병,추진,다이...</td>\n",
       "      <td>다이노나,호중구,ards,코로나19,dnp002,기대감,만큼,영장류,고형암,치료제,...</td>\n",
       "      <td>최근 금호에이치티와 합병 추진을 발표한 다이노나는 자체 개발 항체 신약 ..'DNP...</td>\n",
       "      <td>http://news.mk.co.kr/newsRead.php no=895441&amp;ye...</td>\n",
       "    </tr>\n",
       "    <tr>\n",
       "      <th>108944</th>\n",
       "      <td>http://www.bigkinds.or.kr/news/newsDetailView....</td>\n",
       "      <td>20200831.0</td>\n",
       "      <td>매일경제</td>\n",
       "      <td>이남경</td>\n",
       "      <td>폴킴, ‘집돌이 챌린지’ 진행…사회적 거리 두기 딱 맞는 독려 이벤트</td>\n",
       "      <td>문화&gt;전시_공연</td>\n",
       "      <td>NaN</td>\n",
       "      <td>NaN</td>\n",
       "      <td>NaN</td>\n",
       "      <td>NaN</td>\n",
       "      <td>NaN</td>\n",
       "      <td>NaN</td>\n",
       "      <td>NaN</td>\n",
       "      <td>MBN스타 국립 뉴런뮤직 서울의료원</td>\n",
       "      <td>폴킴,집돌,챌린지,진행,사회적,거리,독려,이벤트,싱어송라이터,폴킴,집돌,챌린지,진행...</td>\n",
       "      <td>폴킴,코로나19,서울의료원,대중문화부,집돌이,언택트,집돌,대중들,시민들,국민들,뉴런...</td>\n",
       "      <td>싱어송라이터 폴킴이 ..‘집돌이 챌린지’를 진행한다. .. ..소속사 뉴런뮤직은 최...</td>\n",
       "      <td>http://star.mbn.co.kr/view.php year=2020&amp;no=89...</td>\n",
       "    </tr>\n",
       "    <tr>\n",
       "      <th>108945</th>\n",
       "      <td>http://www.bigkinds.or.kr/news/newsDetailView....</td>\n",
       "      <td>20200831.0</td>\n",
       "      <td>매일경제</td>\n",
       "      <td>이다겸</td>\n",
       "      <td>폴킴, ‘집돌이 챌린지’ 개최...코로나19 사회적 거리두기 독려</td>\n",
       "      <td>문화&gt;전시_공연</td>\n",
       "      <td>지역&gt;경북</td>\n",
       "      <td>지역&gt;대전</td>\n",
       "      <td>NaN</td>\n",
       "      <td>NaN</td>\n",
       "      <td>NaN</td>\n",
       "      <td>NaN</td>\n",
       "      <td>수도권</td>\n",
       "      <td>국립 뉴런뮤직 서울의료원</td>\n",
       "      <td>폴킴,집돌,챌린지,개최,코로나19,사회,거리,독려,거리,수도,사회,2.5단계,격상,...</td>\n",
       "      <td>폴킴,코로나19,서울의료원,집돌이,언택트,집돌,대중들,시민들,뉴런뮤직,국민들,겨냥곡...</td>\n",
       "      <td>[매일경제 스타투데이 이다겸 기자] ..수도권 사회적 거리두기가 2.5단계로 격상된...</td>\n",
       "      <td>http://star.mk.co.kr/new/view.php mc=ST&amp;year=2...</td>\n",
       "    </tr>\n",
       "    <tr>\n",
       "      <th>108946</th>\n",
       "      <td>http://www.bigkinds.or.kr/news/newsDetailView....</td>\n",
       "      <td>20200831.0</td>\n",
       "      <td>한국경제</td>\n",
       "      <td>강동균(kdg@hankyung.com);</td>\n",
       "      <td>中 큰손들 홍콩 부동산 '쇼핑'…한 달간 6000억원어치 쓸어담아</td>\n",
       "      <td>국제&gt;중국</td>\n",
       "      <td>경제&gt;부동산</td>\n",
       "      <td>경제&gt;유통</td>\n",
       "      <td>사회&gt;사회갈등&gt;시위</td>\n",
       "      <td>NaN</td>\n",
       "      <td>NaN</td>\n",
       "      <td>대니얼 웡</td>\n",
       "      <td>40억홍콩달러 경기 미들랜드 중국 최고경영자 홍콩</td>\n",
       "      <td>CBRE IC&amp;I 로이터통신</td>\n",
       "      <td>쇼핑,큰손,홍콩,부동산,원어치,홍콩,국가,보안법,홍콩보안법,시행,외국인들,시장,홍콩...</td>\n",
       "      <td>홍콩,부동산,외국인,투자자,중국,홍콩보안법,대니얼,중국인,보안법,코로나바이러스,송환...</td>\n",
       "      <td>홍콩 국가보안법(홍콩보안법) 시행 이후 외국인들이 빠져나가고 있는 홍콩 부동산 시장...</td>\n",
       "      <td>https://www.hankyung.com/international/article...</td>\n",
       "    </tr>\n",
       "  </tbody>\n",
       "</table>\n",
       "</div>"
      ],
      "text/plain": [
       "                                                       주소          일자   언론사  \\\n",
       "108942  http://www.bigkinds.or.kr/news/newsDetailView....  20200831.0  매일경제   \n",
       "108943  http://www.bigkinds.or.kr/news/newsDetailView....  20200831.0  매일경제   \n",
       "108944  http://www.bigkinds.or.kr/news/newsDetailView....  20200831.0  매일경제   \n",
       "108945  http://www.bigkinds.or.kr/news/newsDetailView....  20200831.0  매일경제   \n",
       "108946  http://www.bigkinds.or.kr/news/newsDetailView....  20200831.0  한국경제   \n",
       "\n",
       "                           기고자                                      제목  \\\n",
       "108942                     고득관         코스피, 외국인 1조원 매도에 급락 전환…2330선 후퇴   \n",
       "108943                     김경택     다이노나, `DNP002` 영장류 실험서 호중구 제거 효과 입증   \n",
       "108944                     이남경  폴킴, ‘집돌이 챌린지’ 진행…사회적 거리 두기 딱 맞는 독려 이벤트   \n",
       "108945                     이다겸    폴킴, ‘집돌이 챌린지’ 개최...코로나19 사회적 거리두기 독려   \n",
       "108946  강동균(kdg@hankyung.com);    中 큰손들 홍콩 부동산 '쇼핑'…한 달간 6000억원어치 쓸어담아   \n",
       "\n",
       "          통합 분류1    통합 분류2  통합 분류3     사건/사고 분류1 사건/사고 분류2 사건/사고 분류3 개체명(인물)  \\\n",
       "108942  경제>증권_증시     경제>외환  경제>부동산  범죄>기업범죄>거래제한       NaN       NaN     NaN   \n",
       "108943   사회>사회일반  IT_과학>과학     NaN           NaN       NaN       NaN     NaN   \n",
       "108944  문화>전시_공연       NaN     NaN           NaN       NaN       NaN     NaN   \n",
       "108945  문화>전시_공연     지역>경북   지역>대전           NaN       NaN       NaN     NaN   \n",
       "108946     국제>중국    경제>부동산   경제>유통    사회>사회갈등>시위       NaN       NaN   대니얼 웡   \n",
       "\n",
       "                            개체명(지역)                        개체명(기업/기관)  \\\n",
       "108942                          NaN  배드민턴장 수도권 유가증권 정부 중앙방역대책본부 커피전문점   \n",
       "108943                          NaN                   금호에이치티 식품의약품안전처   \n",
       "108944                          NaN               MBN스타 국립 뉴런뮤직 서울의료원   \n",
       "108945                          수도권                     국립 뉴런뮤직 서울의료원   \n",
       "108946  40억홍콩달러 경기 미들랜드 중국 최고경영자 홍콩                   CBRE IC&I 로이터통신   \n",
       "\n",
       "                                                      키워드  \\\n",
       "108942  코스피,외국인,매도,급락,전환,2330선,후퇴,출발,급등,코스피,외국인,매도세,급락...   \n",
       "108943  다이노나,DNP002,영장,실험,호중구,제거,효과,입증,금호에이치티,합병,추진,다이...   \n",
       "108944  폴킴,집돌,챌린지,진행,사회적,거리,독려,이벤트,싱어송라이터,폴킴,집돌,챌린지,진행...   \n",
       "108945  폴킴,집돌,챌린지,개최,코로나19,사회,거리,독려,거리,수도,사회,2.5단계,격상,...   \n",
       "108946  쇼핑,큰손,홍콩,부동산,원어치,홍콩,국가,보안법,홍콩보안법,시행,외국인들,시장,홍콩...   \n",
       "\n",
       "                                                     특성추출  \\\n",
       "108942  코로나19,외국인,코스피,2330선,1조,확진자,종목들,감염증,하이닉스,삼성,셀트리...   \n",
       "108943  다이노나,호중구,ards,코로나19,dnp002,기대감,만큼,영장류,고형암,치료제,...   \n",
       "108944  폴킴,코로나19,서울의료원,대중문화부,집돌이,언택트,집돌,대중들,시민들,국민들,뉴런...   \n",
       "108945  폴킴,코로나19,서울의료원,집돌이,언택트,집돌,대중들,시민들,뉴런뮤직,국민들,겨냥곡...   \n",
       "108946  홍콩,부동산,외국인,투자자,중국,홍콩보안법,대니얼,중국인,보안법,코로나바이러스,송환...   \n",
       "\n",
       "                                                       본문  \\\n",
       "108942  1%대 급등 출발했던 코스피가 외국인의 강한 매도세에 급락세로 돌아섰다... 237...   \n",
       "108943  최근 금호에이치티와 합병 추진을 발표한 다이노나는 자체 개발 항체 신약 ..'DNP...   \n",
       "108944  싱어송라이터 폴킴이 ..‘집돌이 챌린지’를 진행한다. .. ..소속사 뉴런뮤직은 최...   \n",
       "108945  [매일경제 스타투데이 이다겸 기자] ..수도권 사회적 거리두기가 2.5단계로 격상된...   \n",
       "108946  홍콩 국가보안법(홍콩보안법) 시행 이후 외국인들이 빠져나가고 있는 홍콩 부동산 시장...   \n",
       "\n",
       "                                                     원본주소  \n",
       "108942  http://news.mk.co.kr/newsRead.php no=895468&ye...  \n",
       "108943  http://news.mk.co.kr/newsRead.php no=895441&ye...  \n",
       "108944  http://star.mbn.co.kr/view.php year=2020&no=89...  \n",
       "108945  http://star.mk.co.kr/new/view.php mc=ST&year=2...  \n",
       "108946  https://www.hankyung.com/international/article...  "
      ]
     },
     "execution_count": 26,
     "metadata": {},
     "output_type": "execute_result"
    }
   ],
   "source": [
    "df.tail()"
   ]
  },
  {
   "cell_type": "markdown",
   "metadata": {},
   "source": [
    "## 데이터 요약하기\n",
    "### 요약 정보"
   ]
  },
  {
   "cell_type": "code",
   "execution_count": 7,
   "metadata": {},
   "outputs": [
    {
     "name": "stdout",
     "output_type": "stream",
     "text": [
      "<class 'pandas.core.frame.DataFrame'>\n",
      "RangeIndex: 108947 entries, 0 to 108946\n",
      "Data columns (total 18 columns):\n",
      " #   Column      Non-Null Count   Dtype  \n",
      "---  ------      --------------   -----  \n",
      " 0   주소          108947 non-null  object \n",
      " 1   일자          106090 non-null  float64\n",
      " 2   언론사         106091 non-null  object \n",
      " 3   기고자         102059 non-null  object \n",
      " 4   제목          106091 non-null  object \n",
      " 5   통합 분류1      102346 non-null  object \n",
      " 6   통합 분류2      81882 non-null   object \n",
      " 7   통합 분류3      65321 non-null   object \n",
      " 8   사건/사고 분류1   11018 non-null   object \n",
      " 9   사건/사고 분류2   2112 non-null    object \n",
      " 10  사건/사고 분류3   600 non-null     object \n",
      " 11  개체명(인물)     63519 non-null   object \n",
      " 12  개체명(지역)     95037 non-null   object \n",
      " 13  개체명(기업/기관)  101898 non-null  object \n",
      " 14  키워드         106089 non-null  object \n",
      " 15  특성추출        106089 non-null  object \n",
      " 16  본문          106089 non-null  object \n",
      " 17  원본주소        104963 non-null  object \n",
      "dtypes: float64(1), object(17)\n",
      "memory usage: 15.0+ MB\n"
     ]
    }
   ],
   "source": [
    "# info로 데이터의 요약을 볼 수 있다.\n",
    "df.info()"
   ]
  },
  {
   "cell_type": "markdown",
   "metadata": {},
   "source": [
    "### Column 명 보기"
   ]
  },
  {
   "cell_type": "code",
   "execution_count": 8,
   "metadata": {},
   "outputs": [
    {
     "data": {
      "text/plain": [
       "Index(['주소', '일자', '언론사', '기고자', '제목', '통합 분류1', '통합 분류2', '통합 분류3',\n",
       "       '사건/사고 분류1', '사건/사고 분류2', '사건/사고 분류3', '개체명(인물)', '개체명(지역)',\n",
       "       '개체명(기업/기관)', '키워드', '특성추출', '본문', '원본주소'],\n",
       "      dtype='object')"
      ]
     },
     "execution_count": 8,
     "metadata": {},
     "output_type": "execute_result"
    }
   ],
   "source": [
    "# 컬럼명만 출력해보기.\n",
    "df.columns"
   ]
  },
  {
   "cell_type": "markdown",
   "metadata": {},
   "source": [
    "### 데이터 타입"
   ]
  },
  {
   "cell_type": "code",
   "execution_count": 9,
   "metadata": {},
   "outputs": [
    {
     "data": {
      "text/plain": [
       "주소             object\n",
       "일자            float64\n",
       "언론사            object\n",
       "기고자            object\n",
       "제목             object\n",
       "통합 분류1         object\n",
       "통합 분류2         object\n",
       "통합 분류3         object\n",
       "사건/사고 분류1      object\n",
       "사건/사고 분류2      object\n",
       "사건/사고 분류3      object\n",
       "개체명(인물)        object\n",
       "개체명(지역)        object\n",
       "개체명(기업/기관)     object\n",
       "키워드            object\n",
       "특성추출           object\n",
       "본문             object\n",
       "원본주소           object\n",
       "dtype: object"
      ]
     },
     "execution_count": 9,
     "metadata": {},
     "output_type": "execute_result"
    }
   ],
   "source": [
    "# 데이터 타입만 출력하기.\n",
    "df.dtypes"
   ]
  },
  {
   "cell_type": "markdown",
   "metadata": {},
   "source": [
    "## 결측치\n"
   ]
  },
  {
   "cell_type": "code",
   "execution_count": 10,
   "metadata": {},
   "outputs": [
    {
     "data": {
      "text/plain": [
       "주소                 0\n",
       "일자              2857\n",
       "언론사             2856\n",
       "기고자             6888\n",
       "제목              2856\n",
       "통합 분류1          6601\n",
       "통합 분류2         27065\n",
       "통합 분류3         43626\n",
       "사건/사고 분류1      97929\n",
       "사건/사고 분류2     106835\n",
       "사건/사고 분류3     108347\n",
       "개체명(인물)        45428\n",
       "개체명(지역)        13910\n",
       "개체명(기업/기관)      7049\n",
       "키워드             2858\n",
       "특성추출            2858\n",
       "본문              2858\n",
       "원본주소            3984\n",
       "dtype: int64"
      ]
     },
     "execution_count": 10,
     "metadata": {},
     "output_type": "execute_result"
    }
   ],
   "source": [
    "null_count = df.isnull().sum()\n",
    "null_count"
   ]
  },
  {
   "cell_type": "markdown",
   "metadata": {},
   "source": [
    "### 시각화하기"
   ]
  },
  {
   "cell_type": "code",
   "execution_count": 11,
   "metadata": {},
   "outputs": [
    {
     "data": {
      "text/plain": [
       "<AxesSubplot:>"
      ]
     },
     "execution_count": 11,
     "metadata": {},
     "output_type": "execute_result"
    },
    {
     "data": {
      "image/png": "[encoded data removed]",
      "text/plain": [
       "<Figure size 360x504 with 1 Axes>"
      ]
     },
     "metadata": {
      "image/png": {
       "height": 411,
       "width": 385
      },
      "needs_background": "light"
     },
     "output_type": "display_data"
    }
   ],
   "source": [
    "# 위에서 구한 결측치를 .plot.bar 을 통해 막대그래프로 표현합니다.\n",
    "null_count.plot.barh(figsize=(5,7))"
   ]
  },
  {
   "cell_type": "code",
   "execution_count": 12,
   "metadata": {},
   "outputs": [
    {
     "data": {
      "text/html": [
       "<div>\n",
       "<style scoped>\n",
       "    .dataframe tbody tr th:only-of-type {\n",
       "        vertical-align: middle;\n",
       "    }\n",
       "\n",
       "    .dataframe tbody tr th {\n",
       "        vertical-align: top;\n",
       "    }\n",
       "\n",
       "    .dataframe thead th {\n",
       "        text-align: right;\n",
       "    }\n",
       "</style>\n",
       "<table border=\"1\" class=\"dataframe\">\n",
       "  <thead>\n",
       "    <tr style=\"text-align: right;\">\n",
       "      <th></th>\n",
       "      <th>index</th>\n",
       "      <th>0</th>\n",
       "    </tr>\n",
       "  </thead>\n",
       "  <tbody>\n",
       "    <tr>\n",
       "      <th>0</th>\n",
       "      <td>주소</td>\n",
       "      <td>0</td>\n",
       "    </tr>\n",
       "    <tr>\n",
       "      <th>1</th>\n",
       "      <td>일자</td>\n",
       "      <td>2857</td>\n",
       "    </tr>\n",
       "    <tr>\n",
       "      <th>2</th>\n",
       "      <td>언론사</td>\n",
       "      <td>2856</td>\n",
       "    </tr>\n",
       "    <tr>\n",
       "      <th>3</th>\n",
       "      <td>기고자</td>\n",
       "      <td>6888</td>\n",
       "    </tr>\n",
       "    <tr>\n",
       "      <th>4</th>\n",
       "      <td>제목</td>\n",
       "      <td>2856</td>\n",
       "    </tr>\n",
       "    <tr>\n",
       "      <th>5</th>\n",
       "      <td>통합 분류1</td>\n",
       "      <td>6601</td>\n",
       "    </tr>\n",
       "    <tr>\n",
       "      <th>6</th>\n",
       "      <td>통합 분류2</td>\n",
       "      <td>27065</td>\n",
       "    </tr>\n",
       "    <tr>\n",
       "      <th>7</th>\n",
       "      <td>통합 분류3</td>\n",
       "      <td>43626</td>\n",
       "    </tr>\n",
       "    <tr>\n",
       "      <th>8</th>\n",
       "      <td>사건/사고 분류1</td>\n",
       "      <td>97929</td>\n",
       "    </tr>\n",
       "    <tr>\n",
       "      <th>9</th>\n",
       "      <td>사건/사고 분류2</td>\n",
       "      <td>106835</td>\n",
       "    </tr>\n",
       "    <tr>\n",
       "      <th>10</th>\n",
       "      <td>사건/사고 분류3</td>\n",
       "      <td>108347</td>\n",
       "    </tr>\n",
       "    <tr>\n",
       "      <th>11</th>\n",
       "      <td>개체명(인물)</td>\n",
       "      <td>45428</td>\n",
       "    </tr>\n",
       "    <tr>\n",
       "      <th>12</th>\n",
       "      <td>개체명(지역)</td>\n",
       "      <td>13910</td>\n",
       "    </tr>\n",
       "    <tr>\n",
       "      <th>13</th>\n",
       "      <td>개체명(기업/기관)</td>\n",
       "      <td>7049</td>\n",
       "    </tr>\n",
       "    <tr>\n",
       "      <th>14</th>\n",
       "      <td>키워드</td>\n",
       "      <td>2858</td>\n",
       "    </tr>\n",
       "    <tr>\n",
       "      <th>15</th>\n",
       "      <td>특성추출</td>\n",
       "      <td>2858</td>\n",
       "    </tr>\n",
       "    <tr>\n",
       "      <th>16</th>\n",
       "      <td>본문</td>\n",
       "      <td>2858</td>\n",
       "    </tr>\n",
       "    <tr>\n",
       "      <th>17</th>\n",
       "      <td>원본주소</td>\n",
       "      <td>3984</td>\n",
       "    </tr>\n",
       "  </tbody>\n",
       "</table>\n",
       "</div>"
      ],
      "text/plain": [
       "         index       0\n",
       "0           주소       0\n",
       "1           일자    2857\n",
       "2          언론사    2856\n",
       "3          기고자    6888\n",
       "4           제목    2856\n",
       "5       통합 분류1    6601\n",
       "6       통합 분류2   27065\n",
       "7       통합 분류3   43626\n",
       "8    사건/사고 분류1   97929\n",
       "9    사건/사고 분류2  106835\n",
       "10   사건/사고 분류3  108347\n",
       "11     개체명(인물)   45428\n",
       "12     개체명(지역)   13910\n",
       "13  개체명(기업/기관)    7049\n",
       "14         키워드    2858\n",
       "15        특성추출    2858\n",
       "16          본문    2858\n",
       "17        원본주소    3984"
      ]
     },
     "execution_count": 12,
     "metadata": {},
     "output_type": "execute_result"
    }
   ],
   "source": [
    "# 위에서 계산한 결측치 수를 reset_index를 통해 데이터 프레임으로 만들어 줍니다.\n",
    "# df_null_count 변수에 결과를 담아서 head로 미리보기를 합니다.\n",
    "\n",
    "df_null_count = null_count.reset_index()\n",
    "df_null_count"
   ]
  },
  {
   "cell_type": "markdown",
   "metadata": {},
   "source": [
    "## 컬럼명 변경하기"
   ]
  },
  {
   "cell_type": "code",
   "execution_count": 13,
   "metadata": {},
   "outputs": [
    {
     "data": {
      "text/html": [
       "<div>\n",
       "<style scoped>\n",
       "    .dataframe tbody tr th:only-of-type {\n",
       "        vertical-align: middle;\n",
       "    }\n",
       "\n",
       "    .dataframe tbody tr th {\n",
       "        vertical-align: top;\n",
       "    }\n",
       "\n",
       "    .dataframe thead th {\n",
       "        text-align: right;\n",
       "    }\n",
       "</style>\n",
       "<table border=\"1\" class=\"dataframe\">\n",
       "  <thead>\n",
       "    <tr style=\"text-align: right;\">\n",
       "      <th></th>\n",
       "      <th>컬럼명</th>\n",
       "      <th>결측치수</th>\n",
       "    </tr>\n",
       "  </thead>\n",
       "  <tbody>\n",
       "    <tr>\n",
       "      <th>0</th>\n",
       "      <td>주소</td>\n",
       "      <td>0</td>\n",
       "    </tr>\n",
       "    <tr>\n",
       "      <th>1</th>\n",
       "      <td>일자</td>\n",
       "      <td>2857</td>\n",
       "    </tr>\n",
       "    <tr>\n",
       "      <th>2</th>\n",
       "      <td>언론사</td>\n",
       "      <td>2856</td>\n",
       "    </tr>\n",
       "    <tr>\n",
       "      <th>3</th>\n",
       "      <td>기고자</td>\n",
       "      <td>6888</td>\n",
       "    </tr>\n",
       "    <tr>\n",
       "      <th>4</th>\n",
       "      <td>제목</td>\n",
       "      <td>2856</td>\n",
       "    </tr>\n",
       "    <tr>\n",
       "      <th>5</th>\n",
       "      <td>통합 분류1</td>\n",
       "      <td>6601</td>\n",
       "    </tr>\n",
       "    <tr>\n",
       "      <th>6</th>\n",
       "      <td>통합 분류2</td>\n",
       "      <td>27065</td>\n",
       "    </tr>\n",
       "    <tr>\n",
       "      <th>7</th>\n",
       "      <td>통합 분류3</td>\n",
       "      <td>43626</td>\n",
       "    </tr>\n",
       "    <tr>\n",
       "      <th>8</th>\n",
       "      <td>사건/사고 분류1</td>\n",
       "      <td>97929</td>\n",
       "    </tr>\n",
       "    <tr>\n",
       "      <th>9</th>\n",
       "      <td>사건/사고 분류2</td>\n",
       "      <td>106835</td>\n",
       "    </tr>\n",
       "    <tr>\n",
       "      <th>10</th>\n",
       "      <td>사건/사고 분류3</td>\n",
       "      <td>108347</td>\n",
       "    </tr>\n",
       "    <tr>\n",
       "      <th>11</th>\n",
       "      <td>개체명(인물)</td>\n",
       "      <td>45428</td>\n",
       "    </tr>\n",
       "    <tr>\n",
       "      <th>12</th>\n",
       "      <td>개체명(지역)</td>\n",
       "      <td>13910</td>\n",
       "    </tr>\n",
       "    <tr>\n",
       "      <th>13</th>\n",
       "      <td>개체명(기업/기관)</td>\n",
       "      <td>7049</td>\n",
       "    </tr>\n",
       "    <tr>\n",
       "      <th>14</th>\n",
       "      <td>키워드</td>\n",
       "      <td>2858</td>\n",
       "    </tr>\n",
       "    <tr>\n",
       "      <th>15</th>\n",
       "      <td>특성추출</td>\n",
       "      <td>2858</td>\n",
       "    </tr>\n",
       "    <tr>\n",
       "      <th>16</th>\n",
       "      <td>본문</td>\n",
       "      <td>2858</td>\n",
       "    </tr>\n",
       "    <tr>\n",
       "      <th>17</th>\n",
       "      <td>원본주소</td>\n",
       "      <td>3984</td>\n",
       "    </tr>\n",
       "  </tbody>\n",
       "</table>\n",
       "</div>"
      ],
      "text/plain": [
       "           컬럼명    결측치수\n",
       "0           주소       0\n",
       "1           일자    2857\n",
       "2          언론사    2856\n",
       "3          기고자    6888\n",
       "4           제목    2856\n",
       "5       통합 분류1    6601\n",
       "6       통합 분류2   27065\n",
       "7       통합 분류3   43626\n",
       "8    사건/사고 분류1   97929\n",
       "9    사건/사고 분류2  106835\n",
       "10   사건/사고 분류3  108347\n",
       "11     개체명(인물)   45428\n",
       "12     개체명(지역)   13910\n",
       "13  개체명(기업/기관)    7049\n",
       "14         키워드    2858\n",
       "15        특성추출    2858\n",
       "16          본문    2858\n",
       "17        원본주소    3984"
      ]
     },
     "execution_count": 13,
     "metadata": {},
     "output_type": "execute_result"
    }
   ],
   "source": [
    "# df_null_count 변수에 담겨있는 컬럼의 이름을 \"컬럼명\", \"결측치수\" 로 변경해 줍니다.\n",
    "df_null_count.columns = ['컬럼명', '결측치수']\n",
    "df_null_count"
   ]
  },
  {
   "cell_type": "markdown",
   "metadata": {},
   "source": [
    "## 정렬하기"
   ]
  },
  {
   "cell_type": "code",
   "execution_count": 14,
   "metadata": {},
   "outputs": [
    {
     "data": {
      "text/html": [
       "<div>\n",
       "<style scoped>\n",
       "    .dataframe tbody tr th:only-of-type {\n",
       "        vertical-align: middle;\n",
       "    }\n",
       "\n",
       "    .dataframe tbody tr th {\n",
       "        vertical-align: top;\n",
       "    }\n",
       "\n",
       "    .dataframe thead th {\n",
       "        text-align: right;\n",
       "    }\n",
       "</style>\n",
       "<table border=\"1\" class=\"dataframe\">\n",
       "  <thead>\n",
       "    <tr style=\"text-align: right;\">\n",
       "      <th></th>\n",
       "      <th>컬럼명</th>\n",
       "      <th>결측치수</th>\n",
       "    </tr>\n",
       "  </thead>\n",
       "  <tbody>\n",
       "    <tr>\n",
       "      <th>10</th>\n",
       "      <td>사건/사고 분류3</td>\n",
       "      <td>108347</td>\n",
       "    </tr>\n",
       "    <tr>\n",
       "      <th>9</th>\n",
       "      <td>사건/사고 분류2</td>\n",
       "      <td>106835</td>\n",
       "    </tr>\n",
       "    <tr>\n",
       "      <th>8</th>\n",
       "      <td>사건/사고 분류1</td>\n",
       "      <td>97929</td>\n",
       "    </tr>\n",
       "    <tr>\n",
       "      <th>11</th>\n",
       "      <td>개체명(인물)</td>\n",
       "      <td>45428</td>\n",
       "    </tr>\n",
       "    <tr>\n",
       "      <th>7</th>\n",
       "      <td>통합 분류3</td>\n",
       "      <td>43626</td>\n",
       "    </tr>\n",
       "  </tbody>\n",
       "</table>\n",
       "</div>"
      ],
      "text/plain": [
       "          컬럼명    결측치수\n",
       "10  사건/사고 분류3  108347\n",
       "9   사건/사고 분류2  106835\n",
       "8   사건/사고 분류1   97929\n",
       "11    개체명(인물)   45428\n",
       "7      통합 분류3   43626"
      ]
     },
     "execution_count": 14,
     "metadata": {},
     "output_type": "execute_result"
    }
   ],
   "source": [
    "# df_null_count 데이터 프레임에 있는 결측치수 컬럼을 sort_values를 통해 정렬핵서\n",
    "# 결측치가 많은 순 상위 3개만 출력합니다.\n",
    "\n",
    "df_null_count_top = df_null_count.sort_values(by=\"결측치수\", ascending=False).head(5)\n",
    "df_null_count_top"
   ]
  },
  {
   "cell_type": "markdown",
   "metadata": {},
   "source": [
    "## 특정 컬럼만 불러오기"
   ]
  },
  {
   "cell_type": "code",
   "execution_count": 15,
   "metadata": {},
   "outputs": [
    {
     "data": {
      "text/plain": [
       "0    NaN\n",
       "1    NaN\n",
       "2    NaN\n",
       "3    NaN\n",
       "4    NaN\n",
       "Name: 사건/사고 분류3, dtype: object"
      ]
     },
     "execution_count": 15,
     "metadata": {},
     "output_type": "execute_result"
    }
   ],
   "source": [
    "# \"사건/사고 분류3\" 컬럼을 불러옵니다.\n",
    "# NaN == Not a Number 의 약자로 결측치를 의미한다.\n",
    "\n",
    "df[\"사건/사고 분류3\"].head()"
   ]
  },
  {
   "cell_type": "code",
   "execution_count": 16,
   "metadata": {},
   "outputs": [
    {
     "data": {
      "text/plain": [
       "['사건/사고 분류3', '사건/사고 분류2', '사건/사고 분류1', '개체명(인물)', '통합 분류3']"
      ]
     },
     "execution_count": 16,
     "metadata": {},
     "output_type": "execute_result"
    }
   ],
   "source": [
    "# \"컬럼명\" 이라는 컬럼의 값만 가져와서 drop_columns 라는 변수에 담습니다.\n",
    "\n",
    "drop_columns = df_null_count_top[\"컬럼명\"].tolist()\n",
    "drop_columns"
   ]
  },
  {
   "cell_type": "code",
   "execution_count": 17,
   "metadata": {},
   "outputs": [
    {
     "data": {
      "text/html": [
       "<div>\n",
       "<style scoped>\n",
       "    .dataframe tbody tr th:only-of-type {\n",
       "        vertical-align: middle;\n",
       "    }\n",
       "\n",
       "    .dataframe tbody tr th {\n",
       "        vertical-align: top;\n",
       "    }\n",
       "\n",
       "    .dataframe thead th {\n",
       "        text-align: right;\n",
       "    }\n",
       "</style>\n",
       "<table border=\"1\" class=\"dataframe\">\n",
       "  <thead>\n",
       "    <tr style=\"text-align: right;\">\n",
       "      <th></th>\n",
       "      <th>사건/사고 분류3</th>\n",
       "      <th>사건/사고 분류2</th>\n",
       "      <th>사건/사고 분류1</th>\n",
       "      <th>개체명(인물)</th>\n",
       "      <th>통합 분류3</th>\n",
       "    </tr>\n",
       "  </thead>\n",
       "  <tbody>\n",
       "    <tr>\n",
       "      <th>0</th>\n",
       "      <td>NaN</td>\n",
       "      <td>NaN</td>\n",
       "      <td>NaN</td>\n",
       "      <td>NaN</td>\n",
       "      <td>NaN</td>\n",
       "    </tr>\n",
       "    <tr>\n",
       "      <th>1</th>\n",
       "      <td>NaN</td>\n",
       "      <td>NaN</td>\n",
       "      <td>NaN</td>\n",
       "      <td>백 백종덕 최정민 이재명</td>\n",
       "      <td>지역&gt;충남</td>\n",
       "    </tr>\n",
       "    <tr>\n",
       "      <th>2</th>\n",
       "      <td>NaN</td>\n",
       "      <td>NaN</td>\n",
       "      <td>NaN</td>\n",
       "      <td>NaN</td>\n",
       "      <td>IT_과학&gt;모바일</td>\n",
       "    </tr>\n",
       "    <tr>\n",
       "      <th>3</th>\n",
       "      <td>NaN</td>\n",
       "      <td>NaN</td>\n",
       "      <td>NaN</td>\n",
       "      <td>최용수</td>\n",
       "      <td>스포츠&gt;월드컵</td>\n",
       "    </tr>\n",
       "    <tr>\n",
       "      <th>4</th>\n",
       "      <td>NaN</td>\n",
       "      <td>NaN</td>\n",
       "      <td>사회&gt;사회갈등&gt;시위</td>\n",
       "      <td>앤서니 파우치</td>\n",
       "      <td>NaN</td>\n",
       "    </tr>\n",
       "  </tbody>\n",
       "</table>\n",
       "</div>"
      ],
      "text/plain": [
       "  사건/사고 분류3 사건/사고 분류2   사건/사고 분류1        개체명(인물)     통합 분류3\n",
       "0       NaN       NaN         NaN            NaN        NaN\n",
       "1       NaN       NaN         NaN  백 백종덕 최정민 이재명      지역>충남\n",
       "2       NaN       NaN         NaN            NaN  IT_과학>모바일\n",
       "3       NaN       NaN         NaN            최용수    스포츠>월드컵\n",
       "4       NaN       NaN  사회>사회갈등>시위        앤서니 파우치        NaN"
      ]
     },
     "execution_count": 17,
     "metadata": {},
     "output_type": "execute_result"
    }
   ],
   "source": [
    "df[drop_columns].head()"
   ]
  },
  {
   "cell_type": "code",
   "execution_count": null,
   "metadata": {},
   "outputs": [],
   "source": []
  },
  {
   "cell_type": "markdown",
   "metadata": {},
   "source": [
    "## 결측치 제거하기"
   ]
  },
  {
   "cell_type": "code",
   "execution_count": 18,
   "metadata": {},
   "outputs": [
    {
     "name": "stdout",
     "output_type": "stream",
     "text": [
      "(108947, 18)\n",
      "(108947, 13)\n"
     ]
    }
   ],
   "source": [
    "print(df.shape)\n",
    "df = df.drop(drop_columns, axis=1)\n",
    "print(df.shape)"
   ]
  },
  {
   "cell_type": "code",
   "execution_count": 19,
   "metadata": {},
   "outputs": [
    {
     "name": "stdout",
     "output_type": "stream",
     "text": [
      "<class 'pandas.core.frame.DataFrame'>\n",
      "RangeIndex: 108947 entries, 0 to 108946\n",
      "Data columns (total 13 columns):\n",
      " #   Column      Non-Null Count   Dtype  \n",
      "---  ------      --------------   -----  \n",
      " 0   주소          108947 non-null  object \n",
      " 1   일자          106090 non-null  float64\n",
      " 2   언론사         106091 non-null  object \n",
      " 3   기고자         102059 non-null  object \n",
      " 4   제목          106091 non-null  object \n",
      " 5   통합 분류1      102346 non-null  object \n",
      " 6   통합 분류2      81882 non-null   object \n",
      " 7   개체명(지역)     95037 non-null   object \n",
      " 8   개체명(기업/기관)  101898 non-null  object \n",
      " 9   키워드         106089 non-null  object \n",
      " 10  특성추출        106089 non-null  object \n",
      " 11  본문          106089 non-null  object \n",
      " 12  원본주소        104963 non-null  object \n",
      "dtypes: float64(1), object(12)\n",
      "memory usage: 10.8+ MB\n"
     ]
    }
   ],
   "source": [
    "# 제거 결과를 info로 확인합니다.\n",
    "df.info()"
   ]
  },
  {
   "cell_type": "markdown",
   "metadata": {},
   "source": [
    "## 기초 통계값 보기\n",
    "### 기초 통계 수치"
   ]
  },
  {
   "cell_type": "code",
   "execution_count": 20,
   "metadata": {},
   "outputs": [
    {
     "data": {
      "text/plain": [
       "20200818.232444152"
      ]
     },
     "execution_count": 20,
     "metadata": {},
     "output_type": "execute_result"
    }
   ],
   "source": [
    "# 평균값\n",
    "df[\"일자\"].mean()"
   ]
  },
  {
   "cell_type": "code",
   "execution_count": 21,
   "metadata": {},
   "outputs": [
    {
     "data": {
      "text/plain": [
       "20200820.0"
      ]
     },
     "execution_count": 21,
     "metadata": {},
     "output_type": "execute_result"
    }
   ],
   "source": [
    "# 중앙값\n",
    "df['일자'].median()"
   ]
  },
  {
   "cell_type": "code",
   "execution_count": 22,
   "metadata": {},
   "outputs": [
    {
     "data": {
      "text/plain": [
       "20200831.0"
      ]
     },
     "execution_count": 22,
     "metadata": {},
     "output_type": "execute_result"
    }
   ],
   "source": [
    "# 최대값\n",
    "df['일자'].max()"
   ]
  },
  {
   "cell_type": "code",
   "execution_count": 114,
   "metadata": {},
   "outputs": [
    {
     "data": {
      "text/plain": [
       "20200801.0"
      ]
     },
     "execution_count": 114,
     "metadata": {},
     "output_type": "execute_result"
    }
   ],
   "source": [
    "# 최소값\n",
    "df['일자'].min()"
   ]
  },
  {
   "cell_type": "code",
   "execution_count": 113,
   "metadata": {},
   "outputs": [
    {
     "data": {
      "text/plain": [
       "106090"
      ]
     },
     "execution_count": 113,
     "metadata": {},
     "output_type": "execute_result"
    }
   ],
   "source": [
    "# 갯수\n",
    "df['일자'].count()"
   ]
  },
  {
   "cell_type": "markdown",
   "metadata": {},
   "source": [
    "### 기초 통계값 요약하기 - Describe\n",
    "describe를 사용하면 데이터를 요약해 볼 수 있습니다. 기본적으로 수치형 데이터를 요약해서 보여줍니다. 데이터의 개수, 평균, 표준편차, 최소값, 1사분위수(25%), 2사분위수(50%), 3사분위수(75%), 최대값을 볼 수 있습니다."
   ]
  },
  {
   "cell_type": "code",
   "execution_count": 115,
   "metadata": {},
   "outputs": [
    {
     "data": {
      "text/plain": [
       "count    1.060900e+05\n",
       "mean     2.020082e+07\n",
       "std      8.470932e+00\n",
       "min      2.020080e+07\n",
       "25%      2.020081e+07\n",
       "50%      2.020082e+07\n",
       "75%      2.020082e+07\n",
       "max      2.020083e+07\n",
       "Name: 일자, dtype: float64"
      ]
     },
     "execution_count": 115,
     "metadata": {},
     "output_type": "execute_result"
    }
   ],
   "source": [
    "# 일자를 describe로 요약해 보자.\n",
    "\n",
    "df['일자'].describe()"
   ]
  },
  {
   "cell_type": "code",
   "execution_count": null,
   "metadata": {},
   "outputs": [],
   "source": [
    "# 2개의 컬럼을 describe로 요약해보자.\n",
    "\n",
    "df[['일자', 'something']] "
   ]
  },
  {
   "cell_type": "code",
   "execution_count": 117,
   "metadata": {
    "scrolled": true
   },
   "outputs": [
    {
     "data": {
      "text/html": [
       "<div>\n",
       "<style scoped>\n",
       "    .dataframe tbody tr th:only-of-type {\n",
       "        vertical-align: middle;\n",
       "    }\n",
       "\n",
       "    .dataframe tbody tr th {\n",
       "        vertical-align: top;\n",
       "    }\n",
       "\n",
       "    .dataframe thead th {\n",
       "        text-align: right;\n",
       "    }\n",
       "</style>\n",
       "<table border=\"1\" class=\"dataframe\">\n",
       "  <thead>\n",
       "    <tr style=\"text-align: right;\">\n",
       "      <th></th>\n",
       "      <th>주소</th>\n",
       "      <th>언론사</th>\n",
       "      <th>기고자</th>\n",
       "      <th>제목</th>\n",
       "      <th>통합 분류1</th>\n",
       "      <th>통합 분류2</th>\n",
       "      <th>개체명(지역)</th>\n",
       "      <th>개체명(기업/기관)</th>\n",
       "      <th>키워드</th>\n",
       "      <th>특성추출</th>\n",
       "      <th>본문</th>\n",
       "      <th>원본주소</th>\n",
       "    </tr>\n",
       "  </thead>\n",
       "  <tbody>\n",
       "    <tr>\n",
       "      <th>count</th>\n",
       "      <td>108947</td>\n",
       "      <td>106091</td>\n",
       "      <td>102059</td>\n",
       "      <td>106091</td>\n",
       "      <td>102346</td>\n",
       "      <td>81882</td>\n",
       "      <td>95037</td>\n",
       "      <td>101898</td>\n",
       "      <td>106089</td>\n",
       "      <td>106089</td>\n",
       "      <td>106089</td>\n",
       "      <td>104963</td>\n",
       "    </tr>\n",
       "    <tr>\n",
       "      <th>unique</th>\n",
       "      <td>104463</td>\n",
       "      <td>55</td>\n",
       "      <td>7236</td>\n",
       "      <td>101924</td>\n",
       "      <td>84</td>\n",
       "      <td>85</td>\n",
       "      <td>67505</td>\n",
       "      <td>82419</td>\n",
       "      <td>103630</td>\n",
       "      <td>103442</td>\n",
       "      <td>101779</td>\n",
       "      <td>103341</td>\n",
       "    </tr>\n",
       "    <tr>\n",
       "      <th>top</th>\n",
       "      <td>http://www.bigkinds.or.kr/news/newsDetailView....</td>\n",
       "      <td>아시아경제</td>\n",
       "      <td>박종일</td>\n",
       "      <td>오늘의 주요뉴스</td>\n",
       "      <td>사회&gt;사회일반</td>\n",
       "      <td>지역&gt;경남</td>\n",
       "      <td>수도권</td>\n",
       "      <td>정부</td>\n",
       "      <td>시작,공화당,전당,대회,트럼프,대통령,후보,공식,지명,앵커,대선,공화당,정부통령,후...</td>\n",
       "      <td>1만,코로나19,코로나바이러스,확진자,격리해제,사망자,감염증,게티이미지뱅크,본부,추...</td>\n",
       "      <td>[사진기사]</td>\n",
       "      <td>http://news.kmib.co.kr/article/view.asp arcid=...</td>\n",
       "    </tr>\n",
       "    <tr>\n",
       "      <th>freq</th>\n",
       "      <td>2853</td>\n",
       "      <td>6452</td>\n",
       "      <td>485</td>\n",
       "      <td>22</td>\n",
       "      <td>6806</td>\n",
       "      <td>3667</td>\n",
       "      <td>995</td>\n",
       "      <td>377</td>\n",
       "      <td>6</td>\n",
       "      <td>10</td>\n",
       "      <td>46</td>\n",
       "      <td>3</td>\n",
       "    </tr>\n",
       "  </tbody>\n",
       "</table>\n",
       "</div>"
      ],
      "text/plain": [
       "                                                       주소     언론사     기고자  \\\n",
       "count                                              108947  106091  102059   \n",
       "unique                                             104463      55    7236   \n",
       "top     http://www.bigkinds.or.kr/news/newsDetailView....   아시아경제     박종일   \n",
       "freq                                                 2853    6452     485   \n",
       "\n",
       "              제목   통합 분류1 통합 분류2 개체명(지역) 개체명(기업/기관)  \\\n",
       "count     106091   102346  81882   95037     101898   \n",
       "unique    101924       84     85   67505      82419   \n",
       "top     오늘의 주요뉴스  사회>사회일반  지역>경남     수도권         정부   \n",
       "freq          22     6806   3667     995        377   \n",
       "\n",
       "                                                      키워드  \\\n",
       "count                                              106089   \n",
       "unique                                             103630   \n",
       "top     시작,공화당,전당,대회,트럼프,대통령,후보,공식,지명,앵커,대선,공화당,정부통령,후...   \n",
       "freq                                                    6   \n",
       "\n",
       "                                                     특성추출      본문  \\\n",
       "count                                              106089  106089   \n",
       "unique                                             103442  101779   \n",
       "top     1만,코로나19,코로나바이러스,확진자,격리해제,사망자,감염증,게티이미지뱅크,본부,추...  [사진기사]   \n",
       "freq                                                   10      46   \n",
       "\n",
       "                                                     원본주소  \n",
       "count                                              104963  \n",
       "unique                                             103341  \n",
       "top     http://news.kmib.co.kr/article/view.asp arcid=...  \n",
       "freq                                                    3  "
      ]
     },
     "execution_count": 117,
     "metadata": {},
     "output_type": "execute_result"
    }
   ],
   "source": [
    "# describe로 문자열 데이터 타입의 요약을 볼 수 있다.\n",
    "\n",
    "df.describe(include=\"object\")"
   ]
  },
  {
   "cell_type": "markdown",
   "metadata": {},
   "source": [
    "### 중복 제거한 값 보기\n",
    "- unique로 중복을 제거한 값을 보고 nunique로 갯수를 세어볼 수 있다."
   ]
  },
  {
   "cell_type": "code",
   "execution_count": 124,
   "metadata": {},
   "outputs": [
    {
     "data": {
      "text/plain": [
       "Index(['주소', '일자', '언론사', '기고자', '제목', '통합 분류1', '통합 분류2', '통합 분류3',\n",
       "       '사건/사고 분류1', '사건/사고 분류2', '사건/사고 분류3', '개체명(인물)', '개체명(지역)',\n",
       "       '개체명(기업/기관)', '키워드', '특성추출', '본문', '원본주소'],\n",
       "      dtype='object')"
      ]
     },
     "execution_count": 124,
     "metadata": {},
     "output_type": "execute_result"
    }
   ],
   "source": [
    "df.columns"
   ]
  },
  {
   "cell_type": "code",
   "execution_count": 23,
   "metadata": {},
   "outputs": [
    {
     "data": {
      "text/plain": [
       "array(['경기일보', '한국경제', 'YTN', '부산일보', '경향신문', '중앙일보', '매일경제', '매일신문',\n",
       "       'SBS', '아시아경제', '아주경제', '중도일보', '머니투데이', 'KBS', '세계일보', '헤럴드경제',\n",
       "       '한겨레', '조선일보', '서울경제', '동아일보', '전북도민일보', '서울신문', '한라일보', '경인일보',\n",
       "       'MBC', '영남일보', 'OBS', '국민일보', '디지털타임스', '문화일보', '경남도민일보', '중부매일',\n",
       "       '강원도민일보', '충청투데이', '한국일보', '충청일보', '전자신문', '중부일보', '전남일보', '전북일보',\n",
       "       '대전일보', '무등일보', '경상일보', '울산매일', '충북일보', '광주일보', '파이낸셜뉴스', '광주매일신문',\n",
       "       '경남신문', '국제신문', '제민일보', '강원일보', '대구일보', '내일신문', nan,\n",
       "       '아베,일본,대장염,자민당,게이오대,양원,슈칸분,주간지,집권기,공흡착,스가,관방장관,과립공흡착제거요법,이시바,중의원,참의원,여름휴가'],\n",
       "      dtype=object)"
      ]
     },
     "execution_count": 23,
     "metadata": {},
     "output_type": "execute_result"
    }
   ],
   "source": [
    "# '언론사'\n",
    "df['언론사'].unique()"
   ]
  },
  {
   "cell_type": "code",
   "execution_count": 123,
   "metadata": {},
   "outputs": [
    {
     "data": {
      "text/plain": [
       "55"
      ]
     },
     "execution_count": 123,
     "metadata": {},
     "output_type": "execute_result"
    }
   ],
   "source": [
    "df['언론사'].nunique()"
   ]
  },
  {
   "cell_type": "code",
   "execution_count": 24,
   "metadata": {},
   "outputs": [
    {
     "data": {
      "text/plain": [
       "array(['문화>전시_공연', '사회>미디어', 'IT_과학>콘텐츠', '스포츠>축구', '국제>미국_북미',\n",
       "       '사회>교육_시험', '지역>부산', '정치>북한', '국제>아시아', '경제>무역', '경제>유통',\n",
       "       '사회>사건_사고', '사회>노동_복지', '문화>음악', '사회>사회일반', '지역>대구', '지역>경북',\n",
       "       '정치>외교', '사회>날씨', '경제>반도체', 'IT_과학>모바일', '지역>충남', '경제>부동산', nan,\n",
       "       '스포츠>야구>한국프로야구', '국제>유럽_EU', '국제>일본', '지역>충북', '사회>의료_건강', '지역>강원',\n",
       "       '정치>국회_정당', '국제>중동_아프리카', '문화>출판', '경제>외환', '정치>행정_자치', '지역>경남',\n",
       "       '스포츠>골프', '지역>전북', '경제>증권_증시', 'IT_과학>과학', '국제>중국', 'IT_과학>보안',\n",
       "       '국제>국제일반', '스포츠>농구_배구', '지역>광주', '정치>선거', '국제>러시아', '경제>산업_기업',\n",
       "       '문화>영화', '정치>정치일반', '경제>자동차', '문화>생활', '경제>경제일반', '사회>장애인',\n",
       "       '사회>환경', '문화>요리_여행', '지역>경기', '국제>중남미', '경제>서비스_쇼핑', '지역>대전',\n",
       "       '스포츠>야구', '경제>취업_창업', '문화>학술_문화재', '정치>청와대', '문화>방송_연예', '지역>전남',\n",
       "       '경제>국제경제', '문화>미술_건축', '사회>여성', '문화>종교', '스포츠>월드컵', '경제>금융_재테크',\n",
       "       '경제>자원', 'IT_과학>IT_과학일반', '지역>제주', 'IT_과학>인터넷_SNS', '지역>울산',\n",
       "       '스포츠>올림픽_아시안게임', '문화>문화일반', '스포츠>축구>한국프로축구', '스포츠>스포츠일반',\n",
       "       '스포츠>야구>메이저리그', '지역>지역일반', '스포츠>축구>해외축구', '스포츠>축구>국가대표팀'],\n",
       "      dtype=object)"
      ]
     },
     "execution_count": 24,
     "metadata": {},
     "output_type": "execute_result"
    }
   ],
   "source": [
    "# '통합 분류1'\n",
    "df[\"통합 분류1\"].unique()"
   ]
  },
  {
   "cell_type": "code",
   "execution_count": 25,
   "metadata": {},
   "outputs": [
    {
     "data": {
      "text/plain": [
       "array([nan, '지역>경기', 'IT_과학>인터넷_SNS', '스포츠>농구_배구', 'IT_과학>IT_과학일반',\n",
       "       '사회>의료_건강', '문화>문화일반', '정치>외교', '사회>날씨', '경제>유통', '경제>무역', '지역>경남',\n",
       "       '문화>전시_공연', '사회>여성', '지역>울산', '지역>강원', '정치>북한', '사회>미디어', '경제>자동차',\n",
       "       '사회>사회일반', '지역>전북', '스포츠>야구', '국제>아시아', '경제>경제일반', '정치>선거',\n",
       "       '국제>유럽_EU', '문화>생활', '경제>증권_증시', '스포츠>올림픽_아시안게임', '정치>청와대',\n",
       "       '지역>제주', '지역>충북', '국제>중동_아프리카', '국제>중국', '국제>미국_북미', '지역>대구',\n",
       "       '국제>일본', '국제>국제일반', '정치>국회_정당', '정치>행정_자치', '경제>반도체', '문화>방송_연예',\n",
       "       '경제>취업_창업', '경제>산업_기업', '문화>음악', '경제>서비스_쇼핑', '경제>금융_재테크',\n",
       "       '사회>교육_시험', '사회>사건_사고', '문화>미술_건축', '지역>충남', 'IT_과학>콘텐츠', '경제>외환',\n",
       "       '경제>부동산', '국제>중남미', '지역>대전', '문화>출판', 'IT_과학>모바일', '경제>자원',\n",
       "       '문화>요리_여행', '스포츠>축구', '국제>러시아', 'IT_과학>보안', '스포츠>축구>해외축구',\n",
       "       'IT_과학>과학', '스포츠>축구>한국프로축구', '지역>경북', '사회>노동_복지', '지역>부산', '문화>영화',\n",
       "       '지역>전남', '경제>국제경제', '스포츠>골프', '스포츠>월드컵', '사회>장애인', '지역>광주',\n",
       "       '문화>학술_문화재', '스포츠>축구>국가대표팀', '정치>정치일반', '스포츠>스포츠일반',\n",
       "       '스포츠>야구>메이저리그', '문화>종교', '스포츠>야구>한국프로야구', '사회>환경', '지역>지역일반',\n",
       "       '스포츠>야구>일본프로야구'], dtype=object)"
      ]
     },
     "execution_count": 25,
     "metadata": {},
     "output_type": "execute_result"
    }
   ],
   "source": [
    "# '통합 분류2'\n",
    "df['통합 분류2'].unique()"
   ]
  },
  {
   "cell_type": "markdown",
   "metadata": {},
   "source": [
    "### 그룹화된 요약값 보기 - value_counts\n",
    "- value_counts를 사용하면 카테고리 형태의 데이터 갯수를 세어볼 수 있다."
   ]
  },
  {
   "cell_type": "code",
   "execution_count": 26,
   "metadata": {},
   "outputs": [
    {
     "data": {
      "text/plain": [
       "수도권       995\n",
       "경기        599\n",
       "한국        504\n",
       "미국        491\n",
       "서울        458\n",
       "광화문       352\n",
       "수해        299\n",
       "일본        183\n",
       "서울 수도권    173\n",
       "경기도       172\n",
       "Name: 개체명(지역), dtype: int64"
      ]
     },
     "execution_count": 26,
     "metadata": {},
     "output_type": "execute_result"
    }
   ],
   "source": [
    "# '개체명(지역)'을 세어봅니다.\n",
    "\n",
    "area = df['개체명(지역)'].value_counts().head(10)\n",
    "area"
   ]
  },
  {
   "cell_type": "code",
   "execution_count": 27,
   "metadata": {},
   "outputs": [
    {
     "data": {
      "text/plain": [
       "수도권       0.010470\n",
       "경기        0.006303\n",
       "한국        0.005303\n",
       "미국        0.005166\n",
       "서울        0.004819\n",
       "광화문       0.003704\n",
       "수해        0.003146\n",
       "일본        0.001926\n",
       "서울 수도권    0.001820\n",
       "경기도       0.001810\n",
       "Name: 개체명(지역), dtype: float64"
      ]
     },
     "execution_count": 27,
     "metadata": {},
     "output_type": "execute_result"
    }
   ],
   "source": [
    "# normalize = True 옵션을 사용해서 비율을 구할 수 있다.\n",
    "\n",
    "area_normalize = df['개체명(지역)'].value_counts(normalize=True).head(10)\n",
    "area_normalize"
   ]
  },
  {
   "cell_type": "code",
   "execution_count": 28,
   "metadata": {},
   "outputs": [
    {
     "data": {
      "text/plain": [
       "<AxesSubplot:>"
      ]
     },
     "execution_count": 28,
     "metadata": {},
     "output_type": "execute_result"
    },
    {
     "data": {
      "image/png": "[encoded data removed]",
      "text/plain": [
       "<Figure size 432x288 with 1 Axes>"
      ]
     },
     "metadata": {
      "image/png": {
       "height": 248,
       "width": 409
      },
      "needs_background": "light"
     },
     "output_type": "display_data"
    }
   ],
   "source": [
    "# Pandas는 plot 기능을 내장하고 있습니다.\n",
    "# 위에서 분석한 지역의 수를 막대 그래프로 표현해 보자.\n",
    "area.plot.barh()"
   ]
  },
  {
   "cell_type": "code",
   "execution_count": 29,
   "metadata": {},
   "outputs": [
    {
     "data": {
      "text/plain": [
       "<AxesSubplot:ylabel='개체명(지역)'>"
      ]
     },
     "execution_count": 29,
     "metadata": {},
     "output_type": "execute_result"
    },
    {
     "data": {
      "image/png": "[encoded data removed]",
      "text/plain": [
       "<Figure size 504x504 with 1 Axes>"
      ]
     },
     "metadata": {
      "image/png": {
       "height": 394,
       "width": 426
      }
     },
     "output_type": "display_data"
    }
   ],
   "source": [
    "# 판다스의 plot,.pie()를 사용해서 그래프 그려보기\n",
    "area.plot.pie(figsize=(7,7))"
   ]
  },
  {
   "cell_type": "code",
   "execution_count": 30,
   "metadata": {},
   "outputs": [
    {
     "ename": "NameError",
     "evalue": "name 'tmp' is not defined",
     "output_type": "error",
     "traceback": [
      "\u001b[0;31m---------------------------------------------------------------------------\u001b[0m",
      "\u001b[0;31mNameError\u001b[0m                                 Traceback (most recent call last)",
      "\u001b[0;32m<ipython-input-30-b697713005af>\u001b[0m in \u001b[0;36m<module>\u001b[0;34m\u001b[0m\n\u001b[1;32m      1\u001b[0m \u001b[0;31m# seaborn 의 countplot으로 그려보기.\u001b[0m\u001b[0;34m\u001b[0m\u001b[0;34m\u001b[0m\u001b[0;34m\u001b[0m\u001b[0m\n\u001b[0;32m----> 2\u001b[0;31m \u001b[0msns\u001b[0m\u001b[0;34m.\u001b[0m\u001b[0mcountplot\u001b[0m\u001b[0;34m(\u001b[0m\u001b[0mdata\u001b[0m\u001b[0;34m=\u001b[0m\u001b[0mtmp\u001b[0m\u001b[0;34m,\u001b[0m \u001b[0my\u001b[0m\u001b[0;34m=\u001b[0m\u001b[0;34m'언론사'\u001b[0m\u001b[0;34m)\u001b[0m\u001b[0;34m\u001b[0m\u001b[0;34m\u001b[0m\u001b[0m\n\u001b[0m",
      "\u001b[0;31mNameError\u001b[0m: name 'tmp' is not defined"
     ]
    }
   ],
   "source": [
    "# seaborn 의 countplot으로 그려보기.\n",
    "sns.countplot(data=tmp, y='언론사')"
   ]
  },
  {
   "cell_type": "code",
   "execution_count": 31,
   "metadata": {},
   "outputs": [
    {
     "data": {
      "text/plain": [
       "수도권       995\n",
       "경기        599\n",
       "한국        504\n",
       "미국        491\n",
       "서울        458\n",
       "광화문       352\n",
       "수해        299\n",
       "일본        183\n",
       "서울 수도권    173\n",
       "경기도       172\n",
       "Name: 개체명(지역), dtype: int64"
      ]
     },
     "execution_count": 31,
     "metadata": {},
     "output_type": "execute_result"
    }
   ],
   "source": [
    "# '지역'으로 갯수를 세어보기\n",
    "c = df['개체명(지역)'].value_counts().head(10)\n",
    "c"
   ]
  },
  {
   "cell_type": "code",
   "execution_count": 32,
   "metadata": {},
   "outputs": [
    {
     "data": {
      "text/plain": [
       "수도권       0.010470\n",
       "경기        0.006303\n",
       "한국        0.005303\n",
       "미국        0.005166\n",
       "서울        0.004819\n",
       "광화문       0.003704\n",
       "수해        0.003146\n",
       "일본        0.001926\n",
       "서울 수도권    0.001820\n",
       "경기도       0.001810\n",
       "Name: 개체명(지역), dtype: float64"
      ]
     },
     "execution_count": 32,
     "metadata": {},
     "output_type": "execute_result"
    }
   ],
   "source": [
    "# normalize=True 를 사용해서 비율 구하기.\n",
    "n = df['개체명(지역)'].value_counts(normalize=True).head(10)\n",
    "n"
   ]
  },
  {
   "cell_type": "code",
   "execution_count": 33,
   "metadata": {},
   "outputs": [
    {
     "data": {
      "text/plain": [
       "<AxesSubplot:>"
      ]
     },
     "execution_count": 33,
     "metadata": {},
     "output_type": "execute_result"
    },
    {
     "data": {
      "image/png": "[encoded data removed]",
      "text/plain": [
       "<Figure size 432x288 with 1 Axes>"
      ]
     },
     "metadata": {
      "image/png": {
       "height": 248,
       "width": 409
      },
      "needs_background": "light"
     },
     "output_type": "display_data"
    }
   ],
   "source": [
    "# 판다스의 plot.bar()을 사용해서 막대 그래프 그리기.\n",
    "c.plot.barh()"
   ]
  },
  {
   "cell_type": "markdown",
   "metadata": {},
   "source": [
    "## 데이터 색인하기\n",
    "- 특정 데이터만 가져오기"
   ]
  },
  {
   "cell_type": "code",
   "execution_count": 34,
   "metadata": {},
   "outputs": [
    {
     "data": {
      "text/html": [
       "<div>\n",
       "<style scoped>\n",
       "    .dataframe tbody tr th:only-of-type {\n",
       "        vertical-align: middle;\n",
       "    }\n",
       "\n",
       "    .dataframe tbody tr th {\n",
       "        vertical-align: top;\n",
       "    }\n",
       "\n",
       "    .dataframe thead th {\n",
       "        text-align: right;\n",
       "    }\n",
       "</style>\n",
       "<table border=\"1\" class=\"dataframe\">\n",
       "  <thead>\n",
       "    <tr style=\"text-align: right;\">\n",
       "      <th></th>\n",
       "      <th>주소</th>\n",
       "      <th>일자</th>\n",
       "      <th>언론사</th>\n",
       "      <th>기고자</th>\n",
       "      <th>제목</th>\n",
       "      <th>통합 분류1</th>\n",
       "      <th>통합 분류2</th>\n",
       "      <th>개체명(지역)</th>\n",
       "      <th>개체명(기업/기관)</th>\n",
       "      <th>키워드</th>\n",
       "      <th>특성추출</th>\n",
       "      <th>본문</th>\n",
       "      <th>원본주소</th>\n",
       "    </tr>\n",
       "  </thead>\n",
       "  <tbody>\n",
       "    <tr>\n",
       "      <th>17</th>\n",
       "      <td>http://www.bigkinds.or.kr/news/newsDetailView....</td>\n",
       "      <td>20200801.0</td>\n",
       "      <td>중앙일보</td>\n",
       "      <td>박민제(letmein@joongang.co.kr)</td>\n",
       "      <td>[한국의 실리콘밸리, 판교] “원격수업으로 교육격차 더 심해진다, 사회가 대안 찾아야”</td>\n",
       "      <td>사회&gt;교육_시험</td>\n",
       "      <td>사회&gt;여성</td>\n",
       "      <td>실리콘밸리 탄자니아 미국 볼티모어 아프리카 한국 샌프란시스코</td>\n",
       "      <td>유네스코 정부 화상 한국 샌프란시스코</td>\n",
       "      <td>원격수업,교육격차,사회,대안,에듀테크,에누마,이수인,대표,온라인,교육,한계,직시,소...</td>\n",
       "      <td>코로나19,온라인,미국,아이들,에누마,공교육,애들,파드,킷킷스쿨,도서관,아프리카,에...</td>\n",
       "      <td>미국 볼티모어에 사는 사라 엘라이는 다음 학기 두 자녀를 가르칠 개인 교사를 물색 ...</td>\n",
       "      <td>https://news.joins.com/article/olink/23433204</td>\n",
       "    </tr>\n",
       "    <tr>\n",
       "      <th>88</th>\n",
       "      <td>http://www.bigkinds.or.kr/news/newsDetailView....</td>\n",
       "      <td>20200801.0</td>\n",
       "      <td>중앙일보</td>\n",
       "      <td>문희철(reporter@joongang.co.kr)</td>\n",
       "      <td>89세에도 구속된 이만희…확진자 38%, 슈퍼전파 책임 가린다</td>\n",
       "      <td>사회&gt;사건_사고</td>\n",
       "      <td>국제&gt;국제일반</td>\n",
       "      <td>수원 안산 후베이성 우한 일평 중국 수원지검 경기 대구교회 가평군 경기도</td>\n",
       "      <td>만국회 검찰 형사6부 질병관리본부 법원 중앙방역대책본부 신천지예수교 애초 신천지 수...</td>\n",
       "      <td>89세,구속,이만희,확진자,책임,38%,,슈퍼,전파,법원,이만희,신천지,총회장,구속...</td>\n",
       "      <td>코로나19,신천지,이만희,확진자,총회장,신도,일평균,수원지법,중국,56억,50억,대...</td>\n",
       "      <td>━ .. 법원, 이만희 신천지 총회장 구속 .. .. .. .. .. .. 신종 코...</td>\n",
       "      <td>https://news.joins.com/article/olink/23433169</td>\n",
       "    </tr>\n",
       "    <tr>\n",
       "      <th>89</th>\n",
       "      <td>http://www.bigkinds.or.kr/news/newsDetailView....</td>\n",
       "      <td>20200801.0</td>\n",
       "      <td>중앙일보</td>\n",
       "      <td>서유진(suh.youjin@joongang.co.kr)</td>\n",
       "      <td>미국판 코로나 차별…동성애자라 '혈장 기증' 거부당한 이들</td>\n",
       "      <td>국제&gt;미국_북미</td>\n",
       "      <td>국제&gt;아시아</td>\n",
       "      <td>캐나다 미국 뉴욕 서한 말레이시아 시나이 한국 서유 호주</td>\n",
       "      <td>미국 식품의약국 FDA 미국 민주당 로이터통신 동성</td>\n",
       "      <td>차별,미국판,코로나,동성애자,혈장,기증,거부,감염증,신종,코로나바이러스,코로나,미국...</td>\n",
       "      <td>미국,코로나,동성애자,코헨,진행자,소수자,hiv,3개월,완치자,서유진,뉴욕,민주당,...</td>\n",
       "      <td>신종 코로나바이러스 감염증(코로나 19)을 이겨낸 미국 유명 TV 진행자가 혈장을 ...</td>\n",
       "      <td>https://news.joins.com/article/olink/23433174</td>\n",
       "    </tr>\n",
       "    <tr>\n",
       "      <th>97</th>\n",
       "      <td>http://www.bigkinds.or.kr/news/newsDetailView....</td>\n",
       "      <td>20200801.0</td>\n",
       "      <td>중앙일보</td>\n",
       "      <td>이민정(lee.minjung2@joongang.co.kr)</td>\n",
       "      <td>인도서 술 대신 손 소독제 마셨다가 10명 사망</td>\n",
       "      <td>사회&gt;사회일반</td>\n",
       "      <td>국제&gt;유럽_EU</td>\n",
       "      <td>인도 아삼주 펀자브주 안드라프라데시주 서벵골주</td>\n",
       "      <td>정부 힌두스탄타임스</td>\n",
       "      <td>인도,소독제,사망,빈민촌,인도,남동부,소독제,목숨,사례,속출,대용,알코올,성분,함유...</td>\n",
       "      <td>소독제,코로나19,쿠리체두,서벵골주,코로나바이러스,힌두스탄타임스,남동부,판매점,빈곤...</td>\n",
       "      <td>인도 남동부 빈민촌에서 손 소독제를 마시고 목숨을 잃는 사례가 속출하고 있다... ...</td>\n",
       "      <td>https://news.joins.com/article/olink/23433369</td>\n",
       "    </tr>\n",
       "    <tr>\n",
       "      <th>105</th>\n",
       "      <td>http://www.bigkinds.or.kr/news/newsDetailView....</td>\n",
       "      <td>20200801.0</td>\n",
       "      <td>중앙일보</td>\n",
       "      <td>최종권.이은지(choi.jongkwon@joongang.co.kr)</td>\n",
       "      <td>부산항 러시아 어선 2명 또 확진…선원 확진자 92명으로 늘어</td>\n",
       "      <td>국제&gt;러시아</td>\n",
       "      <td>지역&gt;경남</td>\n",
       "      <td>부산항 부산시 신선대 영도구 부산 북항 러시아</td>\n",
       "      <td>보건당국 선원 승선원 부산의료원 국립검역소</td>\n",
       "      <td>부산항,러시아,어선,확진,선원,확진자,판정,음성,의심증상,확진,내국인,n차,감염,가...</td>\n",
       "      <td>러시아,확진자,부산항,부산,내국인,2명,페트르원호,승선원,코로나19,보건당국,코로나...</td>\n",
       "      <td>부산항에 입항한 러시아 선박에서 신종 코로나바이러스 감염증(코로나19)에 걸린 선원...</td>\n",
       "      <td>https://news.joins.com/article/olink/23433374</td>\n",
       "    </tr>\n",
       "  </tbody>\n",
       "</table>\n",
       "</div>"
      ],
      "text/plain": [
       "                                                    주소          일자   언론사  \\\n",
       "17   http://www.bigkinds.or.kr/news/newsDetailView....  20200801.0  중앙일보   \n",
       "88   http://www.bigkinds.or.kr/news/newsDetailView....  20200801.0  중앙일보   \n",
       "89   http://www.bigkinds.or.kr/news/newsDetailView....  20200801.0  중앙일보   \n",
       "97   http://www.bigkinds.or.kr/news/newsDetailView....  20200801.0  중앙일보   \n",
       "105  http://www.bigkinds.or.kr/news/newsDetailView....  20200801.0  중앙일보   \n",
       "\n",
       "                                       기고자  \\\n",
       "17             박민제(letmein@joongang.co.kr)   \n",
       "88            문희철(reporter@joongang.co.kr)   \n",
       "89          서유진(suh.youjin@joongang.co.kr)   \n",
       "97        이민정(lee.minjung2@joongang.co.kr)   \n",
       "105  최종권.이은지(choi.jongkwon@joongang.co.kr)   \n",
       "\n",
       "                                                   제목    통합 분류1    통합 분류2  \\\n",
       "17   [한국의 실리콘밸리, 판교] “원격수업으로 교육격차 더 심해진다, 사회가 대안 찾아야”  사회>교육_시험     사회>여성   \n",
       "88                 89세에도 구속된 이만희…확진자 38%, 슈퍼전파 책임 가린다  사회>사건_사고   국제>국제일반   \n",
       "89                   미국판 코로나 차별…동성애자라 '혈장 기증' 거부당한 이들  국제>미국_북미    국제>아시아   \n",
       "97                         인도서 술 대신 손 소독제 마셨다가 10명 사망   사회>사회일반  국제>유럽_EU   \n",
       "105                부산항 러시아 어선 2명 또 확진…선원 확진자 92명으로 늘어    국제>러시아     지역>경남   \n",
       "\n",
       "                                      개체명(지역)  \\\n",
       "17          실리콘밸리 탄자니아 미국 볼티모어 아프리카 한국 샌프란시스코   \n",
       "88   수원 안산 후베이성 우한 일평 중국 수원지검 경기 대구교회 가평군 경기도   \n",
       "89            캐나다 미국 뉴욕 서한 말레이시아 시나이 한국 서유 호주   \n",
       "97                  인도 아삼주 펀자브주 안드라프라데시주 서벵골주   \n",
       "105                 부산항 부산시 신선대 영도구 부산 북항 러시아   \n",
       "\n",
       "                                            개체명(기업/기관)  \\\n",
       "17                                유네스코 정부 화상 한국 샌프란시스코   \n",
       "88   만국회 검찰 형사6부 질병관리본부 법원 중앙방역대책본부 신천지예수교 애초 신천지 수...   \n",
       "89                        미국 식품의약국 FDA 미국 민주당 로이터통신 동성   \n",
       "97                                          정부 힌두스탄타임스   \n",
       "105                            보건당국 선원 승선원 부산의료원 국립검역소   \n",
       "\n",
       "                                                   키워드  \\\n",
       "17   원격수업,교육격차,사회,대안,에듀테크,에누마,이수인,대표,온라인,교육,한계,직시,소...   \n",
       "88   89세,구속,이만희,확진자,책임,38%,,슈퍼,전파,법원,이만희,신천지,총회장,구속...   \n",
       "89   차별,미국판,코로나,동성애자,혈장,기증,거부,감염증,신종,코로나바이러스,코로나,미국...   \n",
       "97   인도,소독제,사망,빈민촌,인도,남동부,소독제,목숨,사례,속출,대용,알코올,성분,함유...   \n",
       "105  부산항,러시아,어선,확진,선원,확진자,판정,음성,의심증상,확진,내국인,n차,감염,가...   \n",
       "\n",
       "                                                  특성추출  \\\n",
       "17   코로나19,온라인,미국,아이들,에누마,공교육,애들,파드,킷킷스쿨,도서관,아프리카,에...   \n",
       "88   코로나19,신천지,이만희,확진자,총회장,신도,일평균,수원지법,중국,56억,50억,대...   \n",
       "89   미국,코로나,동성애자,코헨,진행자,소수자,hiv,3개월,완치자,서유진,뉴욕,민주당,...   \n",
       "97   소독제,코로나19,쿠리체두,서벵골주,코로나바이러스,힌두스탄타임스,남동부,판매점,빈곤...   \n",
       "105  러시아,확진자,부산항,부산,내국인,2명,페트르원호,승선원,코로나19,보건당국,코로나...   \n",
       "\n",
       "                                                    본문  \\\n",
       "17   미국 볼티모어에 사는 사라 엘라이는 다음 학기 두 자녀를 가르칠 개인 교사를 물색 ...   \n",
       "88   ━ .. 법원, 이만희 신천지 총회장 구속 .. .. .. .. .. .. 신종 코...   \n",
       "89   신종 코로나바이러스 감염증(코로나 19)을 이겨낸 미국 유명 TV 진행자가 혈장을 ...   \n",
       "97   인도 남동부 빈민촌에서 손 소독제를 마시고 목숨을 잃는 사례가 속출하고 있다... ...   \n",
       "105  부산항에 입항한 러시아 선박에서 신종 코로나바이러스 감염증(코로나19)에 걸린 선원...   \n",
       "\n",
       "                                              원본주소  \n",
       "17   https://news.joins.com/article/olink/23433204  \n",
       "88   https://news.joins.com/article/olink/23433169  \n",
       "89   https://news.joins.com/article/olink/23433174  \n",
       "97   https://news.joins.com/article/olink/23433369  \n",
       "105  https://news.joins.com/article/olink/23433374  "
      ]
     },
     "execution_count": 34,
     "metadata": {},
     "output_type": "execute_result"
    }
   ],
   "source": [
    "# '언론사'가 '중앙일보'인 데이터만 가져와서\n",
    "# df_firm 변수에 담기\n",
    "# copy()를 해야 원본이 유지된다.\n",
    "\n",
    "df_firm = df[df['언론사'] == '중앙일보'].copy()\n",
    "df_firm.head() "
   ]
  },
  {
   "cell_type": "code",
   "execution_count": 35,
   "metadata": {},
   "outputs": [
    {
     "data": {
      "text/plain": [
       "사회>사회일반       20\n",
       "경제>경제일반       18\n",
       "경제>취업_창업      13\n",
       "국제>국제일반       13\n",
       "사회>노동_복지      12\n",
       "사회>교육_시험      12\n",
       "국제>일본         11\n",
       "국제>미국_북미      10\n",
       "지역>경남          8\n",
       "경제>금융_재테크      7\n",
       "국제>중국          7\n",
       "지역>광주          6\n",
       "국제>유럽_EU       6\n",
       "지역>부산          5\n",
       "지역>울산          4\n",
       "경제>무역          4\n",
       "사회>여성          4\n",
       "경제>부동산         3\n",
       "지역>경기          3\n",
       "문화>문화일반        3\n",
       "사회>날씨          3\n",
       "사회>미디어         3\n",
       "국제>러시아         2\n",
       "국제>중동_아프리카     2\n",
       "국제>아시아         2\n",
       "경제>자동차         2\n",
       "지역>전북          2\n",
       "경제>자원          2\n",
       "사회>의료_건강       2\n",
       "지역>강원          2\n",
       "지역>충남          2\n",
       "IT_과학>모바일      1\n",
       "IT_과학>과학       1\n",
       "지역>대구          1\n",
       "경제>증권_증시       1\n",
       "국제>중남미         1\n",
       "지역>충북          1\n",
       "문화>종교          1\n",
       "사회>환경          1\n",
       "문화>학술_문화재      1\n",
       "문화>전시_공연       1\n",
       "IT_과학>보안       1\n",
       "지역>대전          1\n",
       "경제>반도체         1\n",
       "Name: 통합 분류2, dtype: int64"
      ]
     },
     "execution_count": 35,
     "metadata": {},
     "output_type": "execute_result"
    }
   ],
   "source": [
    "# '통합 분류1'에서 '정치>정치일반'만 가져오기.\n",
    "# df.loc을 사용하면 행, 열을 함께 가져올 수 있다.\n",
    "# 이 기능을 통해 '통합 분류2'만 가져오기.\n",
    "# 결과를 value_couut\n",
    "m = df['통합 분류1'] == '정치>정치일반'\n",
    "df.loc[m, '통합 분류2'].value_counts()"
   ]
  },
  {
   "cell_type": "code",
   "execution_count": 36,
   "metadata": {},
   "outputs": [],
   "source": [
    "# 사회>사회일반만 따로 모아보기.\n",
    "df_society = df[df['통합 분류2'] == '사회>사회일반'].copy()"
   ]
  },
  {
   "cell_type": "code",
   "execution_count": 37,
   "metadata": {},
   "outputs": [
    {
     "data": {
      "text/plain": [
       "아시아경제    6452\n",
       "머니투데이    6035\n",
       "매일경제     5709\n",
       "한국경제     5149\n",
       "YTN      4720\n",
       "헤럴드경제    4534\n",
       "서울경제     4478\n",
       "조선일보     4329\n",
       "세계일보     3944\n",
       "국민일보     3370\n",
       "Name: 언론사, dtype: int64"
      ]
     },
     "execution_count": 37,
     "metadata": {},
     "output_type": "execute_result"
    }
   ],
   "source": [
    "df['언론사'].value_counts().head(10)"
   ]
  },
  {
   "cell_type": "code",
   "execution_count": 38,
   "metadata": {},
   "outputs": [
    {
     "data": {
      "text/plain": [
       "아시아경제    129\n",
       "YTN      121\n",
       "세계일보     111\n",
       "머니투데이     92\n",
       "매일경제      89\n",
       "한국일보      80\n",
       "조선일보      71\n",
       "국민일보      68\n",
       "서울신문      66\n",
       "서울경제      63\n",
       "Name: 언론사, dtype: int64"
      ]
     },
     "execution_count": 38,
     "metadata": {},
     "output_type": "execute_result"
    }
   ],
   "source": [
    "df_society['언론사'].value_counts().head(10)"
   ]
  },
  {
   "cell_type": "markdown",
   "metadata": {},
   "source": [
    "### 여러 조건으로 색인하기"
   ]
  },
  {
   "cell_type": "code",
   "execution_count": 39,
   "metadata": {},
   "outputs": [
    {
     "name": "stdout",
     "output_type": "stream",
     "text": [
      "(15, 13)\n"
     ]
    },
    {
     "data": {
      "text/html": [
       "<div>\n",
       "<style scoped>\n",
       "    .dataframe tbody tr th:only-of-type {\n",
       "        vertical-align: middle;\n",
       "    }\n",
       "\n",
       "    .dataframe tbody tr th {\n",
       "        vertical-align: top;\n",
       "    }\n",
       "\n",
       "    .dataframe thead th {\n",
       "        text-align: right;\n",
       "    }\n",
       "</style>\n",
       "<table border=\"1\" class=\"dataframe\">\n",
       "  <thead>\n",
       "    <tr style=\"text-align: right;\">\n",
       "      <th></th>\n",
       "      <th>주소</th>\n",
       "      <th>일자</th>\n",
       "      <th>언론사</th>\n",
       "      <th>기고자</th>\n",
       "      <th>제목</th>\n",
       "      <th>통합 분류1</th>\n",
       "      <th>통합 분류2</th>\n",
       "      <th>개체명(지역)</th>\n",
       "      <th>개체명(기업/기관)</th>\n",
       "      <th>키워드</th>\n",
       "      <th>특성추출</th>\n",
       "      <th>본문</th>\n",
       "      <th>원본주소</th>\n",
       "    </tr>\n",
       "  </thead>\n",
       "  <tbody>\n",
       "    <tr>\n",
       "      <th>11355</th>\n",
       "      <td>http://www.bigkinds.or.kr/news/newsDetailView....</td>\n",
       "      <td>20200805.0</td>\n",
       "      <td>중앙일보</td>\n",
       "      <td>최은경(choi.eunkyung@joins.com)</td>\n",
       "      <td>찬성 안해 4시간도 안돼 반대 아니다···서울시의 우왕좌왕</td>\n",
       "      <td>정치&gt;정치일반</td>\n",
       "      <td>NaN</td>\n",
       "      <td>서울 계산 서울시</td>\n",
       "      <td>정부 기획재정부 서울시청 국토부 국토교통부 서울시 내셔널팀</td>\n",
       "      <td>찬성,4시간,반대,서울시,우왕좌왕,취재일기,소신,전략,협의,주체,신뢰,공공재건축,서...</td>\n",
       "      <td>서울시,본부장,공공재건축,서울,설명자료,최은경,공공재,서울시청,우왕좌왕,권한대행,국...</td>\n",
       "      <td>“공공재건축은 서울시는 찬성하지 않는 방식이다.” .. .. ..“서울시도 공공재건...</td>\n",
       "      <td>https://news.joins.com/article/olink/23436559</td>\n",
       "    </tr>\n",
       "    <tr>\n",
       "      <th>23516</th>\n",
       "      <td>http://www.bigkinds.or.kr/news/newsDetailView....</td>\n",
       "      <td>20200810.0</td>\n",
       "      <td>중앙일보</td>\n",
       "      <td>정은혜(jeong.eunhye1@joongang.co.kr)</td>\n",
       "      <td>美 안보보좌관 中, 트럼프 대선 패배 원해…틱톡은 실질적인 안보 우려</td>\n",
       "      <td>정치&gt;정치일반</td>\n",
       "      <td>국제&gt;미국_북미</td>\n",
       "      <td>미국 이란 위스콘신 중국 펜실베이니아 미 미시간 노스캐롤라이나 플로리다 러시아 오브라이언</td>\n",
       "      <td>국가방첩안보센터(NCSC 미국 정부 민주당 중국 백악관 틱톡 바이트댄스사 펜실베이니...</td>\n",
       "      <td>안보,보좌관,트럼프,대선,패배,틱톡,실질적,안보,감염증,신종,코로나바이러스,코로나1...</td>\n",
       "      <td>러시아,미국,중국,틱톡,위스콘신,보좌관,오브라이언,코로나19,웹사이트,민주당,펜실베...</td>\n",
       "      <td>신종 코로나바이러스 감염증(코로나19)에 걸렸다가 회복된 로버트 오브라이언 미국 백...</td>\n",
       "      <td>https://news.joins.com/article/olink/23439507</td>\n",
       "    </tr>\n",
       "    <tr>\n",
       "      <th>27310</th>\n",
       "      <td>http://www.bigkinds.or.kr/news/newsDetailView....</td>\n",
       "      <td>20200811.0</td>\n",
       "      <td>중앙일보</td>\n",
       "      <td>박현영(park.hyunyoung@joongang.co.kr)</td>\n",
       "      <td>트럼프 G7 회의, 대선 이후 열 것…日 현재 틀 유지해야 확대 반대</td>\n",
       "      <td>정치&gt;정치일반</td>\n",
       "      <td>국제&gt;러시아</td>\n",
       "      <td>플로리다주 캐나다 독일 우크라이나 미국 리조트 한국 워싱턴 크림반도 인도 영국 도랄...</td>\n",
       "      <td>독일 미국 일본 G11 정상회 한국 G8 유엔 총회 외교부 백악관 외무장관 정상회의...</td>\n",
       "      <td>회의,트럼프,대선,유지,확대,반대,정상,회의,예정,개최,연기,대선,개최,분위기,9월...</td>\n",
       "      <td>g7,한국,러시아,미국,독일,일본,정상들,의장국,강경화,정상회의,회원국</td>\n",
       "      <td>도널드 트럼프 미국 대통령이 주요 7개국(G7) 정상회의를 11월 3일로 예정된 대...</td>\n",
       "      <td>https://news.joins.com/article/olink/23440538</td>\n",
       "    </tr>\n",
       "    <tr>\n",
       "      <th>41173</th>\n",
       "      <td>http://www.bigkinds.or.kr/news/newsDetailView....</td>\n",
       "      <td>20200816.0</td>\n",
       "      <td>중앙일보</td>\n",
       "      <td>김도년(kim.donyun@joongang.co.kr)</td>\n",
       "      <td>김대지 국세청장 후보자 경제 여건 고려해 신중히 세무조사</td>\n",
       "      <td>정치&gt;정치일반</td>\n",
       "      <td>경제&gt;경제일반</td>\n",
       "      <td>무산</td>\n",
       "      <td>미래통합당 국세청 기획재정부 국세청장 국회 기획재정위원회</td>\n",
       "      <td>여건,김대지,국세청장,후보자,경제,여건,세무조사,후보자,김대지,국세청장,경제,여건,...</td>\n",
       "      <td>세무조사,후보자,국세청,인사청문회,납세자,김대지,코로나바이러스,청문회,국세청장,기본...</td>\n",
       "      <td>김대지 국세청장 후보자는 ..어려운 경제 여건을 고려해 신중하고 절제된 방식으로 세...</td>\n",
       "      <td>https://news.joins.com/article/olink/23444554</td>\n",
       "    </tr>\n",
       "    <tr>\n",
       "      <th>55488</th>\n",
       "      <td>http://www.bigkinds.or.kr/news/newsDetailView....</td>\n",
       "      <td>20200819.0</td>\n",
       "      <td>중앙일보</td>\n",
       "      <td>김은빈(kim.eunbin@joongang.co.kr)</td>\n",
       "      <td>차명진 확진통보 받은 후 기자들 동시에 전화···누가 알렸나</td>\n",
       "      <td>정치&gt;정치일반</td>\n",
       "      <td>NaN</td>\n",
       "      <td>광화문 차명진#전 국회의원 경복궁</td>\n",
       "      <td>보건당국 사랑제일교회</td>\n",
       "      <td>차명진,확진통보,동시,전화,광복절,광화문,집회,참석,신종,코로나바이러스,감염증,코로...</td>\n",
       "      <td>보건소,광화문,감염증,차명진,동화면세점,기자들,경복궁,광복절,사랑제일교회,보건당국,...</td>\n",
       "      <td>광복절 광화문 집회 참석 후 19일 신종 코로나바이러스 감염증(코로나19) 확진 판...</td>\n",
       "      <td>https://news.joins.com/article/olink/23446904</td>\n",
       "    </tr>\n",
       "  </tbody>\n",
       "</table>\n",
       "</div>"
      ],
      "text/plain": [
       "                                                      주소          일자   언론사  \\\n",
       "11355  http://www.bigkinds.or.kr/news/newsDetailView....  20200805.0  중앙일보   \n",
       "23516  http://www.bigkinds.or.kr/news/newsDetailView....  20200810.0  중앙일보   \n",
       "27310  http://www.bigkinds.or.kr/news/newsDetailView....  20200811.0  중앙일보   \n",
       "41173  http://www.bigkinds.or.kr/news/newsDetailView....  20200816.0  중앙일보   \n",
       "55488  http://www.bigkinds.or.kr/news/newsDetailView....  20200819.0  중앙일보   \n",
       "\n",
       "                                      기고자  \\\n",
       "11355        최은경(choi.eunkyung@joins.com)   \n",
       "23516   정은혜(jeong.eunhye1@joongang.co.kr)   \n",
       "27310  박현영(park.hyunyoung@joongang.co.kr)   \n",
       "41173      김도년(kim.donyun@joongang.co.kr)   \n",
       "55488      김은빈(kim.eunbin@joongang.co.kr)   \n",
       "\n",
       "                                           제목   통합 분류1    통합 분류2  \\\n",
       "11355        찬성 안해 4시간도 안돼 반대 아니다···서울시의 우왕좌왕  정치>정치일반       NaN   \n",
       "23516  美 안보보좌관 中, 트럼프 대선 패배 원해…틱톡은 실질적인 안보 우려  정치>정치일반  국제>미국_북미   \n",
       "27310  트럼프 G7 회의, 대선 이후 열 것…日 현재 틀 유지해야 확대 반대  정치>정치일반    국제>러시아   \n",
       "41173         김대지 국세청장 후보자 경제 여건 고려해 신중히 세무조사  정치>정치일반   경제>경제일반   \n",
       "55488       차명진 확진통보 받은 후 기자들 동시에 전화···누가 알렸나  정치>정치일반       NaN   \n",
       "\n",
       "                                                 개체명(지역)  \\\n",
       "11355                                          서울 계산 서울시   \n",
       "23516  미국 이란 위스콘신 중국 펜실베이니아 미 미시간 노스캐롤라이나 플로리다 러시아 오브라이언   \n",
       "27310  플로리다주 캐나다 독일 우크라이나 미국 리조트 한국 워싱턴 크림반도 인도 영국 도랄...   \n",
       "41173                                                 무산   \n",
       "55488                                 광화문 차명진#전 국회의원 경복궁   \n",
       "\n",
       "                                              개체명(기업/기관)  \\\n",
       "11355                   정부 기획재정부 서울시청 국토부 국토교통부 서울시 내셔널팀   \n",
       "23516  국가방첩안보센터(NCSC 미국 정부 민주당 중국 백악관 틱톡 바이트댄스사 펜실베이니...   \n",
       "27310  독일 미국 일본 G11 정상회 한국 G8 유엔 총회 외교부 백악관 외무장관 정상회의...   \n",
       "41173                    미래통합당 국세청 기획재정부 국세청장 국회 기획재정위원회   \n",
       "55488                                        보건당국 사랑제일교회   \n",
       "\n",
       "                                                     키워드  \\\n",
       "11355  찬성,4시간,반대,서울시,우왕좌왕,취재일기,소신,전략,협의,주체,신뢰,공공재건축,서...   \n",
       "23516  안보,보좌관,트럼프,대선,패배,틱톡,실질적,안보,감염증,신종,코로나바이러스,코로나1...   \n",
       "27310  회의,트럼프,대선,유지,확대,반대,정상,회의,예정,개최,연기,대선,개최,분위기,9월...   \n",
       "41173  여건,김대지,국세청장,후보자,경제,여건,세무조사,후보자,김대지,국세청장,경제,여건,...   \n",
       "55488  차명진,확진통보,동시,전화,광복절,광화문,집회,참석,신종,코로나바이러스,감염증,코로...   \n",
       "\n",
       "                                                    특성추출  \\\n",
       "11355  서울시,본부장,공공재건축,서울,설명자료,최은경,공공재,서울시청,우왕좌왕,권한대행,국...   \n",
       "23516  러시아,미국,중국,틱톡,위스콘신,보좌관,오브라이언,코로나19,웹사이트,민주당,펜실베...   \n",
       "27310            g7,한국,러시아,미국,독일,일본,정상들,의장국,강경화,정상회의,회원국   \n",
       "41173  세무조사,후보자,국세청,인사청문회,납세자,김대지,코로나바이러스,청문회,국세청장,기본...   \n",
       "55488  보건소,광화문,감염증,차명진,동화면세점,기자들,경복궁,광복절,사랑제일교회,보건당국,...   \n",
       "\n",
       "                                                      본문  \\\n",
       "11355  “공공재건축은 서울시는 찬성하지 않는 방식이다.” .. .. ..“서울시도 공공재건...   \n",
       "23516  신종 코로나바이러스 감염증(코로나19)에 걸렸다가 회복된 로버트 오브라이언 미국 백...   \n",
       "27310  도널드 트럼프 미국 대통령이 주요 7개국(G7) 정상회의를 11월 3일로 예정된 대...   \n",
       "41173  김대지 국세청장 후보자는 ..어려운 경제 여건을 고려해 신중하고 절제된 방식으로 세...   \n",
       "55488  광복절 광화문 집회 참석 후 19일 신종 코로나바이러스 감염증(코로나19) 확진 판...   \n",
       "\n",
       "                                                원본주소  \n",
       "11355  https://news.joins.com/article/olink/23436559  \n",
       "23516  https://news.joins.com/article/olink/23439507  \n",
       "27310  https://news.joins.com/article/olink/23440538  \n",
       "41173  https://news.joins.com/article/olink/23444554  \n",
       "55488  https://news.joins.com/article/olink/23446904  "
      ]
     },
     "execution_count": 39,
     "metadata": {},
     "output_type": "execute_result"
    }
   ],
   "source": [
    "# '언론사'가 '중앙일보'\n",
    "# '통합 분류1'이 '정치>정치일반'인 데이터만 가져오기.\n",
    "\n",
    "df_joongang_politics = df[(df['언론사'] == \"중앙일보\") & (df['통합 분류1'] == \"정치>정치일반\")]\n",
    "print(df_joongang_politics.shape)\n",
    "df_joongang_politics.head()"
   ]
  },
  {
   "cell_type": "code",
   "execution_count": 40,
   "metadata": {},
   "outputs": [],
   "source": [
    "df_joongang_politics_title = df[(df['언론사'] == '중앙일보') & (df['통합 분류1'] == '정치>정치일반')]['제목'].copy()"
   ]
  },
  {
   "cell_type": "code",
   "execution_count": 44,
   "metadata": {},
   "outputs": [
    {
     "data": {
      "text/plain": [
       "11355           찬성 안해 4시간도 안돼 반대 아니다···서울시의 우왕좌왕\n",
       "23516     美 안보보좌관 中, 트럼프 대선 패배 원해…틱톡은 실질적인 안보 우려\n",
       "27310     트럼프 G7 회의, 대선 이후 열 것…日 현재 틀 유지해야 확대 반대\n",
       "41173            김대지 국세청장 후보자 경제 여건 고려해 신중히 세무조사\n",
       "55488          차명진 확진통보 받은 후 기자들 동시에 전화···누가 알렸나\n",
       "56623                    [중앙시평] 거위의 털을 아프게 뽑는 정부\n",
       "66291             진영 사랑제일교회發 확산, 신천지보다 심각…무관용 원칙\n",
       "71372            추석 이동제한 고민한다던 與, 부랴부랴 검토 안했다 해명\n",
       "81759                  “코로나19, 락다운은 지속가능 해결책 아냐”\n",
       "90742     문 대통령, 집회명단 제출 거부한 민주노총 겨냥 “방역엔 특권 없다”\n",
       "92383      늘어나는 세금, 허리 휘는 국민...작년 국민부담률 첫 27% 돌파\n",
       "95156            앞뒤 안맞는 부동산 정책, 끝까지 추적해 방향 제시했으면\n",
       "95850          文 거리두기 2단계 효과 지켜본뒤, 3단계 격상 신중히 검토\n",
       "96640         사상 최대로 걷은 세금, 국민부담률 6년새 23.1→27.3%\n",
       "106467         오늘 퇴원 차명진 文정권, 집회=코로나 전파 증거 제시 못해\n",
       "Name: 제목, dtype: object"
      ]
     },
     "execution_count": 44,
     "metadata": {},
     "output_type": "execute_result"
    }
   ],
   "source": [
    "len(df_joongang_politics_title)\n",
    "df_joongang_politics_title"
   ]
  }
 ],
 "metadata": {
  "kernelspec": {
   "display_name": "Python 3",
   "language": "python",
   "name": "python3"
  },
  "language_info": {
   "codemirror_mode": {
    "name": "ipython",
    "version": 3
   },
   "file_extension": ".py",
   "mimetype": "text/x-python",
   "name": "python",
   "nbconvert_exporter": "python",
   "pygments_lexer": "ipython3",
   "version": "3.8.5"
  },
  "toc": {
   "base_numbering": 1,
   "nav_menu": {},
   "number_sections": true,
   "sideBar": true,
   "skip_h1_title": false,
   "title_cell": "Table of Contents",
   "title_sidebar": "Contents",
   "toc_cell": false,
   "toc_position": {
    "height": "calc(100% - 180px)",
    "left": "10px",
    "top": "150px",
    "width": "243px"
   },
   "toc_section_display": true,
   "toc_window_display": true
  }
 },
 "nbformat": 4,
 "nbformat_minor": 4
}
