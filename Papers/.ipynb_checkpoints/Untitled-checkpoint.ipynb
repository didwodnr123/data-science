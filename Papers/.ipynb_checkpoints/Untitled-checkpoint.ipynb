{
 "cells": [
  {
   "cell_type": "code",
   "execution_count": 101,
   "metadata": {},
   "outputs": [],
   "source": [
    "import numpy as np\n",
    "import pandas as pd\n",
    "import matplotlib.pyplot as plt\n",
    "import scipy.optimize as opt\n",
    "\n",
    "import warnings\n",
    "warnings.filterwarnings(action='ignore')\n",
    "\n",
    "import tensorflow as tf\n",
    "from tensorflow import keras\n",
    "\n",
    "from sklearn.model_selection import train_test_split"
   ]
  },
  {
   "cell_type": "code",
   "execution_count": 309,
   "metadata": {},
   "outputs": [
    {
     "data": {
      "text/html": [
       "<div>\n",
       "<style scoped>\n",
       "    .dataframe tbody tr th:only-of-type {\n",
       "        vertical-align: middle;\n",
       "    }\n",
       "\n",
       "    .dataframe tbody tr th {\n",
       "        vertical-align: top;\n",
       "    }\n",
       "\n",
       "    .dataframe thead th {\n",
       "        text-align: right;\n",
       "    }\n",
       "</style>\n",
       "<table border=\"1\" class=\"dataframe\">\n",
       "  <thead>\n",
       "    <tr style=\"text-align: right;\">\n",
       "      <th></th>\n",
       "      <th>0</th>\n",
       "      <th>1</th>\n",
       "      <th>2</th>\n",
       "    </tr>\n",
       "  </thead>\n",
       "  <tbody>\n",
       "    <tr>\n",
       "      <th>0</th>\n",
       "      <td>0.051267</td>\n",
       "      <td>0.699560</td>\n",
       "      <td>1</td>\n",
       "    </tr>\n",
       "    <tr>\n",
       "      <th>1</th>\n",
       "      <td>-0.092742</td>\n",
       "      <td>0.684940</td>\n",
       "      <td>1</td>\n",
       "    </tr>\n",
       "    <tr>\n",
       "      <th>2</th>\n",
       "      <td>-0.213710</td>\n",
       "      <td>0.692250</td>\n",
       "      <td>1</td>\n",
       "    </tr>\n",
       "    <tr>\n",
       "      <th>3</th>\n",
       "      <td>-0.375000</td>\n",
       "      <td>0.502190</td>\n",
       "      <td>1</td>\n",
       "    </tr>\n",
       "    <tr>\n",
       "      <th>4</th>\n",
       "      <td>-0.513250</td>\n",
       "      <td>0.465640</td>\n",
       "      <td>1</td>\n",
       "    </tr>\n",
       "    <tr>\n",
       "      <th>...</th>\n",
       "      <td>...</td>\n",
       "      <td>...</td>\n",
       "      <td>...</td>\n",
       "    </tr>\n",
       "    <tr>\n",
       "      <th>113</th>\n",
       "      <td>-0.720620</td>\n",
       "      <td>0.538740</td>\n",
       "      <td>0</td>\n",
       "    </tr>\n",
       "    <tr>\n",
       "      <th>114</th>\n",
       "      <td>-0.593890</td>\n",
       "      <td>0.494880</td>\n",
       "      <td>0</td>\n",
       "    </tr>\n",
       "    <tr>\n",
       "      <th>115</th>\n",
       "      <td>-0.484450</td>\n",
       "      <td>0.999270</td>\n",
       "      <td>0</td>\n",
       "    </tr>\n",
       "    <tr>\n",
       "      <th>116</th>\n",
       "      <td>-0.006336</td>\n",
       "      <td>0.999270</td>\n",
       "      <td>0</td>\n",
       "    </tr>\n",
       "    <tr>\n",
       "      <th>117</th>\n",
       "      <td>0.632650</td>\n",
       "      <td>-0.030612</td>\n",
       "      <td>0</td>\n",
       "    </tr>\n",
       "  </tbody>\n",
       "</table>\n",
       "<p>118 rows × 3 columns</p>\n",
       "</div>"
      ],
      "text/plain": [
       "            0         1  2\n",
       "0    0.051267  0.699560  1\n",
       "1   -0.092742  0.684940  1\n",
       "2   -0.213710  0.692250  1\n",
       "3   -0.375000  0.502190  1\n",
       "4   -0.513250  0.465640  1\n",
       "..        ...       ... ..\n",
       "113 -0.720620  0.538740  0\n",
       "114 -0.593890  0.494880  0\n",
       "115 -0.484450  0.999270  0\n",
       "116 -0.006336  0.999270  0\n",
       "117  0.632650 -0.030612  0\n",
       "\n",
       "[118 rows x 3 columns]"
      ]
     },
     "execution_count": 309,
     "metadata": {},
     "output_type": "execute_result"
    }
   ],
   "source": [
    "data = pd.read_csv('data/ex2data2.txt', header = None)\n",
    "# or data = pd.read_csv(path, header=None, names=['test1','test2','accepted'])\n",
    "X = data.iloc[:,:-1]\n",
    "y = data.iloc[:,2]\n",
    "data"
   ]
  },
  {
   "cell_type": "code",
   "execution_count": 310,
   "metadata": {},
   "outputs": [
    {
     "data": {
      "image/png": "[encoded data removed]",
      "text/plain": [
       "<Figure size 432x288 with 1 Axes>"
      ]
     },
     "metadata": {
      "needs_background": "light"
     },
     "output_type": "display_data"
    }
   ],
   "source": [
    "mask = y == 1\n",
    "passed = plt.scatter(X[mask][0].values, X[mask][1].values, s=50, c='k', marker='+',)\n",
    "failed = plt.scatter(X[~mask][0].values, X[~mask][1].values, s=50, c='y', marker='o',)\n",
    "plt.xlabel('Microchip Test1')\n",
    "plt.ylabel('Microchip Test2')\n",
    "plt.legend((passed, failed), ('Accepted', 'Rejected'))\n",
    "plt.show()"
   ]
  },
  {
   "cell_type": "code",
   "execution_count": 311,
   "metadata": {},
   "outputs": [
    {
     "data": {
      "text/plain": [
       "array([1.00000000e+00, 5.12670000e-02, 6.99560000e-01, 2.62830529e-03,\n",
       "       3.58643425e-02, 4.89384194e-01, 1.34745327e-04, 1.83865725e-03,\n",
       "       2.50892595e-02, 3.42353606e-01, 6.90798869e-06, 9.42624411e-05,\n",
       "       1.28625106e-03, 1.75514423e-02, 2.39496889e-01, 3.54151856e-07,\n",
       "       4.83255257e-06, 6.59422333e-05, 8.99809795e-04, 1.22782870e-02,\n",
       "       1.67542444e-01, 1.81563032e-08, 2.47750473e-07, 3.38066048e-06,\n",
       "       4.61305487e-05, 6.29470940e-04, 8.58939846e-03, 1.17205992e-01])"
      ]
     },
     "execution_count": 311,
     "metadata": {},
     "output_type": "execute_result"
    }
   ],
   "source": [
    "def mapFeature(X1, X2, degree):\n",
    "    out = np.ones(X.shape[0])[:,np.newaxis]\n",
    "    for i in range(1, degree+1):\n",
    "        for j in range(i+1):\n",
    "            out = np.hstack((out, np.multiply(np.power(X1, i-j), np.power(X2, j))[:,np.newaxis]))\n",
    "    return out\n",
    "degree = 6\n",
    "X = mapFeature(X.iloc[:,0], X.iloc[:,1], degree)\n",
    "X[0,:]"
   ]
  },
  {
   "cell_type": "code",
   "execution_count": 312,
   "metadata": {},
   "outputs": [
    {
     "data": {
      "text/plain": [
       "(118, 28)"
      ]
     },
     "execution_count": 312,
     "metadata": {},
     "output_type": "execute_result"
    }
   ],
   "source": [
    "X.shape"
   ]
  },
  {
   "cell_type": "code",
   "execution_count": 317,
   "metadata": {},
   "outputs": [],
   "source": [
    "model1 = keras.Sequential([\n",
    "    keras.layers.Dense(128, activation='relu'),\n",
    "    keras.layers.Dense(32, activation='relu'),\n",
    "    keras.layers.Dense(1, activation='sigmoid')\n",
    "])"
   ]
  },
  {
   "cell_type": "code",
   "execution_count": 318,
   "metadata": {},
   "outputs": [],
   "source": [
    "model1.compile(optimizer='adam',\n",
    "              loss='binary_crossentropy',\n",
    "              metrics=['accuracy'])"
   ]
  },
  {
   "cell_type": "code",
   "execution_count": 319,
   "metadata": {},
   "outputs": [
    {
     "name": "stdout",
     "output_type": "stream",
     "text": [
      "Epoch 1/8\n",
      "1/1 [==============================] - 0s 255ms/step - loss: 0.6922 - accuracy: 0.5085\n",
      "Epoch 2/8\n",
      "1/1 [==============================] - 0s 2ms/step - loss: 0.6845 - accuracy: 0.6017\n",
      "Epoch 3/8\n",
      "1/1 [==============================] - 0s 2ms/step - loss: 0.6772 - accuracy: 0.6780\n",
      "Epoch 4/8\n",
      "1/1 [==============================] - 0s 2ms/step - loss: 0.6705 - accuracy: 0.7119\n",
      "Epoch 5/8\n",
      "1/1 [==============================] - 0s 2ms/step - loss: 0.6643 - accuracy: 0.6949\n",
      "Epoch 6/8\n",
      "1/1 [==============================] - 0s 2ms/step - loss: 0.6582 - accuracy: 0.7203\n",
      "Epoch 7/8\n",
      "1/1 [==============================] - 0s 2ms/step - loss: 0.6526 - accuracy: 0.7288\n",
      "Epoch 8/8\n",
      "1/1 [==============================] - 0s 2ms/step - loss: 0.6473 - accuracy: 0.7373\n"
     ]
    },
    {
     "data": {
      "text/plain": [
       "<tensorflow.python.keras.callbacks.History at 0x7f810ad1df10>"
      ]
     },
     "execution_count": 319,
     "metadata": {},
     "output_type": "execute_result"
    }
   ],
   "source": [
    "model1.fit(X, y, epochs=8, batch_size=X.shape[0])"
   ]
  },
  {
   "cell_type": "code",
   "execution_count": 320,
   "metadata": {},
   "outputs": [
    {
     "name": "stdout",
     "output_type": "stream",
     "text": [
      "Model: \"sequential_73\"\n",
      "_________________________________________________________________\n",
      "Layer (type)                 Output Shape              Param #   \n",
      "=================================================================\n",
      "dense_111 (Dense)            (118, 128)                3712      \n",
      "_________________________________________________________________\n",
      "dense_112 (Dense)            (118, 32)                 4128      \n",
      "_________________________________________________________________\n",
      "dense_113 (Dense)            (118, 1)                  33        \n",
      "=================================================================\n",
      "Total params: 7,873\n",
      "Trainable params: 7,873\n",
      "Non-trainable params: 0\n",
      "_________________________________________________________________\n"
     ]
    }
   ],
   "source": [
    "model1.summary()"
   ]
  },
  {
   "cell_type": "code",
   "execution_count": 321,
   "metadata": {},
   "outputs": [
    {
     "data": {
      "text/plain": [
       "(118, 28)"
      ]
     },
     "execution_count": 321,
     "metadata": {},
     "output_type": "execute_result"
    }
   ],
   "source": [
    "X.shape"
   ]
  },
  {
   "cell_type": "code",
   "execution_count": 322,
   "metadata": {},
   "outputs": [],
   "source": [
    "model2 = keras.Sequential([\n",
    "    keras.layers.Dense(128, activation='relu', kernel_regularizer=keras.regularizers.L2(l2=1)),\n",
    "    keras.layers.Dense(32, activation='relu', kernel_regularizer=keras.regularizers.L2(l2=1)),\n",
    "    keras.layers.Dense(1, activation='sigmoid')\n",
    "])"
   ]
  },
  {
   "cell_type": "code",
   "execution_count": 323,
   "metadata": {},
   "outputs": [],
   "source": [
    "model2.compile(optimizer='adam',\n",
    "              loss='binary_crossentropy',\n",
    "              metrics=['accuracy'])"
   ]
  },
  {
   "cell_type": "code",
   "execution_count": 324,
   "metadata": {},
   "outputs": [
    {
     "name": "stdout",
     "output_type": "stream",
     "text": [
      "Epoch 1/8\n",
      "1/1 [==============================] - 0s 329ms/step - loss: 96.7343 - accuracy: 0.5932\n",
      "Epoch 2/8\n",
      "1/1 [==============================] - 0s 2ms/step - loss: 95.2590 - accuracy: 0.5932\n",
      "Epoch 3/8\n",
      "1/1 [==============================] - 0s 2ms/step - loss: 93.7995 - accuracy: 0.6102\n",
      "Epoch 4/8\n",
      "1/1 [==============================] - 0s 2ms/step - loss: 92.3559 - accuracy: 0.6271\n",
      "Epoch 5/8\n",
      "1/1 [==============================] - 0s 2ms/step - loss: 90.9282 - accuracy: 0.6271\n",
      "Epoch 6/8\n",
      "1/1 [==============================] - 0s 2ms/step - loss: 89.5167 - accuracy: 0.6186\n",
      "Epoch 7/8\n",
      "1/1 [==============================] - 0s 2ms/step - loss: 88.1214 - accuracy: 0.6102\n",
      "Epoch 8/8\n",
      "1/1 [==============================] - 0s 3ms/step - loss: 86.7424 - accuracy: 0.6186\n"
     ]
    },
    {
     "data": {
      "text/plain": [
       "<tensorflow.python.keras.callbacks.History at 0x7f810ba152b0>"
      ]
     },
     "execution_count": 324,
     "metadata": {},
     "output_type": "execute_result"
    }
   ],
   "source": [
    "model2.fit(X, y, epochs=8, batch_size=X.shape[0])"
   ]
  },
  {
   "cell_type": "code",
   "execution_count": 325,
   "metadata": {},
   "outputs": [
    {
     "name": "stdout",
     "output_type": "stream",
     "text": [
      "Model: \"sequential_74\"\n",
      "_________________________________________________________________\n",
      "Layer (type)                 Output Shape              Param #   \n",
      "=================================================================\n",
      "dense_114 (Dense)            (118, 128)                3712      \n",
      "_________________________________________________________________\n",
      "dense_115 (Dense)            (118, 32)                 4128      \n",
      "_________________________________________________________________\n",
      "dense_116 (Dense)            (118, 1)                  33        \n",
      "=================================================================\n",
      "Total params: 7,873\n",
      "Trainable params: 7,873\n",
      "Non-trainable params: 0\n",
      "_________________________________________________________________\n"
     ]
    }
   ],
   "source": [
    "model2.summary()"
   ]
  },
  {
   "cell_type": "code",
   "execution_count": 326,
   "metadata": {},
   "outputs": [
    {
     "data": {
      "image/png": "[encoded data removed]",
      "text/plain": [
       "<Figure size 432x288 with 1 Axes>"
      ]
     },
     "metadata": {
      "needs_background": "light"
     },
     "output_type": "display_data"
    }
   ],
   "source": [
    "u = np.linspace(-1, 1.5, 50)\n",
    "v = np.linspace(-1, 1.5, 50)\n",
    "z = np.zeros((len(u), len(v)))\n",
    "\n",
    "y_new = y[:, np.newaxis]\n",
    "degree = 6\n",
    "\n",
    "def mapFeatureForPlotting(X1, X2, degree):\n",
    "    out = np.ones(1)\n",
    "    for i in range(1, degree+1):\n",
    "        for j in range(i+1):\n",
    "            out = np.hstack((out, np.multiply(np.power(X1, i-j), np.power(X2, j))))\n",
    "    return out\n",
    "\n",
    "for i in range(len(u)):\n",
    "    for j in range(len(v)):\n",
    "        # x = ln(y/(1-y))\n",
    "        z[i,j] = model1.predict(mapFeatureForPlotting(u[i],v[j],degree).reshape(1, 28))\n",
    "        z[i,j] = np.log(z[i,j] / (1-z[i,j]))\n",
    "        \n",
    "mask = y_new.flatten() == 1\n",
    "x = data.iloc[:,:-1]\n",
    "passed = plt.scatter(x[mask][0].values, x[mask][1].values, s=50, c='k', marker='+',)\n",
    "failed = plt.scatter(x[~mask][0].values, x[~mask][1].values, s=50, c='y', marker='o',)\n",
    "plt.contour(u,v,z,0)\n",
    "plt.xlabel('Microchip Test1')\n",
    "plt.ylabel('Microchip Test2')\n",
    "plt.title('$\\lambda = None$.')\n",
    "plt.legend((passed, failed), ('Passed', 'Failed'))\n",
    "plt.show()"
   ]
  },
  {
   "cell_type": "code",
   "execution_count": 327,
   "metadata": {
    "scrolled": true
   },
   "outputs": [
    {
     "data": {
      "image/png": "[encoded data removed]",
      "text/plain": [
       "<Figure size 432x288 with 1 Axes>"
      ]
     },
     "metadata": {
      "needs_background": "light"
     },
     "output_type": "display_data"
    }
   ],
   "source": [
    "u = np.linspace(-1, 1.5, 50)\n",
    "v = np.linspace(-1, 1.5, 50)\n",
    "z = np.zeros((len(u), len(v)))\n",
    "\n",
    "for i in range(len(u)):\n",
    "    for j in range(len(v)):\n",
    "        # x = ln(y/(1-y))\n",
    "        z[i,j] = model2.predict(mapFeatureForPlotting(u[i],v[j],degree).reshape(1, 28))\n",
    "        z[i,j] = np.log(z[i,j] / (1-z[i,j]))\n",
    "        \n",
    "mask = y_new.flatten() == 1\n",
    "x = data.iloc[:,:-1]\n",
    "passed = plt.scatter(x[mask][0].values, x[mask][1].values, s=50, c='k', marker='+',)\n",
    "failed = plt.scatter(x[~mask][0].values, x[~mask][1].values, s=50, c='y', marker='o',)\n",
    "plt.contour(u,v,z,0)\n",
    "plt.xlabel('Microchip Test1')\n",
    "plt.ylabel('Microchip Test2')\n",
    "plt.title('$\\lambda = 1$.')\n",
    "plt.legend((passed, failed), ('Passed', 'Failed'))\n",
    "plt.show()"
   ]
  },
  {
   "cell_type": "code",
   "execution_count": null,
   "metadata": {},
   "outputs": [],
   "source": []
  }
 ],
 "metadata": {
  "kernelspec": {
   "display_name": "Python 3",
   "language": "python",
   "name": "python3"
  },
  "language_info": {
   "codemirror_mode": {
    "name": "ipython",
    "version": 3
   },
   "file_extension": ".py",
   "mimetype": "text/x-python",
   "name": "python",
   "nbconvert_exporter": "python",
   "pygments_lexer": "ipython3",
   "version": "3.8.5"
  }
 },
 "nbformat": 4,
 "nbformat_minor": 4
}
