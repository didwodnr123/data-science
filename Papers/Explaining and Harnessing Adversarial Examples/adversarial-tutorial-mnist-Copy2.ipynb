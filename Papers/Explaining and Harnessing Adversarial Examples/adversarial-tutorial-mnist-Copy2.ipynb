{
 "cells": [
  {
   "cell_type": "code",
   "execution_count": 50,
   "metadata": {},
   "outputs": [],
   "source": [
    "import tensorflow as tf\n",
    "\n",
    "from tensorflow.keras.datasets import mnist, cifar10, cifar100\n",
    "\n",
    "from tensorflow import keras\n",
    "from tensorflow.keras import Sequential\n",
    "from tensorflow.keras.callbacks import LambdaCallback\n",
    "from tensorflow.keras.layers import Conv2D, MaxPooling2D, Dropout, Dense, Flatten, Activation\n",
    "\n",
    "import numpy as np\n",
    "import random\n",
    "\n",
    "import matplotlib.pyplot as plt"
   ]
  },
  {
   "cell_type": "code",
   "execution_count": 51,
   "metadata": {},
   "outputs": [
    {
     "data": {
      "text/plain": [
       "'2.4.0'"
      ]
     },
     "execution_count": 51,
     "metadata": {},
     "output_type": "execute_result"
    }
   ],
   "source": [
    "# This should print something along the lines of '2.0.0-rc1'\n",
    "tf.__version__"
   ]
  },
  {
   "cell_type": "code",
   "execution_count": 52,
   "metadata": {},
   "outputs": [],
   "source": [
    "(x_train, y_train), (x_test, y_test) = mnist.load_data()"
   ]
  },
  {
   "cell_type": "code",
   "execution_count": 53,
   "metadata": {},
   "outputs": [
    {
     "data": {
      "text/plain": [
       "((60000, 28, 28), (60000,))"
      ]
     },
     "execution_count": 53,
     "metadata": {},
     "output_type": "execute_result"
    }
   ],
   "source": [
    "x_train.shape, y_train.shape"
   ]
  },
  {
   "cell_type": "code",
   "execution_count": 54,
   "metadata": {},
   "outputs": [],
   "source": [
    "# MNIST\n",
    "labels = ['zero', 'one', 'two', 'three', 'four', 'five', 'six', 'seven', 'eight', 'nine']"
   ]
  },
  {
   "cell_type": "code",
   "execution_count": 55,
   "metadata": {},
   "outputs": [
    {
     "name": "stdout",
     "output_type": "stream",
     "text": [
      "Data shapes (10000, 28, 28, 1) (10000, 10) (60000, 28, 28, 1) (60000, 10)\n"
     ]
    }
   ],
   "source": [
    "# Pre-process data\n",
    "img_rows, img_cols, channels = 28, 28, 1 # 32, 32, 3\n",
    "num_classes = 10\n",
    "\n",
    "x_train = x_train / 255\n",
    "x_test = x_test / 255\n",
    "\n",
    "x_train = x_train.reshape((-1, img_rows, img_cols, channels))\n",
    "x_test = x_test.reshape((-1, img_rows, img_cols, channels))\n",
    "\n",
    "y_train = tf.keras.utils.to_categorical(y_train, num_classes)\n",
    "y_test = tf.keras.utils.to_categorical(y_test, num_classes)\n",
    "\n",
    "print(\"Data shapes\", x_test.shape, y_test.shape, x_train.shape, y_train.shape)"
   ]
  },
  {
   "cell_type": "code",
   "execution_count": 69,
   "metadata": {},
   "outputs": [],
   "source": [
    "model_000 = tf.keras.Sequential([\n",
    "    tf.keras.layers.Flatten(input_shape=(28, 28)),\n",
    "    tf.keras.layers.Dense(128, activation='relu'),    \n",
    "    tf.keras.layers.Dense(64, activation='relu'),\n",
    "    tf.keras.layers.Dense(32, activation='relu'),\n",
    "    tf.keras.layers.Dense(10, activation='softmax')\n",
    "], name='mdoel_000')\n",
    "\n",
    "# l2: 0.01\n",
    "model_001 = tf.keras.Sequential([\n",
    "    tf.keras.layers.Flatten(input_shape=(28, 28)),\n",
    "    tf.keras.layers.Dense(128, activation='relu', kernel_regularizer=keras.regularizers.l2(0.00)),    \n",
    "    tf.keras.layers.Dense(64, activation='relu', kernel_regularizer=keras.regularizers.l2(0.00)),\n",
    "    tf.keras.layers.Dense(32, activation='relu', kernel_regularizer=keras.regularizers.l2(0.01)),\n",
    "    tf.keras.layers.Dense(10, activation='softmax')\n",
    "])\n",
    "\n",
    "model_011 = tf.keras.Sequential([\n",
    "    tf.keras.layers.Flatten(input_shape=(28, 28)),\n",
    "    tf.keras.layers.Dense(128, activation='relu', kernel_regularizer=keras.regularizers.l2(0.00)),    \n",
    "    tf.keras.layers.Dense(64, activation='relu', kernel_regularizer=keras.regularizers.l2(0.01)),\n",
    "    tf.keras.layers.Dense(32, activation='relu', kernel_regularizer=keras.regularizers.l2(0.01)),\n",
    "    tf.keras.layers.Dense(10, activation='softmax')\n",
    "], name='model_011')\n",
    "\n",
    "model_111 = tf.keras.Sequential([\n",
    "    tf.keras.layers.Flatten(input_shape=(28, 28)),\n",
    "    tf.keras.layers.Dense(128, activation='relu', kernel_regularizer=keras.regularizers.l2(0.01)),    \n",
    "    tf.keras.layers.Dense(64, activation='relu', kernel_regularizer=keras.regularizers.l2(0.01)),\n",
    "    tf.keras.layers.Dense(32, activation='relu', kernel_regularizer=keras.regularizers.l2(0.01)),\n",
    "    tf.keras.layers.Dense(10, activation='softmax')\n",
    "])\n",
    "\n",
    "# l2: 0.1\n",
    "model_002 = tf.keras.Sequential([\n",
    "    tf.keras.layers.Flatten(input_shape=(28, 28)),\n",
    "    tf.keras.layers.Dense(128, activation='relu', kernel_regularizer=keras.regularizers.l2(0.00)),    \n",
    "    tf.keras.layers.Dense(64, activation='relu', kernel_regularizer=keras.regularizers.l2(0.00)),\n",
    "    tf.keras.layers.Dense(32, activation='relu', kernel_regularizer=keras.regularizers.l2(0.1)),\n",
    "    tf.keras.layers.Dense(10, activation='softmax')\n",
    "])\n",
    "\n",
    "model_022 = tf.keras.Sequential([\n",
    "    tf.keras.layers.Flatten(input_shape=(28, 28)),\n",
    "    tf.keras.layers.Dense(128, activation='relu', kernel_regularizer=keras.regularizers.l2(0.00)),    \n",
    "    tf.keras.layers.Dense(64, activation='relu', kernel_regularizer=keras.regularizers.l2(0.1)),\n",
    "    tf.keras.layers.Dense(32, activation='relu', kernel_regularizer=keras.regularizers.l2(0.1)),\n",
    "    tf.keras.layers.Dense(10, activation='softmax')\n",
    "], name='model_022')\n",
    "\n",
    "model_222 = tf.keras.Sequential([\n",
    "    tf.keras.layers.Flatten(input_shape=(28, 28)),\n",
    "    tf.keras.layers.Dense(128, activation='relu', kernel_regularizer=keras.regularizers.l2(0.1)),    \n",
    "    tf.keras.layers.Dense(64, activation='relu', kernel_regularizer=keras.regularizers.l2(0.1)),\n",
    "    tf.keras.layers.Dense(32, activation='relu', kernel_regularizer=keras.regularizers.l2(0.1)),\n",
    "    tf.keras.layers.Dense(10, activation='softmax')\n",
    "])\n",
    "\n",
    "# l2: 1.0\n",
    "model_003 = tf.keras.Sequential([\n",
    "    tf.keras.layers.Flatten(input_shape=(28, 28)),\n",
    "    tf.keras.layers.Dense(128, activation='relu', kernel_regularizer=keras.regularizers.l2(0.00)),    \n",
    "    tf.keras.layers.Dense(64, activation='relu', kernel_regularizer=keras.regularizers.l2(0.00)),\n",
    "    tf.keras.layers.Dense(32, activation='relu', kernel_regularizer=keras.regularizers.l2(1.0)),\n",
    "    tf.keras.layers.Dense(10, activation='softmax')\n",
    "])\n",
    "\n",
    "model_033 = tf.keras.Sequential([\n",
    "    tf.keras.layers.Flatten(input_shape=(28, 28)),\n",
    "    tf.keras.layers.Dense(128, activation='relu', kernel_regularizer=keras.regularizers.l2(0.00)),    \n",
    "    tf.keras.layers.Dense(64, activation='relu', kernel_regularizer=keras.regularizers.l2(1.0)),\n",
    "    tf.keras.layers.Dense(32, activation='relu', kernel_regularizer=keras.regularizers.l2(1.0)),\n",
    "    tf.keras.layers.Dense(10, activation='softmax')\n",
    "])\n",
    "\n",
    "model_333 = tf.keras.Sequential([\n",
    "    tf.keras.layers.Flatten(input_shape=(28, 28)),\n",
    "    tf.keras.layers.Dense(128, activation='relu', kernel_regularizer=keras.regularizers.l2(1.0)),    \n",
    "    tf.keras.layers.Dense(64, activation='relu', kernel_regularizer=keras.regularizers.l2(1.0)),\n",
    "    tf.keras.layers.Dense(32, activation='relu', kernel_regularizer=keras.regularizers.l2(1.0)),\n",
    "    tf.keras.layers.Dense(10, activation='softmax')\n",
    "])"
   ]
  },
  {
   "cell_type": "code",
   "execution_count": 70,
   "metadata": {
    "scrolled": false
   },
   "outputs": [],
   "source": [
    "model_000.compile(optimizer='adam',\n",
    "              loss=tf.keras.losses.CategoricalCrossentropy(),\n",
    "              metrics=['accuracy'])\n",
    "model_001.compile(optimizer='adam',\n",
    "              loss=tf.keras.losses.CategoricalCrossentropy(),\n",
    "              metrics=['accuracy'])\n",
    "model_011.compile(optimizer='adam',\n",
    "              loss=tf.keras.losses.CategoricalCrossentropy(),\n",
    "              metrics=['accuracy'])\n",
    "model_111.compile(optimizer='adam',\n",
    "              loss=tf.keras.losses.CategoricalCrossentropy(),\n",
    "              metrics=['accuracy'])\n",
    "model_002.compile(optimizer='adam',\n",
    "              loss=tf.keras.losses.CategoricalCrossentropy(),\n",
    "              metrics=['accuracy'])\n",
    "model_022.compile(optimizer='adam',\n",
    "              loss=tf.keras.losses.CategoricalCrossentropy(),\n",
    "              metrics=['accuracy'])\n",
    "model_222.compile(optimizer='adam',\n",
    "              loss=tf.keras.losses.CategoricalCrossentropy(),\n",
    "              metrics=['accuracy'])\n",
    "model_003.compile(optimizer='adam',\n",
    "              loss=tf.keras.losses.CategoricalCrossentropy(),\n",
    "              metrics=['accuracy'])\n",
    "model_033.compile(optimizer='adam',\n",
    "              loss=tf.keras.losses.CategoricalCrossentropy(),\n",
    "              metrics=['accuracy'])\n",
    "model_333.compile(optimizer='adam',\n",
    "              loss=tf.keras.losses.CategoricalCrossentropy(),\n",
    "              metrics=['accuracy'])"
   ]
  },
  {
   "cell_type": "code",
   "execution_count": 71,
   "metadata": {},
   "outputs": [],
   "source": [
    "history_000 = model_000.fit(x_train, y_train, epochs=10, verbose=0)\n",
    "history_001 = model_001.fit(x_train, y_train, epochs=10, verbose=0)\n",
    "history_011 = model_011.fit(x_train, y_train, epochs=10, verbose=0)\n",
    "history_111 = model_111.fit(x_train, y_train, epochs=10, verbose=0)\n",
    "history_002 = model_002.fit(x_train, y_train, epochs=10, verbose=0)\n",
    "history_022 = model_022.fit(x_train, y_train, epochs=10, verbose=0)\n",
    "history_222 = model_222.fit(x_train, y_train, epochs=10, verbose=0)\n",
    "history_003 = model_003.fit(x_train, y_train, epochs=10, verbose=0)\n",
    "history_033 = model_033.fit(x_train, y_train, epochs=10, verbose=0)\n",
    "history_333 = model_333.fit(x_train, y_train, epochs=10, verbose=0)"
   ]
  },
  {
   "cell_type": "code",
   "execution_count": 72,
   "metadata": {},
   "outputs": [
    {
     "name": "stdout",
     "output_type": "stream",
     "text": [
      "000 :  [0.9902499914169312, 0.991183340549469, 0.9926333427429199]\n",
      "001 :  [0.9890166521072388, 0.9903500080108643, 0.9913166761398315]\n",
      "011 :  [0.982200026512146, 0.9834499955177307, 0.9855833053588867]\n",
      "111 :  [0.9445666670799255, 0.946233332157135, 0.9468333125114441]\n",
      "002 :  [0.9847833514213562, 0.9868999719619751, 0.9884333610534668]\n",
      "022 :  [0.9639833569526672, 0.9659166932106018, 0.9681000113487244]\n",
      "222 :  [0.8066666722297668, 0.809499979019165, 0.8149166703224182]\n",
      "003 :  [0.9797000288963318, 0.9813833236694336, 0.9836666584014893]\n",
      "033 :  [0.9049500226974487, 0.9097833037376404, 0.9168166518211365]\n",
      "333 :  [0.11236666887998581, 0.11236666887998581, 0.11236666887998581]\n"
     ]
    }
   ],
   "source": [
    "print(\"000 : \", history_000.history['accuracy'][-3:])\n",
    "print(\"001 : \", history_001.history['accuracy'][-3:])\n",
    "print(\"011 : \", history_011.history['accuracy'][-3:])\n",
    "print(\"111 : \", history_111.history['accuracy'][-3:])\n",
    "print(\"002 : \", history_002.history['accuracy'][-3:])\n",
    "print(\"022 : \", history_022.history['accuracy'][-3:])\n",
    "print(\"222 : \", history_222.history['accuracy'][-3:])\n",
    "print(\"003 : \", history_003.history['accuracy'][-3:])\n",
    "print(\"033 : \", history_033.history['accuracy'][-3:])\n",
    "print(\"333 : \", history_333.history['accuracy'][-3:])"
   ]
  },
  {
   "cell_type": "code",
   "execution_count": 73,
   "metadata": {},
   "outputs": [
    {
     "name": "stdout",
     "output_type": "stream",
     "text": [
      "Model_000 Base accuracy on regular images: [0.10840249061584473, 0.9736999869346619]\n",
      "Model_001 Base accuracy on regular images: [0.08101356029510498, 0.9786999821662903]\n",
      "Model_011 Base accuracy on regular images: [0.11962022632360458, 0.9757000207901001]\n",
      "Model_111 Base accuracy on regular images: [0.37381604313850403, 0.9506000280380249]\n",
      "Model_002 Base accuracy on regular images: [0.09405718743801117, 0.9782999753952026]\n",
      "Model_022 Base accuracy on regular images: [0.21911023557186127, 0.9587000012397766]\n",
      "Model_222 Base accuracy on regular images: [1.047797441482544, 0.819100022315979]\n",
      "Model_003 Base accuracy on regular images: [0.12669238448143005, 0.9732999801635742]\n",
      "Model_033 Base accuracy on regular images: [0.45642974972724915, 0.9108999967575073]\n",
      "Model_333 Base accuracy on regular images: [2.301227331161499, 0.11349999904632568]\n"
     ]
    }
   ],
   "source": [
    "# Assess base model accuracy on regular images\n",
    "print(\"Model_000 Base accuracy on regular images:\", model_000.evaluate(x=x_test, y=y_test, verbose=0))\n",
    "print(\"Model_001 Base accuracy on regular images:\", model_001.evaluate(x=x_test, y=y_test, verbose=0))\n",
    "print(\"Model_011 Base accuracy on regular images:\", model_011.evaluate(x=x_test, y=y_test, verbose=0))\n",
    "print(\"Model_111 Base accuracy on regular images:\", model_111.evaluate(x=x_test, y=y_test, verbose=0))\n",
    "print(\"Model_002 Base accuracy on regular images:\", model_002.evaluate(x=x_test, y=y_test, verbose=0))\n",
    "print(\"Model_022 Base accuracy on regular images:\", model_022.evaluate(x=x_test, y=y_test, verbose=0))\n",
    "print(\"Model_222 Base accuracy on regular images:\", model_222.evaluate(x=x_test, y=y_test, verbose=0))\n",
    "print(\"Model_003 Base accuracy on regular images:\", model_003.evaluate(x=x_test, y=y_test, verbose=0))\n",
    "print(\"Model_033 Base accuracy on regular images:\", model_033.evaluate(x=x_test, y=y_test, verbose=0))\n",
    "print(\"Model_333 Base accuracy on regular images:\", model_333.evaluate(x=x_test, y=y_test, verbose=0))"
   ]
  },
  {
   "cell_type": "code",
   "execution_count": 84,
   "metadata": {},
   "outputs": [],
   "source": [
    "# Function to create adversarial pattern\n",
    "def adversarial_pattern(image, label, model):\n",
    "\n",
    "    image = tf.cast(image, tf.float32)\n",
    "\n",
    "    with tf.GradientTape() as tape:\n",
    "        tape.watch(image)\n",
    "        prediction = model(image)\n",
    "        \n",
    "        label = label.reshape(1, -1)\n",
    "\n",
    "        loss = tf.keras.losses.CategoricalCrossentropy()\n",
    "        loss = loss(label, prediction)\n",
    "    \n",
    "    gradient = tape.gradient(loss, image)\n",
    "    \n",
    "    signed_grad = tf.sign(gradient)\n",
    "    \n",
    "    return signed_grad"
   ]
  },
  {
   "cell_type": "code",
   "execution_count": 77,
   "metadata": {},
   "outputs": [
    {
     "name": "stdout",
     "output_type": "stream",
     "text": [
      "model: model_022\n",
      "WARNING:tensorflow:5 out of the last 14 calls to <function Model.make_predict_function.<locals>.predict_function at 0x7fdcb8e3a310> triggered tf.function retracing. Tracing is expensive and the excessive number of tracings could be due to (1) creating @tf.function repeatedly in a loop, (2) passing tensors with different shapes, (3) passing Python objects instead of tensors. For (1), please define your @tf.function outside of the loop. For (2), @tf.function has experimental_relax_shapes=True option that relaxes argument shapes that can avoid unnecessary retracing. For (3), please refer to https://www.tensorflow.org/guide/function#controlling_retracing and https://www.tensorflow.org/api_docs/python/tf/function for  more details.\n",
      "five\n",
      "three\n"
     ]
    },
    {
     "data": {
      "image/png": "[encoded data removed]",
      "text/plain": [
       "<Figure size 432x288 with 1 Axes>"
      ]
     },
     "metadata": {
      "needs_background": "light"
     },
     "output_type": "display_data"
    }
   ],
   "source": [
    "# Create a signle adversarial example\n",
    "image = x_train[0]\n",
    "image_label = y_train[0]\n",
    "\n",
    "perturbations = adversarial_pattern(image.reshape((1, img_rows, img_cols, channels)), image_label, model_022).numpy()\n",
    "adversarial = image + perturbations * 0.1\n",
    "\n",
    "print(labels[model_022.predict(image.reshape((1, img_rows, img_cols, channels))).argmax()])\n",
    "print(labels[model_022.predict(adversarial).argmax()])\n",
    "\n",
    "if channels == 1:\n",
    "    plt.imshow(adversarial.reshape((img_rows, img_cols)))\n",
    "else:\n",
    "    plt.imshow(adversarial.reshape((img_rows, img_cols, channels)))\n",
    "\n",
    "plt.show()"
   ]
  },
  {
   "cell_type": "code",
   "execution_count": 82,
   "metadata": {
    "scrolled": false
   },
   "outputs": [],
   "source": [
    "# Adversarial data generator\n",
    "def generate_adversarials(batch_size, model):\n",
    "    while True:\n",
    "        x = []\n",
    "        y = []\n",
    "        for batch in range(batch_size):\n",
    "            N = random.randint(0, 100)\n",
    "\n",
    "            label = y_train[N]\n",
    "            image = x_train[N]\n",
    "            \n",
    "            perturbations = adversarial_pattern(image.reshape((1, img_rows, img_cols, channels)), label, model).numpy()\n",
    "            \n",
    "            epsilon = 0.1\n",
    "            adversarial = image + perturbations * epsilon\n",
    "            \n",
    "            x.append(adversarial)\n",
    "            y.append(y_train[N])\n",
    "        \n",
    "        \n",
    "        x = np.asarray(x).reshape((batch_size, img_rows, img_cols, channels))\n",
    "        y = np.asarray(y)\n",
    "        \n",
    "        yield x, y"
   ]
  },
  {
   "cell_type": "code",
   "execution_count": 79,
   "metadata": {
    "scrolled": false
   },
   "outputs": [
    {
     "name": "stdout",
     "output_type": "stream",
     "text": [
      "model: model_011\n",
      "model: model_011\n",
      "model: model_011\n",
      "model: model_011\n",
      "model: model_011\n",
      "model: model_011\n",
      "WARNING:tensorflow:5 out of the last 11 calls to <function Model.make_predict_function.<locals>.predict_function at 0x7fdcbaa38430> triggered tf.function retracing. Tracing is expensive and the excessive number of tracings could be due to (1) creating @tf.function repeatedly in a loop, (2) passing tensors with different shapes, (3) passing Python objects instead of tensors. For (1), please define your @tf.function outside of the loop. For (2), @tf.function has experimental_relax_shapes=True option that relaxes argument shapes that can avoid unnecessary retracing. For (3), please refer to https://www.tensorflow.org/guide/function#controlling_retracing and https://www.tensorflow.org/api_docs/python/tf/function for  more details.\n",
      "Prediction: two , Truth: one\n"
     ]
    },
    {
     "data": {
      "image/png": "[encoded data removed]",
      "text/plain": [
       "<Figure size 432x288 with 1 Axes>"
      ]
     },
     "metadata": {
      "needs_background": "light"
     },
     "output_type": "display_data"
    },
    {
     "name": "stdout",
     "output_type": "stream",
     "text": [
      "Prediction: seven , Truth: four\n"
     ]
    },
    {
     "data": {
      "image/png": "[encoded data removed]",
      "text/plain": [
       "<Figure size 432x288 with 1 Axes>"
      ]
     },
     "metadata": {
      "needs_background": "light"
     },
     "output_type": "display_data"
    },
    {
     "name": "stdout",
     "output_type": "stream",
     "text": [
      "Prediction: nine , Truth: four\n"
     ]
    },
    {
     "data": {
      "image/png": "[encoded data removed]",
      "text/plain": [
       "<Figure size 432x288 with 1 Axes>"
      ]
     },
     "metadata": {
      "needs_background": "light"
     },
     "output_type": "display_data"
    },
    {
     "name": "stdout",
     "output_type": "stream",
     "text": [
      "Prediction: two , Truth: one\n"
     ]
    },
    {
     "data": {
      "image/png": "[encoded data removed]",
      "text/plain": [
       "<Figure size 432x288 with 1 Axes>"
      ]
     },
     "metadata": {
      "needs_background": "light"
     },
     "output_type": "display_data"
    },
    {
     "name": "stdout",
     "output_type": "stream",
     "text": [
      "Prediction: three , Truth: nine\n"
     ]
    },
    {
     "data": {
      "image/png": "[encoded data removed]",
      "text/plain": [
       "<Figure size 432x288 with 1 Axes>"
      ]
     },
     "metadata": {
      "needs_background": "light"
     },
     "output_type": "display_data"
    }
   ],
   "source": [
    "# Generate and visualize 5 adversarial images\n",
    "adversarials, correct_labels = next(generate_adversarials(5, model_011))\n",
    "for adversarial, correct_label in zip(adversarials, correct_labels):\n",
    "    print('Prediction:', labels[model_011.predict(adversarial.reshape((1, img_rows, img_cols, channels))).argmax()], ', Truth:', labels[correct_label.argmax()])\n",
    "    if channels == 1:\n",
    "        plt.imshow(adversarial.reshape(img_rows, img_cols))\n",
    "    else:\n",
    "        plt.imshow(adversarial)\n",
    "    plt.show()"
   ]
  },
  {
   "cell_type": "code",
   "execution_count": 80,
   "metadata": {
    "scrolled": false
   },
   "outputs": [
    {
     "name": "stdout",
     "output_type": "stream",
     "text": [
      "model: model_022\n",
      "model: model_022\n",
      "model: model_022\n",
      "model: model_022\n",
      "model: model_022\n",
      "model: model_022\n",
      "Prediction: three , Truth: one\n"
     ]
    },
    {
     "data": {
      "image/png": "[encoded data removed]",
      "text/plain": [
       "<Figure size 432x288 with 1 Axes>"
      ]
     },
     "metadata": {
      "needs_background": "light"
     },
     "output_type": "display_data"
    },
    {
     "name": "stdout",
     "output_type": "stream",
     "text": [
      "Prediction: three , Truth: nine\n"
     ]
    },
    {
     "data": {
      "image/png": "[encoded data removed]",
      "text/plain": [
       "<Figure size 432x288 with 1 Axes>"
      ]
     },
     "metadata": {
      "needs_background": "light"
     },
     "output_type": "display_data"
    },
    {
     "name": "stdout",
     "output_type": "stream",
     "text": [
      "Prediction: five , Truth: nine\n"
     ]
    },
    {
     "data": {
      "image/png": "[encoded data removed]",
      "text/plain": [
       "<Figure size 432x288 with 1 Axes>"
      ]
     },
     "metadata": {
      "needs_background": "light"
     },
     "output_type": "display_data"
    },
    {
     "name": "stdout",
     "output_type": "stream",
     "text": [
      "Prediction: eight , Truth: zero\n"
     ]
    },
    {
     "data": {
      "image/png": "[encoded data removed]",
      "text/plain": [
       "<Figure size 432x288 with 1 Axes>"
      ]
     },
     "metadata": {
      "needs_background": "light"
     },
     "output_type": "display_data"
    },
    {
     "name": "stdout",
     "output_type": "stream",
     "text": [
      "Prediction: eight , Truth: four\n"
     ]
    },
    {
     "data": {
      "image/png": "[encoded data removed]",
      "text/plain": [
       "<Figure size 432x288 with 1 Axes>"
      ]
     },
     "metadata": {
      "needs_background": "light"
     },
     "output_type": "display_data"
    }
   ],
   "source": [
    "# Generate and visualize 5 adversarial images\n",
    "adversarials, correct_labels = next(generate_adversarials(5, model_022))\n",
    "for adversarial, correct_label in zip(adversarials, correct_labels):\n",
    "    print('Prediction:', labels[model_022.predict(adversarial.reshape((1, img_rows, img_cols, channels))).argmax()], ', Truth:', labels[correct_label.argmax()])\n",
    "    if channels == 1:\n",
    "        plt.imshow(adversarial.reshape(img_rows, img_cols))\n",
    "    else:\n",
    "        plt.imshow(adversarial)\n",
    "    plt.show()"
   ]
  },
  {
   "cell_type": "code",
   "execution_count": 49,
   "metadata": {
    "scrolled": false
   },
   "outputs": [
    {
     "name": "stdout",
     "output_type": "stream",
     "text": [
      "Prediction: nine , Truth: one\n"
     ]
    },
    {
     "data": {
      "image/png": "[encoded data removed]",
      "text/plain": [
       "<Figure size 432x288 with 1 Axes>"
      ]
     },
     "metadata": {
      "needs_background": "light"
     },
     "output_type": "display_data"
    },
    {
     "name": "stdout",
     "output_type": "stream",
     "text": [
      "Prediction: eight , Truth: nine\n"
     ]
    },
    {
     "data": {
      "image/png": "[encoded data removed]",
      "text/plain": [
       "<Figure size 432x288 with 1 Axes>"
      ]
     },
     "metadata": {
      "needs_background": "light"
     },
     "output_type": "display_data"
    },
    {
     "name": "stdout",
     "output_type": "stream",
     "text": [
      "Prediction: seven , Truth: zero\n"
     ]
    },
    {
     "data": {
      "image/png": "[encoded data removed]",
      "text/plain": [
       "<Figure size 432x288 with 1 Axes>"
      ]
     },
     "metadata": {
      "needs_background": "light"
     },
     "output_type": "display_data"
    },
    {
     "name": "stdout",
     "output_type": "stream",
     "text": [
      "Prediction: seven , Truth: six\n"
     ]
    },
    {
     "data": {
      "image/png": "[encoded data removed]",
      "text/plain": [
       "<Figure size 432x288 with 1 Axes>"
      ]
     },
     "metadata": {
      "needs_background": "light"
     },
     "output_type": "display_data"
    },
    {
     "name": "stdout",
     "output_type": "stream",
     "text": [
      "Prediction: nine , Truth: seven\n"
     ]
    },
    {
     "data": {
      "image/png": "[encoded data removed]",
      "text/plain": [
       "<Figure size 432x288 with 1 Axes>"
      ]
     },
     "metadata": {
      "needs_background": "light"
     },
     "output_type": "display_data"
    }
   ],
   "source": [
    "# Generate and visualize 5 adversarial images\n",
    "adversarials, correct_labels = next(generate_adversarials(5, model_033))\n",
    "for adversarial, correct_label in zip(adversarials, correct_labels):\n",
    "    print('Prediction:', labels[model_033.predict(adversarial.reshape((1, img_rows, img_cols, channels))).argmax()], ', Truth:', labels[correct_label.argmax()])\n",
    "    if channels == 1:\n",
    "        plt.imshow(adversarial.reshape(img_rows, img_cols))\n",
    "    else:\n",
    "        plt.imshow(adversarial)\n",
    "    plt.show()"
   ]
  },
  {
   "cell_type": "code",
   "execution_count": 87,
   "metadata": {
    "scrolled": true
   },
   "outputs": [
    {
     "ename": "KeyboardInterrupt",
     "evalue": "",
     "output_type": "error",
     "traceback": [
      "\u001b[0;31m---------------------------------------------------------------------------\u001b[0m",
      "\u001b[0;31mKeyboardInterrupt\u001b[0m                         Traceback (most recent call last)",
      "\u001b[0;32m<ipython-input-87-8863a9cbac22>\u001b[0m in \u001b[0;36m<module>\u001b[0;34m\u001b[0m\n\u001b[1;32m      1\u001b[0m \u001b[0;31m# Generate adversarial data\u001b[0m\u001b[0;34m\u001b[0m\u001b[0;34m\u001b[0m\u001b[0;34m\u001b[0m\u001b[0m\n\u001b[1;32m      2\u001b[0m \u001b[0;31m# x_adversarial, y_adversarial = np.load(\"x_adv_10k.npy\"), np.load(\"y_adv_10k.npy\")\u001b[0m\u001b[0;34m\u001b[0m\u001b[0;34m\u001b[0m\u001b[0;34m\u001b[0m\u001b[0m\n\u001b[0;32m----> 3\u001b[0;31m \u001b[0mx_adversarial_train\u001b[0m\u001b[0;34m,\u001b[0m \u001b[0my_adversarial_train\u001b[0m \u001b[0;34m=\u001b[0m \u001b[0mnext\u001b[0m\u001b[0;34m(\u001b[0m\u001b[0mgenerate_adversarials\u001b[0m\u001b[0;34m(\u001b[0m\u001b[0;36m3000\u001b[0m\u001b[0;34m,\u001b[0m \u001b[0mmodel_011\u001b[0m\u001b[0;34m)\u001b[0m\u001b[0;34m)\u001b[0m\u001b[0;34m\u001b[0m\u001b[0;34m\u001b[0m\u001b[0m\n\u001b[0m\u001b[1;32m      4\u001b[0m \u001b[0mx_adversarial_test\u001b[0m\u001b[0;34m,\u001b[0m \u001b[0my_adversarial_test\u001b[0m \u001b[0;34m=\u001b[0m \u001b[0mnext\u001b[0m\u001b[0;34m(\u001b[0m\u001b[0mgenerate_adversarials\u001b[0m\u001b[0;34m(\u001b[0m\u001b[0;36m1000\u001b[0m\u001b[0;34m,\u001b[0m \u001b[0mmodel_011\u001b[0m\u001b[0;34m)\u001b[0m\u001b[0;34m)\u001b[0m\u001b[0;34m\u001b[0m\u001b[0;34m\u001b[0m\u001b[0m\n\u001b[1;32m      5\u001b[0m \u001b[0mprint\u001b[0m\u001b[0;34m(\u001b[0m\u001b[0mx_adversarial_test\u001b[0m\u001b[0;34m.\u001b[0m\u001b[0mshape\u001b[0m\u001b[0;34m,\u001b[0m \u001b[0my_adversarial_test\u001b[0m\u001b[0;34m.\u001b[0m\u001b[0mshape\u001b[0m\u001b[0;34m)\u001b[0m\u001b[0;34m\u001b[0m\u001b[0;34m\u001b[0m\u001b[0m\n",
      "\u001b[0;32m<ipython-input-82-ef5b6e798877>\u001b[0m in \u001b[0;36mgenerate_adversarials\u001b[0;34m(batch_size, model)\u001b[0m\n\u001b[1;32m     10\u001b[0m             \u001b[0mimage\u001b[0m \u001b[0;34m=\u001b[0m \u001b[0mx_train\u001b[0m\u001b[0;34m[\u001b[0m\u001b[0mN\u001b[0m\u001b[0;34m]\u001b[0m\u001b[0;34m\u001b[0m\u001b[0;34m\u001b[0m\u001b[0m\n\u001b[1;32m     11\u001b[0m \u001b[0;34m\u001b[0m\u001b[0m\n\u001b[0;32m---> 12\u001b[0;31m             \u001b[0mperturbations\u001b[0m \u001b[0;34m=\u001b[0m \u001b[0madversarial_pattern\u001b[0m\u001b[0;34m(\u001b[0m\u001b[0mimage\u001b[0m\u001b[0;34m.\u001b[0m\u001b[0mreshape\u001b[0m\u001b[0;34m(\u001b[0m\u001b[0;34m(\u001b[0m\u001b[0;36m1\u001b[0m\u001b[0;34m,\u001b[0m \u001b[0mimg_rows\u001b[0m\u001b[0;34m,\u001b[0m \u001b[0mimg_cols\u001b[0m\u001b[0;34m,\u001b[0m \u001b[0mchannels\u001b[0m\u001b[0;34m)\u001b[0m\u001b[0;34m)\u001b[0m\u001b[0;34m,\u001b[0m \u001b[0mlabel\u001b[0m\u001b[0;34m,\u001b[0m \u001b[0mmodel\u001b[0m\u001b[0;34m)\u001b[0m\u001b[0;34m.\u001b[0m\u001b[0mnumpy\u001b[0m\u001b[0;34m(\u001b[0m\u001b[0;34m)\u001b[0m\u001b[0;34m\u001b[0m\u001b[0;34m\u001b[0m\u001b[0m\n\u001b[0m\u001b[1;32m     13\u001b[0m \u001b[0;34m\u001b[0m\u001b[0m\n\u001b[1;32m     14\u001b[0m             \u001b[0mepsilon\u001b[0m \u001b[0;34m=\u001b[0m \u001b[0;36m0.1\u001b[0m\u001b[0;34m\u001b[0m\u001b[0;34m\u001b[0m\u001b[0m\n",
      "\u001b[0;31mKeyboardInterrupt\u001b[0m: "
     ]
    }
   ],
   "source": [
    "# Generate adversarial data\n",
    "# x_adversarial, y_adversarial = np.load(\"x_adv_10k.npy\"), np.load(\"y_adv_10k.npy\")\n",
    "x_adversarial_train, y_adversarial_train = next(generate_adversarials(3000, model_011))\n",
    "x_adversarial_test, y_adversarial_test = next(generate_adversarials(1000, model_011))\n",
    "print(x_adversarial_test.shape, y_adversarial_test.shape)"
   ]
  },
  {
   "cell_type": "code",
   "execution_count": 42,
   "metadata": {},
   "outputs": [
    {
     "name": "stdout",
     "output_type": "stream",
     "text": [
      "Base accuracy on adversarial images: [18.69663429260254, 0.19099999964237213]\n"
     ]
    }
   ],
   "source": [
    "# Assess base model on adversarial data\n",
    "print(\"Base accuracy on adversarial images:\", model_011.evaluate(x=x_adversarial_test, y=y_adversarial_test, verbose=0))"
   ]
  },
  {
   "cell_type": "code",
   "execution_count": 43,
   "metadata": {
    "scrolled": true
   },
   "outputs": [],
   "source": [
    "# Generate adversarial data\n",
    "# x_adversarial, y_adversarial = np.load(\"x_adv_10k.npy\"), np.load(\"y_adv_10k.npy\")\n",
    "x_adversarial_train, y_adversarial_train = next(generate_adversarials(3000, model_022))\n",
    "x_adversarial_test, y_adversarial_test = next(generate_adversarials(1000, model_022))"
   ]
  },
  {
   "cell_type": "code",
   "execution_count": 44,
   "metadata": {},
   "outputs": [
    {
     "name": "stdout",
     "output_type": "stream",
     "text": [
      "Base accuracy on adversarial images: [17.923717498779297, 0.11500000208616257]\n"
     ]
    }
   ],
   "source": [
    "# Assess base model on adversarial data\n",
    "print(\"Base accuracy on adversarial images:\", model_022.evaluate(x=x_adversarial_test, y=y_adversarial_test, verbose=0))"
   ]
  },
  {
   "cell_type": "markdown",
   "metadata": {},
   "source": [
    "|model|regular_acc|adversarial_acc|\n",
    "|-----|-----------|---------------|\n",
    "|model_000|||\n"
   ]
  }
 ],
 "metadata": {
  "kernelspec": {
   "display_name": "Python 3",
   "language": "python",
   "name": "python3"
  },
  "language_info": {
   "codemirror_mode": {
    "name": "ipython",
    "version": 3
   },
   "file_extension": ".py",
   "mimetype": "text/x-python",
   "name": "python",
   "nbconvert_exporter": "python",
   "pygments_lexer": "ipython3",
   "version": "3.8.5"
  }
 },
 "nbformat": 4,
 "nbformat_minor": 2
}
