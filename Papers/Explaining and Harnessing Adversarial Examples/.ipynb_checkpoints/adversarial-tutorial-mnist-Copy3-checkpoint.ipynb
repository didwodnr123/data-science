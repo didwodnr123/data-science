{
 "cells": [
  {
   "cell_type": "code",
   "execution_count": 1,
   "metadata": {},
   "outputs": [],
   "source": [
    "import tensorflow as tf\n",
    "\n",
    "from tensorflow.keras.datasets import mnist, cifar10, cifar100\n",
    "\n",
    "from tensorflow import keras\n",
    "from tensorflow.keras import Sequential\n",
    "from tensorflow.keras.callbacks import LambdaCallback\n",
    "from tensorflow.keras.layers import Conv2D, MaxPooling2D, Dropout, Dense, Flatten, Activation\n",
    "\n",
    "import numpy as np\n",
    "import random\n",
    "\n",
    "import matplotlib.pyplot as plt"
   ]
  },
  {
   "cell_type": "code",
   "execution_count": 2,
   "metadata": {},
   "outputs": [
    {
     "data": {
      "text/plain": [
       "'2.4.0'"
      ]
     },
     "execution_count": 2,
     "metadata": {},
     "output_type": "execute_result"
    }
   ],
   "source": [
    "# This should print something along the lines of '2.0.0-rc1'\n",
    "tf.__version__"
   ]
  },
  {
   "cell_type": "code",
   "execution_count": 3,
   "metadata": {},
   "outputs": [],
   "source": [
    "(x_train, y_train), (x_test, y_test) = mnist.load_data()"
   ]
  },
  {
   "cell_type": "code",
   "execution_count": 4,
   "metadata": {},
   "outputs": [
    {
     "data": {
      "text/plain": [
       "((60000, 28, 28), (60000,))"
      ]
     },
     "execution_count": 4,
     "metadata": {},
     "output_type": "execute_result"
    }
   ],
   "source": [
    "x_train.shape, y_train.shape"
   ]
  },
  {
   "cell_type": "code",
   "execution_count": 5,
   "metadata": {},
   "outputs": [],
   "source": [
    "# MNIST\n",
    "labels = ['zero', 'one', 'two', 'three', 'four', 'five', 'six', 'seven', 'eight', 'nine']"
   ]
  },
  {
   "cell_type": "code",
   "execution_count": 6,
   "metadata": {},
   "outputs": [
    {
     "name": "stdout",
     "output_type": "stream",
     "text": [
      "Data shapes (10000, 28, 28, 1) (10000, 10) (60000, 28, 28, 1) (60000, 10)\n"
     ]
    }
   ],
   "source": [
    "# Pre-process data\n",
    "img_rows, img_cols, channels = 28, 28, 1 # 32, 32, 3\n",
    "num_classes = 10\n",
    "\n",
    "x_train = x_train / 255\n",
    "x_test = x_test / 255\n",
    "\n",
    "x_train = x_train.reshape((-1, img_rows, img_cols, channels))\n",
    "x_test = x_test.reshape((-1, img_rows, img_cols, channels))\n",
    "\n",
    "y_train = tf.keras.utils.to_categorical(y_train, num_classes)\n",
    "y_test = tf.keras.utils.to_categorical(y_test, num_classes)\n",
    "\n",
    "print(\"Data shapes\", x_test.shape, y_test.shape, x_train.shape, y_train.shape)"
   ]
  },
  {
   "cell_type": "code",
   "execution_count": 7,
   "metadata": {},
   "outputs": [],
   "source": [
    "model_000 = tf.keras.Sequential([\n",
    "    tf.keras.layers.Flatten(input_shape=(28, 28)),\n",
    "    tf.keras.layers.Dense(128, activation='relu'),    \n",
    "    tf.keras.layers.Dense(64, activation='relu'),\n",
    "    tf.keras.layers.Dense(32, activation='relu'),\n",
    "    tf.keras.layers.Dense(10, activation='softmax')\n",
    "], name='mdoel_000')\n",
    "\n",
    "# l2: 0.01\n",
    "model_011 = tf.keras.Sequential([\n",
    "    tf.keras.layers.Flatten(input_shape=(28, 28)),\n",
    "    tf.keras.layers.Dense(128, activation='relu', kernel_regularizer=keras.regularizers.l2(0.00)),    \n",
    "    tf.keras.layers.Dense(64, activation='relu', kernel_regularizer=keras.regularizers.l2(0.01)),\n",
    "    tf.keras.layers.Dense(32, activation='relu', kernel_regularizer=keras.regularizers.l2(0.01)),\n",
    "    tf.keras.layers.Dense(10, activation='softmax')\n",
    "], name='model_011')\n",
    "\n",
    "# l2: 0.1\n",
    "model_022 = tf.keras.Sequential([\n",
    "    tf.keras.layers.Flatten(input_shape=(28, 28)),\n",
    "    tf.keras.layers.Dense(128, activation='relu', kernel_regularizer=keras.regularizers.l2(0.00)),    \n",
    "    tf.keras.layers.Dense(64, activation='relu', kernel_regularizer=keras.regularizers.l2(0.1)),\n",
    "    tf.keras.layers.Dense(32, activation='relu', kernel_regularizer=keras.regularizers.l2(0.1)),\n",
    "    tf.keras.layers.Dense(10, activation='softmax')\n",
    "], name='model_022')\n",
    "\n",
    "# l2: 1.0\n",
    "model_003 = tf.keras.Sequential([\n",
    "    tf.keras.layers.Flatten(input_shape=(28, 28)),\n",
    "    tf.keras.layers.Dense(128, activation='relu', kernel_regularizer=keras.regularizers.l2(0.00)),    \n",
    "    tf.keras.layers.Dense(64, activation='relu', kernel_regularizer=keras.regularizers.l2(0.00)),\n",
    "    tf.keras.layers.Dense(32, activation='relu', kernel_regularizer=keras.regularizers.l2(1.0)),\n",
    "    tf.keras.layers.Dense(10, activation='softmax')\n",
    "], name='model_003')\n",
    "\n",
    "# l2: 0.03\n",
    "model_044 = tf.keras.Sequential([\n",
    "    tf.keras.layers.Flatten(input_shape=(28, 28)),\n",
    "    tf.keras.layers.Dense(128, activation='relu', kernel_regularizer=keras.regularizers.l2(0.00)),    \n",
    "    tf.keras.layers.Dense(64, activation='relu', kernel_regularizer=keras.regularizers.l2(0.03)),\n",
    "    tf.keras.layers.Dense(32, activation='relu', kernel_regularizer=keras.regularizers.l2(0.03)),\n",
    "    tf.keras.layers.Dense(10, activation='softmax')\n",
    "], name='model_044')\n",
    "\n",
    "# l2: 0.3\n",
    "model_055 = tf.keras.Sequential([\n",
    "    tf.keras.layers.Flatten(input_shape=(28, 28)),\n",
    "    tf.keras.layers.Dense(128, activation='relu', kernel_regularizer=keras.regularizers.l2(0.00)),    \n",
    "    tf.keras.layers.Dense(64, activation='relu', kernel_regularizer=keras.regularizers.l2(0.3)),\n",
    "    tf.keras.layers.Dense(32, activation='relu', kernel_regularizer=keras.regularizers.l2(0.3)),\n",
    "    tf.keras.layers.Dense(10, activation='softmax')\n",
    "], name='model_055')"
   ]
  },
  {
   "cell_type": "code",
   "execution_count": 8,
   "metadata": {
    "scrolled": false
   },
   "outputs": [],
   "source": [
    "model_000.compile(optimizer='adam',\n",
    "              loss=tf.keras.losses.CategoricalCrossentropy(),\n",
    "              metrics=['accuracy'])\n",
    "model_011.compile(optimizer='adam',\n",
    "              loss=tf.keras.losses.CategoricalCrossentropy(),\n",
    "              metrics=['accuracy'])\n",
    "model_022.compile(optimizer='adam',\n",
    "              loss=tf.keras.losses.CategoricalCrossentropy(),\n",
    "              metrics=['accuracy'])\n",
    "model_003.compile(optimizer='adam',\n",
    "              loss=tf.keras.losses.CategoricalCrossentropy(),\n",
    "              metrics=['accuracy'])\n",
    "model_044.compile(optimizer='adam',\n",
    "              loss=tf.keras.losses.CategoricalCrossentropy(),\n",
    "              metrics=['accuracy'])\n",
    "model_055.compile(optimizer='adam',\n",
    "              loss=tf.keras.losses.CategoricalCrossentropy(),\n",
    "              metrics=['accuracy'])"
   ]
  },
  {
   "cell_type": "code",
   "execution_count": 9,
   "metadata": {},
   "outputs": [],
   "source": [
    "history_000 = model_000.fit(x_train, y_train, epochs=10, verbose=0)\n",
    "history_011 = model_011.fit(x_train, y_train, epochs=10, verbose=0)\n",
    "history_022 = model_022.fit(x_train, y_train, epochs=10, verbose=0)\n",
    "history_003 = model_003.fit(x_train, y_train, epochs=10, verbose=0)\n",
    "history_044 = model_044.fit(x_train, y_train, epochs=10, verbose=0)\n",
    "history_055 = model_055.fit(x_train, y_train, epochs=10, verbose=0)"
   ]
  },
  {
   "cell_type": "code",
   "execution_count": 10,
   "metadata": {},
   "outputs": [
    {
     "name": "stdout",
     "output_type": "stream",
     "text": [
      "000 :  [0.9910666942596436, 0.9905499815940857, 0.9932000041007996]\n",
      "011 :  [0.9815166592597961, 0.9830999970436096, 0.9845499992370605]\n",
      "022 :  [0.9638000130653381, 0.9668166637420654, 0.9677833318710327]\n",
      "003 :  [0.979449987411499, 0.9819666743278503, 0.9831333160400391]\n",
      "044 :  [0.9739500284194946, 0.9752166867256165, 0.9771999716758728]\n",
      "055 :  [0.9459499716758728, 0.9499666690826416, 0.9521333575248718]\n"
     ]
    }
   ],
   "source": [
    "print(\"000 : \", history_000.history['accuracy'][-3:])\n",
    "print(\"011 : \", history_011.history['accuracy'][-3:])\n",
    "print(\"022 : \", history_022.history['accuracy'][-3:])\n",
    "print(\"003 : \", history_003.history['accuracy'][-3:])\n",
    "print(\"044 : \", history_044.history['accuracy'][-3:])\n",
    "print(\"055 : \", history_055.history['accuracy'][-3:])"
   ]
  },
  {
   "cell_type": "code",
   "execution_count": 11,
   "metadata": {},
   "outputs": [
    {
     "name": "stdout",
     "output_type": "stream",
     "text": [
      "Model_000 Base accuracy on regular images: [0.08440479636192322, 0.9789000153541565]\n",
      "Model_011 Base accuracy on regular images: [0.11966131627559662, 0.9763000011444092]\n",
      "Model_022 Base accuracy on regular images: [0.20055796205997467, 0.9620000123977661]\n",
      "Model_003 Base accuracy on regular images: [0.14320962131023407, 0.9746999740600586]\n",
      "Model_044 Base accuracy on regular images: [0.15488867461681366, 0.9706000089645386]\n",
      "Model_055 Base accuracy on regular images: [0.278520405292511, 0.9483000040054321]\n"
     ]
    }
   ],
   "source": [
    "# Assess base model accuracy on regular images\n",
    "print(\"Model_000 Base accuracy on regular images:\", model_000.evaluate(x=x_test, y=y_test, verbose=0))\n",
    "print(\"Model_011 Base accuracy on regular images:\", model_011.evaluate(x=x_test, y=y_test, verbose=0))\n",
    "print(\"Model_022 Base accuracy on regular images:\", model_022.evaluate(x=x_test, y=y_test, verbose=0))\n",
    "print(\"Model_003 Base accuracy on regular images:\", model_003.evaluate(x=x_test, y=y_test, verbose=0))\n",
    "print(\"Model_044 Base accuracy on regular images:\", model_044.evaluate(x=x_test, y=y_test, verbose=0))\n",
    "print(\"Model_055 Base accuracy on regular images:\", model_055.evaluate(x=x_test, y=y_test, verbose=0))"
   ]
  },
  {
   "cell_type": "code",
   "execution_count": 12,
   "metadata": {},
   "outputs": [],
   "source": [
    "# Function to create adversarial pattern\n",
    "def adversarial_pattern(image, label, model):\n",
    "\n",
    "    image = tf.cast(image, tf.float32)\n",
    "\n",
    "    with tf.GradientTape() as tape:\n",
    "        tape.watch(image)\n",
    "        prediction = model(image)\n",
    "        \n",
    "        label = label.reshape(1, -1)\n",
    "\n",
    "        loss = tf.keras.losses.CategoricalCrossentropy()\n",
    "        loss = loss(label, prediction)\n",
    "    \n",
    "    gradient = tape.gradient(loss, image)\n",
    "    \n",
    "    signed_grad = tf.sign(gradient)\n",
    "    \n",
    "    return signed_grad"
   ]
  },
  {
   "cell_type": "code",
   "execution_count": 13,
   "metadata": {},
   "outputs": [
    {
     "name": "stdout",
     "output_type": "stream",
     "text": [
      "five\n",
      "three\n"
     ]
    },
    {
     "data": {
      "image/png": "[encoded data removed]",
      "text/plain": [
       "<Figure size 432x288 with 1 Axes>"
      ]
     },
     "metadata": {
      "needs_background": "light"
     },
     "output_type": "display_data"
    }
   ],
   "source": [
    "# Create a signle adversarial example\n",
    "image = x_train[0]\n",
    "image_label = y_train[0]\n",
    "\n",
    "perturbations = adversarial_pattern(image.reshape((1, img_rows, img_cols, channels)), image_label, model_011).numpy()\n",
    "adversarial = image + perturbations * 0.1\n",
    "\n",
    "print(labels[model_011.predict(image.reshape((1, img_rows, img_cols, channels))).argmax()])\n",
    "print(labels[model_011.predict(adversarial).argmax()])\n",
    "\n",
    "if channels == 1:\n",
    "    plt.imshow(adversarial.reshape((img_rows, img_cols)))\n",
    "else:\n",
    "    plt.imshow(adversarial.reshape((img_rows, img_cols, channels)))\n",
    "\n",
    "plt.show()"
   ]
  },
  {
   "cell_type": "code",
   "execution_count": 14,
   "metadata": {
    "scrolled": false
   },
   "outputs": [],
   "source": [
    "# Adversarial data generator\n",
    "def generate_adversarials(batch_size, model):\n",
    "    while True:\n",
    "        x = []\n",
    "        y = []\n",
    "        for batch in range(batch_size):\n",
    "            N = random.randint(0, 100)\n",
    "\n",
    "            label = y_train[N]\n",
    "            image = x_train[N]\n",
    "            \n",
    "            perturbations = adversarial_pattern(image.reshape((1, img_rows, img_cols, channels)), label, model).numpy()\n",
    "            \n",
    "            epsilon = 0.1\n",
    "            adversarial = image + perturbations * epsilon\n",
    "            \n",
    "            x.append(adversarial)\n",
    "            y.append(y_train[N])\n",
    "        \n",
    "        \n",
    "        x = np.asarray(x).reshape((batch_size, img_rows, img_cols, channels))\n",
    "        y = np.asarray(y)\n",
    "        \n",
    "        yield x, y"
   ]
  },
  {
   "cell_type": "code",
   "execution_count": 15,
   "metadata": {
    "scrolled": false
   },
   "outputs": [
    {
     "name": "stdout",
     "output_type": "stream",
     "text": [
      "Prediction: two , Truth: six\n"
     ]
    },
    {
     "data": {
      "image/png": "[encoded data removed]",
      "text/plain": [
       "<Figure size 432x288 with 1 Axes>"
      ]
     },
     "metadata": {
      "needs_background": "light"
     },
     "output_type": "display_data"
    },
    {
     "name": "stdout",
     "output_type": "stream",
     "text": [
      "Prediction: two , Truth: zero\n"
     ]
    },
    {
     "data": {
      "image/png": "[encoded data removed]",
      "text/plain": [
       "<Figure size 432x288 with 1 Axes>"
      ]
     },
     "metadata": {
      "needs_background": "light"
     },
     "output_type": "display_data"
    },
    {
     "name": "stdout",
     "output_type": "stream",
     "text": [
      "Prediction: seven , Truth: nine\n"
     ]
    },
    {
     "data": {
      "image/png": "[encoded data removed]",
      "text/plain": [
       "<Figure size 432x288 with 1 Axes>"
      ]
     },
     "metadata": {
      "needs_background": "light"
     },
     "output_type": "display_data"
    },
    {
     "name": "stdout",
     "output_type": "stream",
     "text": [
      "Prediction: nine , Truth: eight\n"
     ]
    },
    {
     "data": {
      "image/png": "[encoded data removed]",
      "text/plain": [
       "<Figure size 432x288 with 1 Axes>"
      ]
     },
     "metadata": {
      "needs_background": "light"
     },
     "output_type": "display_data"
    },
    {
     "name": "stdout",
     "output_type": "stream",
     "text": [
      "Prediction: five , Truth: six\n"
     ]
    },
    {
     "data": {
      "image/png": "[encoded data removed]",
      "text/plain": [
       "<Figure size 432x288 with 1 Axes>"
      ]
     },
     "metadata": {
      "needs_background": "light"
     },
     "output_type": "display_data"
    }
   ],
   "source": [
    "# Generate and visualize 5 adversarial images\n",
    "adversarials, correct_labels = next(generate_adversarials(5, model_011))\n",
    "for adversarial, correct_label in zip(adversarials, correct_labels):\n",
    "    print('Prediction:', labels[model_011.predict(adversarial.reshape((1, img_rows, img_cols, channels))).argmax()], ', Truth:', labels[correct_label.argmax()])\n",
    "    if channels == 1:\n",
    "        plt.imshow(adversarial.reshape(img_rows, img_cols))\n",
    "    else:\n",
    "        plt.imshow(adversarial)\n",
    "    plt.show()"
   ]
  },
  {
   "cell_type": "code",
   "execution_count": 16,
   "metadata": {
    "scrolled": false
   },
   "outputs": [
    {
     "name": "stdout",
     "output_type": "stream",
     "text": [
      "Prediction: eight , Truth: five\n"
     ]
    },
    {
     "data": {
      "image/png": "[encoded data removed]",
      "text/plain": [
       "<Figure size 432x288 with 1 Axes>"
      ]
     },
     "metadata": {
      "needs_background": "light"
     },
     "output_type": "display_data"
    },
    {
     "name": "stdout",
     "output_type": "stream",
     "text": [
      "Prediction: six , Truth: nine\n"
     ]
    },
    {
     "data": {
      "image/png": "[encoded data removed]",
      "text/plain": [
       "<Figure size 432x288 with 1 Axes>"
      ]
     },
     "metadata": {
      "needs_background": "light"
     },
     "output_type": "display_data"
    },
    {
     "name": "stdout",
     "output_type": "stream",
     "text": [
      "Prediction: nine , Truth: six\n"
     ]
    },
    {
     "data": {
      "image/png": "[encoded data removed]",
      "text/plain": [
       "<Figure size 432x288 with 1 Axes>"
      ]
     },
     "metadata": {
      "needs_background": "light"
     },
     "output_type": "display_data"
    },
    {
     "name": "stdout",
     "output_type": "stream",
     "text": [
      "Prediction: nine , Truth: seven\n"
     ]
    },
    {
     "data": {
      "image/png": "[encoded data removed]",
      "text/plain": [
       "<Figure size 432x288 with 1 Axes>"
      ]
     },
     "metadata": {
      "needs_background": "light"
     },
     "output_type": "display_data"
    },
    {
     "name": "stdout",
     "output_type": "stream",
     "text": [
      "Prediction: two , Truth: five\n"
     ]
    },
    {
     "data": {
      "image/png": "[encoded data removed]",
      "text/plain": [
       "<Figure size 432x288 with 1 Axes>"
      ]
     },
     "metadata": {
      "needs_background": "light"
     },
     "output_type": "display_data"
    }
   ],
   "source": [
    "# Generate and visualize 5 adversarial images\n",
    "adversarials, correct_labels = next(generate_adversarials(5, model_022))\n",
    "for adversarial, correct_label in zip(adversarials, correct_labels):\n",
    "    print('Prediction:', labels[model_022.predict(adversarial.reshape((1, img_rows, img_cols, channels))).argmax()], ', Truth:', labels[correct_label.argmax()])\n",
    "    if channels == 1:\n",
    "        plt.imshow(adversarial.reshape(img_rows, img_cols))\n",
    "    else:\n",
    "        plt.imshow(adversarial)\n",
    "    plt.show()"
   ]
  },
  {
   "cell_type": "code",
   "execution_count": 18,
   "metadata": {
    "scrolled": false
   },
   "outputs": [
    {
     "name": "stdout",
     "output_type": "stream",
     "text": [
      "Prediction: nine , Truth: zero\n"
     ]
    },
    {
     "data": {
      "image/png": "[encoded data removed]",
      "text/plain": [
       "<Figure size 432x288 with 1 Axes>"
      ]
     },
     "metadata": {
      "needs_background": "light"
     },
     "output_type": "display_data"
    },
    {
     "name": "stdout",
     "output_type": "stream",
     "text": [
      "Prediction: two , Truth: five\n"
     ]
    },
    {
     "data": {
      "image/png": "[encoded data removed]",
      "text/plain": [
       "<Figure size 432x288 with 1 Axes>"
      ]
     },
     "metadata": {
      "needs_background": "light"
     },
     "output_type": "display_data"
    },
    {
     "name": "stdout",
     "output_type": "stream",
     "text": [
      "Prediction: three , Truth: six\n"
     ]
    },
    {
     "data": {
      "image/png": "[encoded data removed]",
      "text/plain": [
       "<Figure size 432x288 with 1 Axes>"
      ]
     },
     "metadata": {
      "needs_background": "light"
     },
     "output_type": "display_data"
    },
    {
     "name": "stdout",
     "output_type": "stream",
     "text": [
      "Prediction: nine , Truth: three\n"
     ]
    },
    {
     "data": {
      "image/png": "[encoded data removed]",
      "text/plain": [
       "<Figure size 432x288 with 1 Axes>"
      ]
     },
     "metadata": {
      "needs_background": "light"
     },
     "output_type": "display_data"
    },
    {
     "name": "stdout",
     "output_type": "stream",
     "text": [
      "Prediction: three , Truth: zero\n"
     ]
    },
    {
     "data": {
      "image/png": "[encoded data removed]",
      "text/plain": [
       "<Figure size 432x288 with 1 Axes>"
      ]
     },
     "metadata": {
      "needs_background": "light"
     },
     "output_type": "display_data"
    }
   ],
   "source": [
    "# Generate and visualize 5 adversarial images\n",
    "adversarials, correct_labels = next(generate_adversarials(5, model_003))\n",
    "for adversarial, correct_label in zip(adversarials, correct_labels):\n",
    "    print('Prediction:', labels[model_003.predict(adversarial.reshape((1, img_rows, img_cols, channels))).argmax()], ', Truth:', labels[correct_label.argmax()])\n",
    "    if channels == 1:\n",
    "        plt.imshow(adversarial.reshape(img_rows, img_cols))\n",
    "    else:\n",
    "        plt.imshow(adversarial)\n",
    "    plt.show()"
   ]
  },
  {
   "cell_type": "code",
   "execution_count": 32,
   "metadata": {
    "scrolled": true
   },
   "outputs": [
    {
     "name": "stdout",
     "output_type": "stream",
     "text": [
      "Base accuracy on adversarial images: [11.057671546936035, 0.027000000700354576]\n"
     ]
    }
   ],
   "source": [
    "# Generate adversarial data\n",
    "# x_adversarial, y_adversarial = np.load(\"x_adv_10k.npy\"), np.load(\"y_adv_10k.npy\")\n",
    "# x_adversarial_train, y_adversarial_train = next(generate_adversarials(3000, model_011))\n",
    "x_adversarial_test, y_adversarial_test = next(generate_adversarials(1000, model_011))\n",
    "\n",
    "# Assess base model on adversarial data\n",
    "print(\"Base accuracy on adversarial images:\", model_011.evaluate(x=x_adversarial_test, y=y_adversarial_test, verbose=0))"
   ]
  },
  {
   "cell_type": "code",
   "execution_count": 33,
   "metadata": {
    "scrolled": true
   },
   "outputs": [
    {
     "name": "stdout",
     "output_type": "stream",
     "text": [
      "Base accuracy on adversarial images: [9.13370132446289, 0.03500000014901161]\n"
     ]
    }
   ],
   "source": [
    "# Generate adversarial data\n",
    "# x_adversarial, y_adversarial = np.load(\"x_adv_10k.npy\"), np.load(\"y_adv_10k.npy\")\n",
    "# x_adversarial_train, y_adversarial_train = next(generate_adversarials(3000, model_022))\n",
    "x_adversarial_test, y_adversarial_test = next(generate_adversarials(1000, model_022))\n",
    "\n",
    "# Assess base model on adversarial data\n",
    "print(\"Base accuracy on adversarial images:\", model_022.evaluate(x=x_adversarial_test, y=y_adversarial_test, verbose=0))"
   ]
  },
  {
   "cell_type": "code",
   "execution_count": 34,
   "metadata": {
    "scrolled": true
   },
   "outputs": [
    {
     "name": "stdout",
     "output_type": "stream",
     "text": [
      "Base accuracy on adversarial images: [13.410775184631348, 0.014999999664723873]\n"
     ]
    }
   ],
   "source": [
    "# Generate adversarial data\n",
    "# x_adversarial, y_adversarial = np.load(\"x_adv_10k.npy\"), np.load(\"y_adv_10k.npy\")\n",
    "# x_adversarial_train, y_adversarial_train = next(generate_adversarials(3000, model_003))\n",
    "x_adversarial_test, y_adversarial_test = next(generate_adversarials(1000, model_003))\n",
    "\n",
    "# Assess base model on adversarial data\n",
    "print(\"Base accuracy on adversarial images:\", model_003.evaluate(x=x_adversarial_test, y=y_adversarial_test, verbose=0))"
   ]
  },
  {
   "cell_type": "code",
   "execution_count": 35,
   "metadata": {
    "scrolled": true
   },
   "outputs": [
    {
     "name": "stdout",
     "output_type": "stream",
     "text": [
      "Base accuracy on adversarial images: [10.217676162719727, 0.010999999940395355]\n"
     ]
    }
   ],
   "source": [
    "# Generate adversarial data\n",
    "# x_adversarial, y_adversarial = np.load(\"x_adv_10k.npy\"), np.load(\"y_adv_10k.npy\")\n",
    "# x_adversarial_train, y_adversarial_train = next(generate_adversarials(3000, model_044))\n",
    "x_adversarial_test, y_adversarial_test = next(generate_adversarials(1000, model_044))\n",
    "\n",
    "# Assess base model on adversarial data\n",
    "print(\"Base accuracy on adversarial images:\", model_044.evaluate(x=x_adversarial_test, y=y_adversarial_test, verbose=0))"
   ]
  },
  {
   "cell_type": "code",
   "execution_count": 36,
   "metadata": {
    "scrolled": false
   },
   "outputs": [
    {
     "name": "stdout",
     "output_type": "stream",
     "text": [
      "Base accuracy on adversarial images: [8.279815673828125, 0.02800000086426735]\n"
     ]
    }
   ],
   "source": [
    "# Generate adversarial data\n",
    "# x_adversarial, y_adversarial = np.load(\"x_adv_10k.npy\"), np.load(\"y_adv_10k.npy\")\n",
    "# x_adversarial_train, y_adversarial_train = next(generate_adversarials(3000, model_055))\n",
    "x_adversarial_test, y_adversarial_test = next(generate_adversarials(1000, model_055))\n",
    "\n",
    "# Assess base model on adversarial data\n",
    "print(\"Base accuracy on adversarial images:\", model_055.evaluate(x=x_adversarial_test, y=y_adversarial_test, verbose=0))"
   ]
  },
  {
   "cell_type": "markdown",
   "metadata": {},
   "source": [
    "## 계층별 Regularization Control 을 적용하지 않은 모델에서 만든 Adversarial 이미지로 \n",
    "## 계층별 Regularization Control 을 적용하지 않은 모델에 입력하여 성능을 측정"
   ]
  },
  {
   "cell_type": "code",
   "execution_count": 40,
   "metadata": {
    "scrolled": true
   },
   "outputs": [
    {
     "name": "stdout",
     "output_type": "stream",
     "text": [
      "Base accuracy on adversarial images: [9.129000663757324, 0.1379999965429306]\n"
     ]
    }
   ],
   "source": [
    "x_adversarial, y_adversarial = next(generate_adversarials(3000, model_000))\n",
    "\n",
    "# Assess base model on adversarial data\n",
    "print(\"Base accuracy on adversarial images:\", model_000.evaluate(x=x_adversarial_test, y=y_adversarial_test, verbose=0))"
   ]
  },
  {
   "cell_type": "markdown",
   "metadata": {},
   "source": [
    "## 계층별 Regularization Control 을 적용하지 않은 모델에서 만든 Adversarial 이미지로 \n",
    "## 계층별 Regularization Control 을 적용한 모델에 입력하여 성능을 측정"
   ]
  },
  {
   "cell_type": "code",
   "execution_count": 38,
   "metadata": {
    "scrolled": true
   },
   "outputs": [
    {
     "name": "stdout",
     "output_type": "stream",
     "text": [
      "Base accuracy on adversarial images: [3.3217556476593018, 0.35633334517478943]\n"
     ]
    }
   ],
   "source": [
    "x_adversarial, y_adversarial = next(generate_adversarials(3000, model_000))\n",
    "print(\"Base accuracy on adversarial images:\", model_022.evaluate(x=x_adversarial, y=y_adversarial, verbose=0))"
   ]
  },
  {
   "cell_type": "markdown",
   "metadata": {},
   "source": [
    "## 계층별 Regularization Control을 적용한 모델에서 만든 Adversarial 이미지로\n",
    "## 계층별 Regularization Control을 적용하지 않은 모델에 입력하여 성능을 측정"
   ]
  },
  {
   "cell_type": "code",
   "execution_count": 39,
   "metadata": {
    "scrolled": true
   },
   "outputs": [
    {
     "name": "stdout",
     "output_type": "stream",
     "text": [
      "Base accuracy on adversarial images: [9.45726203918457, 0.1679999977350235]\n"
     ]
    }
   ],
   "source": [
    "x_adversarial, y_adversarial = next(generate_adversarials(3000, model_022))\n",
    "print(\"Base accuracy on adversarial images:\", model_000.evaluate(x=x_adversarial, y=y_adversarial, verbose=0))"
   ]
  },
  {
   "cell_type": "markdown",
   "metadata": {},
   "source": [
    "|model|regular_acc|adversarial_acc|\n",
    "|-----|-----------|---------------|\n",
    "|model_000|||\n"
   ]
  }
 ],
 "metadata": {
  "kernelspec": {
   "display_name": "Python 3",
   "language": "python",
   "name": "python3"
  },
  "language_info": {
   "codemirror_mode": {
    "name": "ipython",
    "version": 3
   },
   "file_extension": ".py",
   "mimetype": "text/x-python",
   "name": "python",
   "nbconvert_exporter": "python",
   "pygments_lexer": "ipython3",
   "version": "3.8.5"
  }
 },
 "nbformat": 4,
 "nbformat_minor": 2
}
