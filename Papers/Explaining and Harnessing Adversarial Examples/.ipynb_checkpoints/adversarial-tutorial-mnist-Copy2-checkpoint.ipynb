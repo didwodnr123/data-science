{
 "cells": [
  {
   "cell_type": "code",
   "execution_count": 11,
   "metadata": {},
   "outputs": [],
   "source": [
    "import tensorflow as tf\n",
    "\n",
    "from tensorflow.keras.datasets import mnist, cifar10, cifar100\n",
    "\n",
    "from tensorflow import keras\n",
    "from tensorflow.keras import Sequential\n",
    "from tensorflow.keras.callbacks import LambdaCallback\n",
    "from tensorflow.keras.layers import Conv2D, MaxPooling2D, Dropout, Dense, Flatten, Activation\n",
    "\n",
    "import numpy as np\n",
    "import random\n",
    "\n",
    "import matplotlib.pyplot as plt"
   ]
  },
  {
   "cell_type": "code",
   "execution_count": 12,
   "metadata": {},
   "outputs": [
    {
     "data": {
      "text/plain": [
       "'2.4.0'"
      ]
     },
     "execution_count": 12,
     "metadata": {},
     "output_type": "execute_result"
    }
   ],
   "source": [
    "# This should print something along the lines of '2.0.0-rc1'\n",
    "tf.__version__"
   ]
  },
  {
   "cell_type": "code",
   "execution_count": 13,
   "metadata": {},
   "outputs": [],
   "source": [
    "(x_train, y_train), (x_test, y_test) = mnist.load_data()"
   ]
  },
  {
   "cell_type": "code",
   "execution_count": 15,
   "metadata": {},
   "outputs": [
    {
     "data": {
      "text/plain": [
       "((60000, 28, 28), (60000,))"
      ]
     },
     "execution_count": 15,
     "metadata": {},
     "output_type": "execute_result"
    }
   ],
   "source": [
    "x_train.shape, y_train.shape"
   ]
  },
  {
   "cell_type": "code",
   "execution_count": 16,
   "metadata": {},
   "outputs": [],
   "source": [
    "# MNIST\n",
    "labels = ['zero', 'one', 'two', 'three', 'four', 'five', 'six', 'seven', 'eight', 'nine']"
   ]
  },
  {
   "cell_type": "code",
   "execution_count": 17,
   "metadata": {},
   "outputs": [
    {
     "name": "stdout",
     "output_type": "stream",
     "text": [
      "Data shapes (10000, 28, 28, 1) (10000, 10) (60000, 28, 28, 1) (60000, 10)\n"
     ]
    }
   ],
   "source": [
    "# Pre-process data\n",
    "img_rows, img_cols, channels = 28, 28, 1 # 32, 32, 3\n",
    "num_classes = 10\n",
    "\n",
    "x_train = x_train / 255\n",
    "x_test = x_test / 255\n",
    "\n",
    "x_train = x_train.reshape((-1, img_rows, img_cols, channels))\n",
    "x_test = x_test.reshape((-1, img_rows, img_cols, channels))\n",
    "\n",
    "y_train = tf.keras.utils.to_categorical(y_train, num_classes)\n",
    "y_test = tf.keras.utils.to_categorical(y_test, num_classes)\n",
    "\n",
    "print(\"Data shapes\", x_test.shape, y_test.shape, x_train.shape, y_train.shape)"
   ]
  },
  {
   "cell_type": "code",
   "execution_count": 24,
   "metadata": {},
   "outputs": [],
   "source": [
    "model_000 = tf.keras.Sequential([\n",
    "    tf.keras.layers.Flatten(input_shape=(28, 28)),\n",
    "    tf.keras.layers.Dense(128, activation='relu'),    \n",
    "    tf.keras.layers.Dense(64, activation='relu'),\n",
    "    tf.keras.layers.Dense(32, activation='relu'),\n",
    "    tf.keras.layers.Dense(10, activation='softmax')\n",
    "])\n",
    "\n",
    "# l2: 0.01\n",
    "model_001 = tf.keras.Sequential([\n",
    "    tf.keras.layers.Flatten(input_shape=(28, 28)),\n",
    "    tf.keras.layers.Dense(128, activation='relu', kernel_regularizer=keras.regularizers.l2(0.00)),    \n",
    "    tf.keras.layers.Dense(64, activation='relu', kernel_regularizer=keras.regularizers.l2(0.00)),\n",
    "    tf.keras.layers.Dense(32, activation='relu', kernel_regularizer=keras.regularizers.l2(0.01)),\n",
    "    tf.keras.layers.Dense(10, activation='softmax')\n",
    "])\n",
    "\n",
    "model_011 = tf.keras.Sequential([\n",
    "    tf.keras.layers.Flatten(input_shape=(28, 28)),\n",
    "    tf.keras.layers.Dense(128, activation='relu', kernel_regularizer=keras.regularizers.l2(0.00)),    \n",
    "    tf.keras.layers.Dense(64, activation='relu', kernel_regularizer=keras.regularizers.l2(0.01)),\n",
    "    tf.keras.layers.Dense(32, activation='relu', kernel_regularizer=keras.regularizers.l2(0.01)),\n",
    "    tf.keras.layers.Dense(10, activation='softmax')\n",
    "])\n",
    "\n",
    "model_111 = tf.keras.Sequential([\n",
    "    tf.keras.layers.Flatten(input_shape=(28, 28)),\n",
    "    tf.keras.layers.Dense(128, activation='relu', kernel_regularizer=keras.regularizers.l2(0.01)),    \n",
    "    tf.keras.layers.Dense(64, activation='relu', kernel_regularizer=keras.regularizers.l2(0.01)),\n",
    "    tf.keras.layers.Dense(32, activation='relu', kernel_regularizer=keras.regularizers.l2(0.01)),\n",
    "    tf.keras.layers.Dense(10, activation='softmax')\n",
    "])\n",
    "\n",
    "# l2: 0.1\n",
    "model_002 = tf.keras.Sequential([\n",
    "    tf.keras.layers.Flatten(input_shape=(28, 28)),\n",
    "    tf.keras.layers.Dense(128, activation='relu', kernel_regularizer=keras.regularizers.l2(0.00)),    \n",
    "    tf.keras.layers.Dense(64, activation='relu', kernel_regularizer=keras.regularizers.l2(0.00)),\n",
    "    tf.keras.layers.Dense(32, activation='relu', kernel_regularizer=keras.regularizers.l2(0.1)),\n",
    "    tf.keras.layers.Dense(10, activation='softmax')\n",
    "])\n",
    "\n",
    "model_022 = tf.keras.Sequential([\n",
    "    tf.keras.layers.Flatten(input_shape=(28, 28)),\n",
    "    tf.keras.layers.Dense(128, activation='relu', kernel_regularizer=keras.regularizers.l2(0.00)),    \n",
    "    tf.keras.layers.Dense(64, activation='relu', kernel_regularizer=keras.regularizers.l2(0.1)),\n",
    "    tf.keras.layers.Dense(32, activation='relu', kernel_regularizer=keras.regularizers.l2(0.1)),\n",
    "    tf.keras.layers.Dense(10, activation='softmax')\n",
    "])\n",
    "\n",
    "model_222 = tf.keras.Sequential([\n",
    "    tf.keras.layers.Flatten(input_shape=(28, 28)),\n",
    "    tf.keras.layers.Dense(128, activation='relu', kernel_regularizer=keras.regularizers.l2(0.1)),    \n",
    "    tf.keras.layers.Dense(64, activation='relu', kernel_regularizer=keras.regularizers.l2(0.1)),\n",
    "    tf.keras.layers.Dense(32, activation='relu', kernel_regularizer=keras.regularizers.l2(0.1)),\n",
    "    tf.keras.layers.Dense(10, activation='softmax')\n",
    "])\n",
    "\n",
    "# l2: 1.0\n",
    "model_003 = tf.keras.Sequential([\n",
    "    tf.keras.layers.Flatten(input_shape=(28, 28)),\n",
    "    tf.keras.layers.Dense(128, activation='relu', kernel_regularizer=keras.regularizers.l2(0.00)),    \n",
    "    tf.keras.layers.Dense(64, activation='relu', kernel_regularizer=keras.regularizers.l2(0.00)),\n",
    "    tf.keras.layers.Dense(32, activation='relu', kernel_regularizer=keras.regularizers.l2(1.0)),\n",
    "    tf.keras.layers.Dense(10, activation='softmax')\n",
    "])\n",
    "\n",
    "model_033 = tf.keras.Sequential([\n",
    "    tf.keras.layers.Flatten(input_shape=(28, 28)),\n",
    "    tf.keras.layers.Dense(128, activation='relu', kernel_regularizer=keras.regularizers.l2(0.00)),    \n",
    "    tf.keras.layers.Dense(64, activation='relu', kernel_regularizer=keras.regularizers.l2(1.0)),\n",
    "    tf.keras.layers.Dense(32, activation='relu', kernel_regularizer=keras.regularizers.l2(1.0)),\n",
    "    tf.keras.layers.Dense(10, activation='softmax')\n",
    "])\n",
    "\n",
    "model_333 = tf.keras.Sequential([\n",
    "    tf.keras.layers.Flatten(input_shape=(28, 28)),\n",
    "    tf.keras.layers.Dense(128, activation='relu', kernel_regularizer=keras.regularizers.l2(1.0)),    \n",
    "    tf.keras.layers.Dense(64, activation='relu', kernel_regularizer=keras.regularizers.l2(1.0)),\n",
    "    tf.keras.layers.Dense(32, activation='relu', kernel_regularizer=keras.regularizers.l2(1.0)),\n",
    "    tf.keras.layers.Dense(10, activation='softmax')\n",
    "])"
   ]
  },
  {
   "cell_type": "code",
   "execution_count": 26,
   "metadata": {
    "scrolled": false
   },
   "outputs": [],
   "source": [
    "model_000.compile(optimizer='adam',\n",
    "              loss=tf.keras.losses.CategoricalCrossentropy(),\n",
    "              metrics=['accuracy'])\n",
    "model_001.compile(optimizer='adam',\n",
    "              loss=tf.keras.losses.CategoricalCrossentropy(),\n",
    "              metrics=['accuracy'])\n",
    "model_011.compile(optimizer='adam',\n",
    "              loss=tf.keras.losses.CategoricalCrossentropy(),\n",
    "              metrics=['accuracy'])\n",
    "model_111.compile(optimizer='adam',\n",
    "              loss=tf.keras.losses.CategoricalCrossentropy(),\n",
    "              metrics=['accuracy'])\n",
    "model_002.compile(optimizer='adam',\n",
    "              loss=tf.keras.losses.CategoricalCrossentropy(),\n",
    "              metrics=['accuracy'])\n",
    "model_022.compile(optimizer='adam',\n",
    "              loss=tf.keras.losses.CategoricalCrossentropy(),\n",
    "              metrics=['accuracy'])\n",
    "model_222.compile(optimizer='adam',\n",
    "              loss=tf.keras.losses.CategoricalCrossentropy(),\n",
    "              metrics=['accuracy'])\n",
    "model_003.compile(optimizer='adam',\n",
    "              loss=tf.keras.losses.CategoricalCrossentropy(),\n",
    "              metrics=['accuracy'])\n",
    "model_033.compile(optimizer='adam',\n",
    "              loss=tf.keras.losses.CategoricalCrossentropy(),\n",
    "              metrics=['accuracy'])\n",
    "model_333.compile(optimizer='adam',\n",
    "              loss=tf.keras.losses.CategoricalCrossentropy(),\n",
    "              metrics=['accuracy'])"
   ]
  },
  {
   "cell_type": "code",
   "execution_count": 27,
   "metadata": {},
   "outputs": [],
   "source": [
    "history_000 = model_000.fit(x_train, y_train, epochs=100, verbose=0)\n",
    "history_001 = model_001.fit(x_train, y_train, epochs=100, verbose=0)\n",
    "history_011 = model_011.fit(x_train, y_train, epochs=100, verbose=0)\n",
    "history_111 = model_111.fit(x_train, y_train, epochs=100, verbose=0)\n",
    "history_002 = model_002.fit(x_train, y_train, epochs=100, verbose=0)\n",
    "history_022 = model_022.fit(x_train, y_train, epochs=100, verbose=0)\n",
    "history_222 = model_222.fit(x_train, y_train, epochs=100, verbose=0)\n",
    "history_003 = model_003.fit(x_train, y_train, epochs=100, verbose=0)\n",
    "history_033 = model_033.fit(x_train, y_train, epochs=100, verbose=0)\n",
    "history_333 = model_333.fit(x_train, y_train, epochs=100, verbose=0)"
   ]
  },
  {
   "cell_type": "code",
   "execution_count": 28,
   "metadata": {},
   "outputs": [
    {
     "name": "stdout",
     "output_type": "stream",
     "text": [
      "000 :  [0.998533308506012, 0.9990333318710327, 0.9991999864578247, 0.9991499781608582, 0.9989166855812073, 0.9987499713897705, 0.9991666674613953]\n",
      "001 :  [0.9998000264167786, 0.9983999729156494, 0.9994166493415833, 0.9991000294685364, 0.9990000128746033, 0.9987666606903076, 0.9993166923522949]\n",
      "011 :  [0.9976833462715149, 0.9988833069801331, 0.9978500008583069, 0.9976166486740112, 0.9984833598136902, 0.9980666637420654, 0.9981499910354614]\n",
      "111 :  [0.954200029373169, 0.9530500173568726, 0.9531000256538391, 0.9546166658401489, 0.9541000127792358, 0.9546999931335449, 0.9533666372299194]\n",
      "002 :  [0.9991666674613953, 0.9987666606903076, 0.9988333582878113, 0.9993000030517578, 0.9991666674613953, 0.9986333250999451, 0.9992333054542542]\n",
      "022 :  [0.9942499995231628, 0.9944000244140625, 0.994866669178009, 0.9945666790008545, 0.9949333071708679, 0.9942499995231628, 0.9948833584785461]\n",
      "222 :  [0.8672833442687988, 0.8671500086784363, 0.8678500056266785, 0.8689500093460083, 0.8682833313941956, 0.8659833073616028, 0.8676499724388123]\n",
      "003 :  [0.9981499910354614, 0.9986333250999451, 0.9984333515167236, 0.9984833598136902, 0.9983999729156494, 0.998283326625824, 0.9986500144004822]\n",
      "033 :  [0.9789166450500488, 0.9794333577156067, 0.9785500168800354, 0.9789833426475525, 0.979366660118103, 0.979116678237915, 0.9801833629608154]\n",
      "333 :  [0.11236666887998581, 0.11236666887998581, 0.11236666887998581, 0.11236666887998581, 0.11236666887998581, 0.11236666887998581, 0.11236666887998581]\n"
     ]
    }
   ],
   "source": [
    "print(\"000 : \", history_000.history['accuracy'][-7:])\n",
    "print(\"001 : \", history_001.history['accuracy'][-7:])\n",
    "print(\"011 : \", history_011.history['accuracy'][-7:])\n",
    "print(\"111 : \", history_111.history['accuracy'][-7:])\n",
    "print(\"002 : \", history_002.history['accuracy'][-7:])\n",
    "print(\"022 : \", history_022.history['accuracy'][-7:])\n",
    "print(\"222 : \", history_222.history['accuracy'][-7:])\n",
    "print(\"003 : \", history_003.history['accuracy'][-7:])\n",
    "print(\"033 : \", history_033.history['accuracy'][-7:])\n",
    "print(\"333 : \", history_333.history['accuracy'][-7:])"
   ]
  },
  {
   "cell_type": "code",
   "execution_count": 29,
   "metadata": {},
   "outputs": [
    {
     "name": "stdout",
     "output_type": "stream",
     "text": [
      "Model_000 Base accuracy on regular images: [0.1961710900068283, 0.9793999791145325]\n",
      "Model_001 Base accuracy on regular images: [0.16401880979537964, 0.9797999858856201]\n",
      "Model_011 Base accuracy on regular images: [0.17259876430034637, 0.9700999855995178]\n",
      "Model_111 Base accuracy on regular images: [0.2834061086177826, 0.9585999846458435]\n",
      "Model_002 Base accuracy on regular images: [0.14228284358978271, 0.9793999791145325]\n",
      "Model_022 Base accuracy on regular images: [0.15833306312561035, 0.97079998254776]\n",
      "Model_222 Base accuracy on regular images: [0.7657021880149841, 0.8709999918937683]\n",
      "Model_003 Base accuracy on regular images: [0.15061841905117035, 0.9793999791145325]\n",
      "Model_033 Base accuracy on regular images: [0.19535133242607117, 0.9700999855995178]\n",
      "Model_333 Base accuracy on regular images: [2.3010876178741455, 0.11349999904632568]\n"
     ]
    }
   ],
   "source": [
    "# Assess base model accuracy on regular images\n",
    "print(\"Model_000 Base accuracy on regular images:\", model_000.evaluate(x=x_test, y=y_test, verbose=0))\n",
    "print(\"Model_001 Base accuracy on regular images:\", model_001.evaluate(x=x_test, y=y_test, verbose=0))\n",
    "print(\"Model_011 Base accuracy on regular images:\", model_011.evaluate(x=x_test, y=y_test, verbose=0))\n",
    "print(\"Model_111 Base accuracy on regular images:\", model_111.evaluate(x=x_test, y=y_test, verbose=0))\n",
    "print(\"Model_002 Base accuracy on regular images:\", model_002.evaluate(x=x_test, y=y_test, verbose=0))\n",
    "print(\"Model_022 Base accuracy on regular images:\", model_022.evaluate(x=x_test, y=y_test, verbose=0))\n",
    "print(\"Model_222 Base accuracy on regular images:\", model_222.evaluate(x=x_test, y=y_test, verbose=0))\n",
    "print(\"Model_003 Base accuracy on regular images:\", model_003.evaluate(x=x_test, y=y_test, verbose=0))\n",
    "print(\"Model_033 Base accuracy on regular images:\", model_033.evaluate(x=x_test, y=y_test, verbose=0))\n",
    "print(\"Model_333 Base accuracy on regular images:\", model_333.evaluate(x=x_test, y=y_test, verbose=0))"
   ]
  },
  {
   "cell_type": "code",
   "execution_count": 30,
   "metadata": {},
   "outputs": [],
   "source": [
    "# Function to create adversarial pattern\n",
    "def adversarial_pattern(image, label, model):\n",
    "\n",
    "    image = tf.cast(image, tf.float32)\n",
    "\n",
    "    with tf.GradientTape() as tape:\n",
    "        tape.watch(image)\n",
    "        prediction = model(image)\n",
    "        \n",
    "        label = label.reshape(1, -1)\n",
    "\n",
    "        loss = tf.keras.losses.CategoricalCrossentropy()\n",
    "        loss = loss(label, prediction)\n",
    "    \n",
    "    gradient = tape.gradient(loss, image)\n",
    "    \n",
    "    signed_grad = tf.sign(gradient)\n",
    "    \n",
    "    return signed_grad"
   ]
  },
  {
   "cell_type": "code",
   "execution_count": 32,
   "metadata": {},
   "outputs": [
    {
     "name": "stdout",
     "output_type": "stream",
     "text": [
      "five\n",
      "three\n"
     ]
    },
    {
     "data": {
      "image/png": "[encoded data removed]",
      "text/plain": [
       "<Figure size 432x288 with 1 Axes>"
      ]
     },
     "metadata": {
      "needs_background": "light"
     },
     "output_type": "display_data"
    }
   ],
   "source": [
    "# Create a signle adversarial example\n",
    "image = x_train[0]\n",
    "image_label = y_train[0]\n",
    "\n",
    "perturbations = adversarial_pattern(image.reshape((1, img_rows, img_cols, channels)), image_label, model_000).numpy()\n",
    "adversarial = image + perturbations * 0.1\n",
    "\n",
    "print(labels[model_000.predict(image.reshape((1, img_rows, img_cols, channels))).argmax()])\n",
    "print(labels[model_000.predict(adversarial).argmax()])\n",
    "\n",
    "if channels == 1:\n",
    "    plt.imshow(adversarial.reshape((img_rows, img_cols)))\n",
    "else:\n",
    "    plt.imshow(adversarial.reshape((img_rows, img_cols, channels)))\n",
    "\n",
    "plt.show()"
   ]
  },
  {
   "cell_type": "code",
   "execution_count": 35,
   "metadata": {
    "scrolled": false
   },
   "outputs": [],
   "source": [
    "# Adversarial data generator\n",
    "def generate_adversarials(batch_size, model):\n",
    "    while True:\n",
    "        x = []\n",
    "        y = []\n",
    "        for batch in range(batch_size):\n",
    "            N = random.randint(0, 100)\n",
    "\n",
    "            label = y_train[N]\n",
    "            image = x_train[N]\n",
    "            \n",
    "            perturbations = adversarial_pattern(image.reshape((1, img_rows, img_cols, channels)), label, model).numpy()\n",
    "            \n",
    "            epsilon = 0.1\n",
    "            adversarial = image + perturbations * epsilon\n",
    "            \n",
    "            x.append(adversarial)\n",
    "            y.append(y_train[N])\n",
    "        \n",
    "        \n",
    "        x = np.asarray(x).reshape((batch_size, img_rows, img_cols, channels))\n",
    "        y = np.asarray(y)\n",
    "        \n",
    "        yield x, y"
   ]
  },
  {
   "cell_type": "code",
   "execution_count": 36,
   "metadata": {
    "scrolled": false
   },
   "outputs": [],
   "source": [
    "# Generate and visualize 12 adversarial images\n",
    "# adversarials, correct_labels = next(generate_adversarials(12))\n",
    "# for adversarial, correct_label in zip(adversarials, correct_labels):\n",
    "#     print('Prediction:', labels[model.predict(adversarial.reshape((1, img_rows, img_cols, channels))).argmax()], ', Truth:', labels[correct_label.argmax()])\n",
    "#     if channels == 1:\n",
    "#         plt.imshow(adversarial.reshape(img_rows, img_cols))\n",
    "#     else:\n",
    "#         plt.imshow(adversarial)\n",
    "#     plt.show()"
   ]
  },
  {
   "cell_type": "code",
   "execution_count": 41,
   "metadata": {
    "scrolled": true
   },
   "outputs": [],
   "source": [
    "# Generate adversarial data\n",
    "# x_adversarial, y_adversarial = np.load(\"x_adv_10k.npy\"), np.load(\"y_adv_10k.npy\")\n",
    "x_adversarial_train, y_adversarial_train = next(generate_adversarials(3000, model_011))\n",
    "x_adversarial_test, y_adversarial_test = next(generate_adversarials(1000, model_011))\n",
    "\n",
    "x_adversarial_test2, y_adversarial_test2 = next(generate_adversarials(1000, model_011))"
   ]
  },
  {
   "cell_type": "code",
   "execution_count": 42,
   "metadata": {},
   "outputs": [
    {
     "name": "stdout",
     "output_type": "stream",
     "text": [
      "Base accuracy on adversarial images: [18.69663429260254, 0.19099999964237213]\n"
     ]
    }
   ],
   "source": [
    "# Assess base model on adversarial data\n",
    "print(\"Base accuracy on adversarial images:\", model_011.evaluate(x=x_adversarial_test, y=y_adversarial_test, verbose=0))"
   ]
  },
  {
   "cell_type": "code",
   "execution_count": 43,
   "metadata": {
    "scrolled": true
   },
   "outputs": [],
   "source": [
    "# Generate adversarial data\n",
    "# x_adversarial, y_adversarial = np.load(\"x_adv_10k.npy\"), np.load(\"y_adv_10k.npy\")\n",
    "x_adversarial_train, y_adversarial_train = next(generate_adversarials(3000, model_022))\n",
    "x_adversarial_test, y_adversarial_test = next(generate_adversarials(1000, model_022))\n",
    "\n",
    "x_adversarial_test2, y_adversarial_test2 = next(generate_adversarials(1000, model_022))"
   ]
  },
  {
   "cell_type": "code",
   "execution_count": 44,
   "metadata": {},
   "outputs": [
    {
     "name": "stdout",
     "output_type": "stream",
     "text": [
      "Base accuracy on adversarial images: [17.923717498779297, 0.11500000208616257]\n"
     ]
    }
   ],
   "source": [
    "# Assess base model on adversarial data\n",
    "print(\"Base accuracy on adversarial images:\", model_022.evaluate(x=x_adversarial_test, y=y_adversarial_test, verbose=0))"
   ]
  },
  {
   "cell_type": "code",
   "execution_count": null,
   "metadata": {},
   "outputs": [],
   "source": []
  }
 ],
 "metadata": {
  "kernelspec": {
   "display_name": "Python 3",
   "language": "python",
   "name": "python3"
  },
  "language_info": {
   "codemirror_mode": {
    "name": "ipython",
    "version": 3
   },
   "file_extension": ".py",
   "mimetype": "text/x-python",
   "name": "python",
   "nbconvert_exporter": "python",
   "pygments_lexer": "ipython3",
   "version": "3.8.5"
  }
 },
 "nbformat": 4,
 "nbformat_minor": 2
}
