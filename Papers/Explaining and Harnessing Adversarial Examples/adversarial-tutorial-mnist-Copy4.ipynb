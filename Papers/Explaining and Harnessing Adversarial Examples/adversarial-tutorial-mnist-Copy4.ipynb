{
 "cells": [
  {
   "cell_type": "code",
   "execution_count": 73,
   "metadata": {},
   "outputs": [],
   "source": [
    "import tensorflow as tf\n",
    "\n",
    "from tensorflow.keras.datasets import mnist, cifar10, cifar100\n",
    "\n",
    "from tensorflow import keras\n",
    "from tensorflow.keras import Sequential\n",
    "from tensorflow.keras.callbacks import LambdaCallback\n",
    "from tensorflow.keras.layers import Conv2D, MaxPooling2D, Dropout, Dense, Flatten, Activation\n",
    "\n",
    "import numpy as np\n",
    "import random\n",
    "\n",
    "import matplotlib.pyplot as plt"
   ]
  },
  {
   "cell_type": "code",
   "execution_count": 74,
   "metadata": {},
   "outputs": [
    {
     "data": {
      "text/plain": [
       "'2.4.0'"
      ]
     },
     "execution_count": 74,
     "metadata": {},
     "output_type": "execute_result"
    }
   ],
   "source": [
    "# This should print something along the lines of '2.0.0-rc1'\n",
    "tf.__version__"
   ]
  },
  {
   "cell_type": "code",
   "execution_count": 75,
   "metadata": {},
   "outputs": [],
   "source": [
    "(x_train, y_train), (x_test, y_test) = mnist.load_data()"
   ]
  },
  {
   "cell_type": "code",
   "execution_count": 76,
   "metadata": {},
   "outputs": [
    {
     "data": {
      "text/plain": [
       "((60000, 28, 28), (60000,))"
      ]
     },
     "execution_count": 76,
     "metadata": {},
     "output_type": "execute_result"
    }
   ],
   "source": [
    "x_train.shape, y_train.shape"
   ]
  },
  {
   "cell_type": "code",
   "execution_count": 77,
   "metadata": {},
   "outputs": [],
   "source": [
    "# MNIST\n",
    "labels = ['zero', 'one', 'two', 'three', 'four', 'five', 'six', 'seven', 'eight', 'nine']"
   ]
  },
  {
   "cell_type": "code",
   "execution_count": 78,
   "metadata": {},
   "outputs": [
    {
     "name": "stdout",
     "output_type": "stream",
     "text": [
      "Data shapes (10000, 28, 28, 1) (10000, 10) (60000, 28, 28, 1) (60000, 10)\n"
     ]
    }
   ],
   "source": [
    "# Pre-process data\n",
    "img_rows, img_cols, channels = 28, 28, 1 # 32, 32, 3\n",
    "num_classes = 10\n",
    "\n",
    "x_train = x_train / 255\n",
    "x_test = x_test / 255\n",
    "\n",
    "x_train = x_train.reshape((-1, img_rows, img_cols, channels))\n",
    "x_test = x_test.reshape((-1, img_rows, img_cols, channels))\n",
    "\n",
    "y_train = tf.keras.utils.to_categorical(y_train, num_classes)\n",
    "y_test = tf.keras.utils.to_categorical(y_test, num_classes)\n",
    "\n",
    "print(\"Data shapes\", x_test.shape, y_test.shape, x_train.shape, y_train.shape)"
   ]
  },
  {
   "cell_type": "code",
   "execution_count": 79,
   "metadata": {},
   "outputs": [],
   "source": [
    "model_000 = tf.keras.Sequential([\n",
    "    tf.keras.layers.Flatten(input_shape=(28, 28)),\n",
    "    tf.keras.layers.Dense(128, activation='relu'),    \n",
    "    tf.keras.layers.Dense(64, activation='relu'),\n",
    "    tf.keras.layers.Dense(32, activation='relu'),\n",
    "    tf.keras.layers.Dense(10, activation='softmax')\n",
    "])\n",
    "\n",
    "# l2: 0.01\n",
    "model_100 = tf.keras.Sequential([\n",
    "    tf.keras.layers.Flatten(input_shape=(28, 28)),\n",
    "    tf.keras.layers.Dense(128, activation='relu', kernel_regularizer=keras.regularizers.l2(0.01)),    \n",
    "    tf.keras.layers.Dense(64, activation='relu', kernel_regularizer=keras.regularizers.l2(0.00)),\n",
    "    tf.keras.layers.Dense(32, activation='relu', kernel_regularizer=keras.regularizers.l2(0.00)),\n",
    "    tf.keras.layers.Dense(10, activation='softmax')\n",
    "])\n",
    "model_110 = tf.keras.Sequential([\n",
    "    tf.keras.layers.Flatten(input_shape=(28, 28)),\n",
    "    tf.keras.layers.Dense(128, activation='relu', kernel_regularizer=keras.regularizers.l2(0.01)),    \n",
    "    tf.keras.layers.Dense(64, activation='relu', kernel_regularizer=keras.regularizers.l2(0.01)),\n",
    "    tf.keras.layers.Dense(32, activation='relu', kernel_regularizer=keras.regularizers.l2(0.00)),\n",
    "    tf.keras.layers.Dense(10, activation='softmax')\n",
    "])\n",
    "\n",
    "# l2: 0.03\n",
    "model_200 = tf.keras.Sequential([\n",
    "    tf.keras.layers.Flatten(input_shape=(28, 28)),\n",
    "    tf.keras.layers.Dense(128, activation='relu', kernel_regularizer=keras.regularizers.l2(0.03)),    \n",
    "    tf.keras.layers.Dense(64, activation='relu', kernel_regularizer=keras.regularizers.l2(0.00)),\n",
    "    tf.keras.layers.Dense(32, activation='relu', kernel_regularizer=keras.regularizers.l2(0.00)),\n",
    "    tf.keras.layers.Dense(10, activation='softmax')\n",
    "])\n",
    "model_220 = tf.keras.Sequential([\n",
    "    tf.keras.layers.Flatten(input_shape=(28, 28)),\n",
    "    tf.keras.layers.Dense(128, activation='relu', kernel_regularizer=keras.regularizers.l2(0.03)),    \n",
    "    tf.keras.layers.Dense(64, activation='relu', kernel_regularizer=keras.regularizers.l2(0.03)),\n",
    "    tf.keras.layers.Dense(32, activation='relu', kernel_regularizer=keras.regularizers.l2(0.00)),\n",
    "    tf.keras.layers.Dense(10, activation='softmax')\n",
    "])\n",
    "\n",
    "# l2: 0.1\n",
    "model_300 = tf.keras.Sequential([\n",
    "    tf.keras.layers.Flatten(input_shape=(28, 28)),\n",
    "    tf.keras.layers.Dense(128, activation='relu', kernel_regularizer=keras.regularizers.l2(0.1)),    \n",
    "    tf.keras.layers.Dense(64, activation='relu', kernel_regularizer=keras.regularizers.l2(0.00)),\n",
    "    tf.keras.layers.Dense(32, activation='relu', kernel_regularizer=keras.regularizers.l2(0.00)),\n",
    "    tf.keras.layers.Dense(10, activation='softmax')\n",
    "])\n",
    "model_330 = tf.keras.Sequential([\n",
    "    tf.keras.layers.Flatten(input_shape=(28, 28)),\n",
    "    tf.keras.layers.Dense(128, activation='relu', kernel_regularizer=keras.regularizers.l2(0.1)),    \n",
    "    tf.keras.layers.Dense(64, activation='relu', kernel_regularizer=keras.regularizers.l2(0.1)),\n",
    "    tf.keras.layers.Dense(32, activation='relu', kernel_regularizer=keras.regularizers.l2(0.00)),\n",
    "    tf.keras.layers.Dense(10, activation='softmax')\n",
    "])"
   ]
  },
  {
   "cell_type": "code",
   "execution_count": 80,
   "metadata": {
    "scrolled": false
   },
   "outputs": [],
   "source": [
    "model_000.compile(optimizer='adam',\n",
    "              loss=tf.keras.losses.CategoricalCrossentropy(),\n",
    "              metrics=['accuracy'])\n",
    "model_100.compile(optimizer='adam',\n",
    "              loss=tf.keras.losses.CategoricalCrossentropy(),\n",
    "              metrics=['accuracy'])\n",
    "model_110.compile(optimizer='adam',\n",
    "              loss=tf.keras.losses.CategoricalCrossentropy(),\n",
    "              metrics=['accuracy'])\n",
    "model_200.compile(optimizer='adam',\n",
    "              loss=tf.keras.losses.CategoricalCrossentropy(),\n",
    "              metrics=['accuracy'])\n",
    "model_220.compile(optimizer='adam',\n",
    "              loss=tf.keras.losses.CategoricalCrossentropy(),\n",
    "              metrics=['accuracy'])\n",
    "model_300.compile(optimizer='adam',\n",
    "              loss=tf.keras.losses.CategoricalCrossentropy(),\n",
    "              metrics=['accuracy'])\n",
    "model_330.compile(optimizer='adam',\n",
    "              loss=tf.keras.losses.CategoricalCrossentropy(),\n",
    "              metrics=['accuracy'])"
   ]
  },
  {
   "cell_type": "code",
   "execution_count": 81,
   "metadata": {},
   "outputs": [],
   "source": [
    "history_000 = model_000.fit(x_train, y_train, epochs=10, verbose=0)\n",
    "history_100 = model_100.fit(x_train, y_train, epochs=10, verbose=0)\n",
    "history_110 = model_110.fit(x_train, y_train, epochs=10, verbose=0)\n",
    "history_200 = model_200.fit(x_train, y_train, epochs=10, verbose=0)\n",
    "history_220 = model_220.fit(x_train, y_train, epochs=10, verbose=0)\n",
    "history_300 = model_300.fit(x_train, y_train, epochs=10, verbose=0)\n",
    "history_330 = model_330.fit(x_train, y_train, epochs=10, verbose=0)"
   ]
  },
  {
   "cell_type": "code",
   "execution_count": 82,
   "metadata": {},
   "outputs": [
    {
     "name": "stdout",
     "output_type": "stream",
     "text": [
      "000 :  [0.9905666708946228, 0.9919666647911072, 0.9919499754905701]\n",
      "100 :  [0.958216667175293, 0.9606333374977112, 0.9609166383743286]\n",
      "110 :  [0.9525166749954224, 0.9514833092689514, 0.9543499946594238]\n",
      "200 :  [0.9473333358764648, 0.9488000273704529, 0.9500499963760376]\n",
      "220 :  [0.9354333281517029, 0.9363833069801331, 0.9367166757583618]\n",
      "300 :  [0.9305333495140076, 0.9331333041191101, 0.9334333539009094]\n",
      "330 :  [0.9062333106994629, 0.9058666825294495, 0.9055666923522949]\n"
     ]
    }
   ],
   "source": [
    "print(\"000 : \", history_000.history['accuracy'][-3:])\n",
    "print(\"100 : \", history_100.history['accuracy'][-3:])\n",
    "print(\"110 : \", history_110.history['accuracy'][-3:])\n",
    "print(\"200 : \", history_200.history['accuracy'][-3:])\n",
    "print(\"220 : \", history_220.history['accuracy'][-3:])\n",
    "print(\"300 : \", history_300.history['accuracy'][-3:])\n",
    "print(\"330 : \", history_330.history['accuracy'][-3:])"
   ]
  },
  {
   "cell_type": "code",
   "execution_count": 83,
   "metadata": {},
   "outputs": [
    {
     "name": "stdout",
     "output_type": "stream",
     "text": [
      "Model_000 Base accuracy on regular images: [0.12584960460662842, 0.9693999886512756]\n",
      "Model_100 Base accuracy on regular images: [0.2171560823917389, 0.9621999859809875]\n",
      "Model_110 Base accuracy on regular images: [0.2522684335708618, 0.9534000158309937]\n",
      "Model_200 Base accuracy on regular images: [0.25425514578819275, 0.9589999914169312]\n",
      "Model_220 Base accuracy on regular images: [0.34896397590637207, 0.9399999976158142]\n",
      "Model_300 Base accuracy on regular images: [0.36452314257621765, 0.9276999831199646]\n",
      "Model_330 Base accuracy on regular images: [0.45984894037246704, 0.9140999913215637]\n"
     ]
    }
   ],
   "source": [
    "# Assess base model accuracy on regular images\n",
    "print(\"Model_000 Base accuracy on regular images:\", model_000.evaluate(x=x_test, y=y_test, verbose=0))\n",
    "print(\"Model_100 Base accuracy on regular images:\", model_100.evaluate(x=x_test, y=y_test, verbose=0))\n",
    "print(\"Model_110 Base accuracy on regular images:\", model_110.evaluate(x=x_test, y=y_test, verbose=0))\n",
    "print(\"Model_200 Base accuracy on regular images:\", model_200.evaluate(x=x_test, y=y_test, verbose=0))\n",
    "print(\"Model_220 Base accuracy on regular images:\", model_220.evaluate(x=x_test, y=y_test, verbose=0))\n",
    "print(\"Model_300 Base accuracy on regular images:\", model_300.evaluate(x=x_test, y=y_test, verbose=0))\n",
    "print(\"Model_330 Base accuracy on regular images:\", model_330.evaluate(x=x_test, y=y_test, verbose=0))"
   ]
  },
  {
   "cell_type": "code",
   "execution_count": 84,
   "metadata": {},
   "outputs": [],
   "source": [
    "# Function to create adversarial pattern\n",
    "def adversarial_pattern(image, label, model):\n",
    "\n",
    "    image = tf.cast(image, tf.float32)\n",
    "\n",
    "    with tf.GradientTape() as tape:\n",
    "        tape.watch(image)\n",
    "        prediction = model(image)\n",
    "        \n",
    "        label = label.reshape(1, -1)\n",
    "\n",
    "        loss = tf.keras.losses.CategoricalCrossentropy()\n",
    "        loss = loss(label, prediction)\n",
    "    \n",
    "    gradient = tape.gradient(loss, image)\n",
    "    \n",
    "    signed_grad = tf.sign(gradient)\n",
    "    \n",
    "    return signed_grad"
   ]
  },
  {
   "cell_type": "code",
   "execution_count": 85,
   "metadata": {},
   "outputs": [
    {
     "name": "stdout",
     "output_type": "stream",
     "text": [
      "five\n",
      "three\n"
     ]
    },
    {
     "data": {
      "image/png": "[encoded data removed]",
      "text/plain": [
       "<Figure size 432x288 with 1 Axes>"
      ]
     },
     "metadata": {
      "needs_background": "light"
     },
     "output_type": "display_data"
    }
   ],
   "source": [
    "# Create a signle adversarial example\n",
    "image = x_train[0]\n",
    "image_label = y_train[0]\n",
    "\n",
    "perturbations = adversarial_pattern(image.reshape((1, img_rows, img_cols, channels)), image_label, model_100).numpy()\n",
    "adversarial = image + perturbations * 0.1\n",
    "\n",
    "print(labels[model_100.predict(image.reshape((1, img_rows, img_cols, channels))).argmax()])\n",
    "print(labels[model_100.predict(adversarial).argmax()])\n",
    "\n",
    "if channels == 1:\n",
    "    plt.imshow(adversarial.reshape((img_rows, img_cols)))\n",
    "else:\n",
    "    plt.imshow(adversarial.reshape((img_rows, img_cols, channels)))\n",
    "\n",
    "plt.show()"
   ]
  },
  {
   "cell_type": "code",
   "execution_count": 86,
   "metadata": {
    "scrolled": false
   },
   "outputs": [],
   "source": [
    "# Adversarial data generator\n",
    "def generate_adversarials(batch_size, model):\n",
    "    while True:\n",
    "        x = []\n",
    "        y = []\n",
    "        for batch in range(batch_size):\n",
    "            N = random.randint(0, 100)\n",
    "\n",
    "            label = y_train[N]\n",
    "            image = x_train[N]\n",
    "            \n",
    "            perturbations = adversarial_pattern(image.reshape((1, img_rows, img_cols, channels)), label, model).numpy()\n",
    "            \n",
    "            epsilon = 0.1\n",
    "            adversarial = image + perturbations * epsilon\n",
    "            \n",
    "            x.append(adversarial)\n",
    "            y.append(y_train[N])\n",
    "        \n",
    "        \n",
    "        x = np.asarray(x).reshape((batch_size, img_rows, img_cols, channels))\n",
    "        y = np.asarray(y)\n",
    "        \n",
    "        yield x, y"
   ]
  },
  {
   "cell_type": "code",
   "execution_count": 87,
   "metadata": {
    "scrolled": false
   },
   "outputs": [
    {
     "name": "stdout",
     "output_type": "stream",
     "text": [
      "Prediction: four , Truth: four\n"
     ]
    },
    {
     "data": {
      "image/png": "[encoded data removed]",
      "text/plain": [
       "<Figure size 432x288 with 1 Axes>"
      ]
     },
     "metadata": {
      "needs_background": "light"
     },
     "output_type": "display_data"
    },
    {
     "name": "stdout",
     "output_type": "stream",
     "text": [
      "Prediction: two , Truth: seven\n"
     ]
    },
    {
     "data": {
      "image/png": "[encoded data removed]",
      "text/plain": [
       "<Figure size 432x288 with 1 Axes>"
      ]
     },
     "metadata": {
      "needs_background": "light"
     },
     "output_type": "display_data"
    },
    {
     "name": "stdout",
     "output_type": "stream",
     "text": [
      "Prediction: nine , Truth: seven\n"
     ]
    },
    {
     "data": {
      "image/png": "[encoded data removed]",
      "text/plain": [
       "<Figure size 432x288 with 1 Axes>"
      ]
     },
     "metadata": {
      "needs_background": "light"
     },
     "output_type": "display_data"
    },
    {
     "name": "stdout",
     "output_type": "stream",
     "text": [
      "Prediction: three , Truth: five\n"
     ]
    },
    {
     "data": {
      "image/png": "[encoded data removed]",
      "text/plain": [
       "<Figure size 432x288 with 1 Axes>"
      ]
     },
     "metadata": {
      "needs_background": "light"
     },
     "output_type": "display_data"
    },
    {
     "name": "stdout",
     "output_type": "stream",
     "text": [
      "Prediction: seven , Truth: one\n"
     ]
    },
    {
     "data": {
      "image/png": "[encoded data removed]",
      "text/plain": [
       "<Figure size 432x288 with 1 Axes>"
      ]
     },
     "metadata": {
      "needs_background": "light"
     },
     "output_type": "display_data"
    }
   ],
   "source": [
    "# Generate and visualize 5 adversarial images\n",
    "adversarials, correct_labels = next(generate_adversarials(5, model_100))\n",
    "for adversarial, correct_label in zip(adversarials, correct_labels):\n",
    "    print('Prediction:', labels[model_100.predict(adversarial.reshape((1, img_rows, img_cols, channels))).argmax()], ', Truth:', labels[correct_label.argmax()])\n",
    "    if channels == 1:\n",
    "        plt.imshow(adversarial.reshape(img_rows, img_cols))\n",
    "    else:\n",
    "        plt.imshow(adversarial)\n",
    "    plt.show()"
   ]
  },
  {
   "cell_type": "code",
   "execution_count": 88,
   "metadata": {
    "scrolled": true
   },
   "outputs": [
    {
     "name": "stdout",
     "output_type": "stream",
     "text": [
      "Base accuracy on adversarial images: [3.9527971744537354, 0.2409999966621399]\n"
     ]
    }
   ],
   "source": [
    "# Generate adversarial data\n",
    "# x_adversarial, y_adversarial = np.load(\"x_adv_10k.npy\"), np.load(\"y_adv_10k.npy\")\n",
    "# x_adversarial_train, y_adversarial_train = next(generate_adversarials(3000, model_011))\n",
    "x_adversarial_test, y_adversarial_test = next(generate_adversarials(1000, model_100))\n",
    "\n",
    "# Assess base model on adversarial data\n",
    "print(\"Base accuracy on adversarial images:\", model_100.evaluate(x=x_adversarial_test, y=y_adversarial_test, verbose=0))"
   ]
  },
  {
   "cell_type": "code",
   "execution_count": 89,
   "metadata": {
    "scrolled": true
   },
   "outputs": [
    {
     "name": "stdout",
     "output_type": "stream",
     "text": [
      "Base accuracy on adversarial images: [3.955531120300293, 0.1720000058412552]\n"
     ]
    }
   ],
   "source": [
    "# Generate adversarial data\n",
    "# x_adversarial, y_adversarial = np.load(\"x_adv_10k.npy\"), np.load(\"y_adv_10k.npy\")\n",
    "# x_adversarial_train, y_adversarial_train = next(generate_adversarials(3000, model_022))\n",
    "x_adversarial_test, y_adversarial_test = next(generate_adversarials(1000, model_110))\n",
    "\n",
    "# Assess base model on adversarial data\n",
    "print(\"Base accuracy on adversarial images:\", model_110.evaluate(x=x_adversarial_test, y=y_adversarial_test, verbose=0))"
   ]
  },
  {
   "cell_type": "code",
   "execution_count": 90,
   "metadata": {
    "scrolled": true
   },
   "outputs": [
    {
     "name": "stdout",
     "output_type": "stream",
     "text": [
      "Base accuracy on adversarial images: [3.451889991760254, 0.23800000548362732]\n"
     ]
    }
   ],
   "source": [
    "# Generate adversarial data\n",
    "# x_adversarial, y_adversarial = np.load(\"x_adv_10k.npy\"), np.load(\"y_adv_10k.npy\")\n",
    "# x_adversarial_train, y_adversarial_train = next(generate_adversarials(3000, model_003))\n",
    "x_adversarial_test, y_adversarial_test = next(generate_adversarials(1000, model_200))\n",
    "\n",
    "# Assess base model on adversarial data\n",
    "print(\"Base accuracy on adversarial images:\", model_200.evaluate(x=x_adversarial_test, y=y_adversarial_test, verbose=0))"
   ]
  },
  {
   "cell_type": "code",
   "execution_count": 91,
   "metadata": {
    "scrolled": true
   },
   "outputs": [
    {
     "name": "stdout",
     "output_type": "stream",
     "text": [
      "Base accuracy on adversarial images: [3.8261051177978516, 0.2070000022649765]\n"
     ]
    }
   ],
   "source": [
    "# Generate adversarial data\n",
    "# x_adversarial, y_adversarial = np.load(\"x_adv_10k.npy\"), np.load(\"y_adv_10k.npy\")\n",
    "# x_adversarial_train, y_adversarial_train = next(generate_adversarials(3000, model_044))\n",
    "x_adversarial_test, y_adversarial_test = next(generate_adversarials(1000, model_220))\n",
    "\n",
    "# Assess base model on adversarial data\n",
    "print(\"Base accuracy on adversarial images:\", model_220.evaluate(x=x_adversarial_test, y=y_adversarial_test, verbose=0))"
   ]
  },
  {
   "cell_type": "code",
   "execution_count": 92,
   "metadata": {
    "scrolled": false
   },
   "outputs": [
    {
     "name": "stdout",
     "output_type": "stream",
     "text": [
      "Base accuracy on adversarial images: [3.8280208110809326, 0.22599999606609344]\n"
     ]
    }
   ],
   "source": [
    "# Generate adversarial data\n",
    "# x_adversarial, y_adversarial = np.load(\"x_adv_10k.npy\"), np.load(\"y_adv_10k.npy\")\n",
    "# x_adversarial_train, y_adversarial_train = next(generate_adversarials(3000, model_055))\n",
    "x_adversarial_test, y_adversarial_test = next(generate_adversarials(1000, model_300))\n",
    "\n",
    "# Assess base model on adversarial data\n",
    "print(\"Base accuracy on adversarial images:\", model_300.evaluate(x=x_adversarial_test, y=y_adversarial_test, verbose=0))"
   ]
  },
  {
   "cell_type": "code",
   "execution_count": 93,
   "metadata": {
    "scrolled": false
   },
   "outputs": [
    {
     "name": "stdout",
     "output_type": "stream",
     "text": [
      "Base accuracy on adversarial images: [3.77844500541687, 0.18799999356269836]\n"
     ]
    }
   ],
   "source": [
    "# Generate adversarial data\n",
    "# x_adversarial, y_adversarial = np.load(\"x_adv_10k.npy\"), np.load(\"y_adv_10k.npy\")\n",
    "# x_adversarial_train, y_adversarial_train = next(generate_adversarials(3000, model_055))\n",
    "x_adversarial_test, y_adversarial_test = next(generate_adversarials(1000, model_330))\n",
    "\n",
    "# Assess base model on adversarial data\n",
    "print(\"Base accuracy on adversarial images:\", model_330.evaluate(x=x_adversarial_test, y=y_adversarial_test, verbose=0))"
   ]
  },
  {
   "cell_type": "markdown",
   "metadata": {},
   "source": [
    "## Case 1\n",
    "> **계층별 Regularization Control 을 적용하지 않은 모델에서 만든 Adversarial 이미지로** \n",
    "\n",
    "> **계층별 Regularization Control 을 적용하지 않은 모델에 입력하여 성능을 측정**"
   ]
  },
  {
   "cell_type": "code",
   "execution_count": 99,
   "metadata": {
    "scrolled": true
   },
   "outputs": [
    {
     "name": "stdout",
     "output_type": "stream",
     "text": [
      "Base accuracy on adversarial images: [13.892423629760742, 0.12099999934434891]\n"
     ]
    }
   ],
   "source": [
    "x_adversarial, y_adversarial = next(generate_adversarials(10000, model_000))\n",
    "\n",
    "# Assess base model on adversarial data\n",
    "print(\"Base accuracy on adversarial images:\", model_000.evaluate(x=x_adversarial, y=y_adversarial, verbose=0))"
   ]
  },
  {
   "cell_type": "markdown",
   "metadata": {},
   "source": [
    "## Case 2\n",
    "> **계층별 Regularization Control 을 적용하지 않은 모델에서 만든 Adversarial 이미지로** \n",
    "\n",
    "> **계층별 Regularization Control 을 적용한 모델에 입력하여 성능을 측정**"
   ]
  },
  {
   "cell_type": "code",
   "execution_count": 119,
   "metadata": {},
   "outputs": [
    {
     "name": "stdout",
     "output_type": "stream",
     "text": [
      "Base accuracy on adversarial images: [7.0989670753479, 0.31779998540878296]\n"
     ]
    }
   ],
   "source": [
    "x_adversarial, y_adversarial = next(generate_adversarials(10000, model_000))\n",
    "print(\"Base accuracy on adversarial images:\", model_000.evaluate(x=x_adversarial, y=y_adversarial, verbose=0))"
   ]
  },
  {
   "cell_type": "code",
   "execution_count": 95,
   "metadata": {
    "scrolled": true
   },
   "outputs": [
    {
     "name": "stdout",
     "output_type": "stream",
     "text": [
      "Base accuracy on adversarial images: [1.118910789489746, 0.7135999798774719]\n"
     ]
    }
   ],
   "source": [
    "x_adversarial, y_adversarial = next(generate_adversarials(10000, model_000))\n",
    "print(\"Base accuracy on adversarial images:\", model_200.evaluate(x=x_adversarial, y=y_adversarial, verbose=0))"
   ]
  },
  {
   "cell_type": "code",
   "execution_count": 118,
   "metadata": {},
   "outputs": [
    {
     "name": "stdout",
     "output_type": "stream",
     "text": [
      "Base accuracy on adversarial images: [0.7384403347969055, 0.8011000156402588]\n"
     ]
    }
   ],
   "source": [
    "x_adversarial, y_adversarial = next(generate_adversarials(10000, model_000))\n",
    "print(\"Base accuracy on adversarial images:\", model_220.evaluate(x=x_adversarial, y=y_adversarial, verbose=0))"
   ]
  },
  {
   "cell_type": "markdown",
   "metadata": {},
   "source": [
    "## Case 3\n",
    "> **계층별 Regularization Control을 적용한 모델에서 만든 Adversarial 이미지로**\n",
    "\n",
    "> **계층별 Regularization Control을 적용하지 않은 모델에 입력하여 성능을 측정**"
   ]
  },
  {
   "cell_type": "code",
   "execution_count": 96,
   "metadata": {
    "scrolled": true
   },
   "outputs": [
    {
     "name": "stdout",
     "output_type": "stream",
     "text": [
      "Base accuracy on adversarial images: [4.5454630851745605, 0.39629998803138733]\n"
     ]
    }
   ],
   "source": [
    "x_adversarial, y_adversarial = next(generate_adversarials(10000, model_200))\n",
    "print(\"Base accuracy on adversarial images:\", model_000.evaluate(x=x_adversarial, y=y_adversarial, verbose=0))"
   ]
  },
  {
   "cell_type": "code",
   "execution_count": 97,
   "metadata": {},
   "outputs": [
    {
     "data": {
      "image/png": "[encoded data removed]",
      "text/plain": [
       "<Figure size 432x288 with 1 Axes>"
      ]
     },
     "metadata": {
      "needs_background": "light"
     },
     "output_type": "display_data"
    }
   ],
   "source": [
    "labels = ['case_1', 'case_2', 'case_3']\n",
    "# lists of acc results \n",
    "results = [54, 75, 38]\n",
    "\n",
    "plt.bar(x=labels, height=results)\n",
    "plt.show()"
   ]
  },
  {
   "cell_type": "code",
   "execution_count": 113,
   "metadata": {},
   "outputs": [
    {
     "data": {
      "text/plain": [
       "<Figure size 1440x1440 with 0 Axes>"
      ]
     },
     "metadata": {},
     "output_type": "display_data"
    },
    {
     "data": {
      "image/png": "[encoded data removed]",
      "text/plain": [
       "<Figure size 720x720 with 1 Axes>"
      ]
     },
     "metadata": {
      "needs_background": "light"
     },
     "output_type": "display_data"
    }
   ],
   "source": [
    "labels = ['model_000', 'model_100', 'model_110', 'model_200', 'model_220', 'model_300', 'model_330']\n",
    "# lists of acc results \n",
    "orig_image = [98, 96, 96, 94, 94, 94, 92]\n",
    "advs_image = [12, 25, 13, 26, 16, 18, 25]\n",
    "\n",
    "x = np.arange(len(labels))  # the label locations\n",
    "width = 0.35  # the width of the bars\n",
    "\n",
    "plt.figure(figsize=(20, 20))\n",
    "fig, ax = plt.subplots(figsize=(10,10))\n",
    "rects1 = ax.bar(x - width/2, orig_image, width, label='orig_image')\n",
    "rects2 = ax.bar(x + width/2, advs_image, width, label='advs_image')\n",
    "\n",
    "# Add some text for labels, title and custom x-axis tick labels, etc.\n",
    "ax.set_ylabel('Accuracy %')\n",
    "ax.set_title('original vs adversarial')\n",
    "ax.set_xticks(x)\n",
    "ax.set_xticklabels(labels)\n",
    "ax.legend()\n",
    "\n",
    "plt.show()"
   ]
  },
  {
   "cell_type": "markdown",
   "metadata": {},
   "source": [
    "## Case 4\n",
    "> **Dense로만 구성된 Network(model_000) adversarial training 시킨 후, adversarial attack accuracy 측정하기**"
   ]
  },
  {
   "cell_type": "code",
   "execution_count": 102,
   "metadata": {},
   "outputs": [],
   "source": [
    "# Generate adversarial data\n",
    "x_adversarial_train, y_adversarial_train = next(generate_adversarials(7000, model_000))\n",
    "x_adversarial_test, y_adversarial_test = next(generate_adversarials(3000, model_000))"
   ]
  },
  {
   "cell_type": "code",
   "execution_count": 103,
   "metadata": {},
   "outputs": [
    {
     "name": "stdout",
     "output_type": "stream",
     "text": [
      "Base accuracy on adversarial images: [13.891939163208008, 0.11866666376590729]\n"
     ]
    }
   ],
   "source": [
    "# Assess base model on adversarial data\n",
    "print(\"Base accuracy on adversarial images:\", model_000.evaluate(x=x_adversarial_test, y=y_adversarial_test, verbose=0))"
   ]
  },
  {
   "cell_type": "code",
   "execution_count": 104,
   "metadata": {},
   "outputs": [
    {
     "name": "stdout",
     "output_type": "stream",
     "text": [
      "Epoch 1/10\n",
      "219/219 [==============================] - 1s 2ms/step - loss: 0.3841 - accuracy: 0.9460 - val_loss: 0.9978 - val_accuracy: 0.7553\n",
      "Epoch 2/10\n",
      "219/219 [==============================] - 0s 2ms/step - loss: 0.0015 - accuracy: 1.0000 - val_loss: 1.0444 - val_accuracy: 0.7549\n",
      "Epoch 3/10\n",
      "219/219 [==============================] - 0s 2ms/step - loss: 7.0368e-04 - accuracy: 1.0000 - val_loss: 1.0786 - val_accuracy: 0.7550\n",
      "Epoch 4/10\n",
      "219/219 [==============================] - 0s 2ms/step - loss: 4.2677e-04 - accuracy: 1.0000 - val_loss: 1.1039 - val_accuracy: 0.7548\n",
      "Epoch 5/10\n",
      "219/219 [==============================] - 1s 2ms/step - loss: 2.9023e-04 - accuracy: 1.0000 - val_loss: 1.1257 - val_accuracy: 0.7552\n",
      "Epoch 6/10\n",
      "219/219 [==============================] - 1s 2ms/step - loss: 2.1142e-04 - accuracy: 1.0000 - val_loss: 1.1433 - val_accuracy: 0.7553\n",
      "Epoch 7/10\n",
      "219/219 [==============================] - 1s 2ms/step - loss: 1.5982e-04 - accuracy: 1.0000 - val_loss: 1.1594 - val_accuracy: 0.7561\n",
      "Epoch 8/10\n",
      "219/219 [==============================] - 0s 2ms/step - loss: 1.2380e-04 - accuracy: 1.0000 - val_loss: 1.1735 - val_accuracy: 0.7571\n",
      "Epoch 9/10\n",
      "219/219 [==============================] - 0s 2ms/step - loss: 9.8395e-05 - accuracy: 1.0000 - val_loss: 1.1867 - val_accuracy: 0.7571\n",
      "Epoch 10/10\n",
      "219/219 [==============================] - 0s 2ms/step - loss: 7.9541e-05 - accuracy: 1.0000 - val_loss: 1.1988 - val_accuracy: 0.7572\n"
     ]
    },
    {
     "data": {
      "text/plain": [
       "<tensorflow.python.keras.callbacks.History at 0x7fb91e5cd520>"
      ]
     },
     "execution_count": 104,
     "metadata": {},
     "output_type": "execute_result"
    }
   ],
   "source": [
    "# Learn from adversarial data\n",
    "model_000.fit(x_adversarial_train, y_adversarial_train,\n",
    "          epochs=10,\n",
    "          validation_data=(x_test, y_test))"
   ]
  },
  {
   "cell_type": "code",
   "execution_count": 105,
   "metadata": {},
   "outputs": [
    {
     "name": "stdout",
     "output_type": "stream",
     "text": [
      "Defended accuracy on adversarial images: [6.841576396254823e-05, 1.0]\n",
      "Defended accuracy on regular images: [1.1988201141357422, 0.7572000026702881]\n"
     ]
    }
   ],
   "source": [
    "# Assess defended model on adversarial data\n",
    "print(\"Defended accuracy on adversarial images:\", model_000.evaluate(x=x_adversarial_test, y=y_adversarial_test, verbose=0))\n",
    "\n",
    "# Assess defended model on regular data\n",
    "print(\"Defended accuracy on regular images:\", model_000.evaluate(x=x_test, y=y_test, verbose=0))"
   ]
  },
  {
   "cell_type": "code",
   "execution_count": 108,
   "metadata": {},
   "outputs": [
    {
     "name": "stdout",
     "output_type": "stream",
     "text": [
      "Defended accuracy on adversarial images: [6.997132301330566, 0.3149999976158142]\n"
     ]
    }
   ],
   "source": [
    "x_adversarial_test, y_adversarial_test = next(generate_adversarials(3000, model_000))\n",
    "print(\"Defended accuracy on adversarial images:\", model_000.evaluate(x=x_adversarial_test, y=y_adversarial_test, verbose=0))"
   ]
  },
  {
   "cell_type": "markdown",
   "metadata": {},
   "source": [
    "- 처음에 만든 adversarial train, test set은 100% 정확도를 보여주지만,\n",
    "- 새로만든 adversarial test set은 31% 정확도로 나타남."
   ]
  },
  {
   "cell_type": "code",
   "execution_count": 117,
   "metadata": {},
   "outputs": [
    {
     "data": {
      "text/plain": [
       "<BarContainer object of 2 artists>"
      ]
     },
     "execution_count": 117,
     "metadata": {},
     "output_type": "execute_result"
    },
    {
     "data": {
      "image/png": "[encoded data removed]",
      "text/plain": [
       "<Figure size 576x576 with 1 Axes>"
      ]
     },
     "metadata": {
      "needs_background": "light"
     },
     "output_type": "display_data"
    }
   ],
   "source": [
    "plt.figure(figsize=(8,8))\n",
    "labels = ['Before_training', 'After_training']\n",
    "acc = [12, 31]\n",
    "plt.title('Adversarial training Before and After')\n",
    "plt.ylabel('accuracy (%)')\n",
    "plt.bar(labels, acc)"
   ]
  },
  {
   "cell_type": "code",
   "execution_count": null,
   "metadata": {},
   "outputs": [],
   "source": []
  }
 ],
 "metadata": {
  "kernelspec": {
   "display_name": "Python 3",
   "language": "python",
   "name": "python3"
  },
  "language_info": {
   "codemirror_mode": {
    "name": "ipython",
    "version": 3
   },
   "file_extension": ".py",
   "mimetype": "text/x-python",
   "name": "python",
   "nbconvert_exporter": "python",
   "pygments_lexer": "ipython3",
   "version": "3.8.5"
  }
 },
 "nbformat": 4,
 "nbformat_minor": 2
}
