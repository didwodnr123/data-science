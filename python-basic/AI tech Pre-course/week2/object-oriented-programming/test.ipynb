{
 "cells": [
  {
   "cell_type": "code",
   "execution_count": 175,
   "id": "7af61153",
   "metadata": {},
   "outputs": [],
   "source": [
    "class NoteBook(object):\n",
    "    def __init__(self, title):\n",
    "        self.title = title\n",
    "        self.page_number = 1\n",
    "        self.notes = {}\n",
    "\n",
    "    def add_note(self, note, page=0):\n",
    "        if self.page_number < 300:\n",
    "            if page == 0:\n",
    "                self.notes[self.page_number] = note\n",
    "                self.page_number += 1\n",
    "            else:\n",
    "                self.notes = {page : note}\n",
    "                self.page_number += 1\n",
    "        else:\n",
    "            print(\"Page가 모두 채워졌습니다.\")\n",
    "\n",
    "    def remove_note(self, page_number):\n",
    "        if page_number in self.notes.keys():\n",
    "            return self.notes.pop(page_number)\n",
    "        else:\n",
    "            print(\"해당 페이지는 존재하지 않습니다\")\n",
    "\n",
    "    def get_number_of_pages(self):\n",
    "        return len(self.notes.keys())\n",
    "\n",
    "\n",
    "class Note(object):\n",
    "    def __init__(self, content = None):\n",
    "        self.content = content\n",
    "\n",
    "    def write_content(self, content):\n",
    "        self.content = content\n",
    "\n",
    "    def remove_all(self):\n",
    "        self.content = ''\n",
    "\n",
    "    def __add__(self, other):\n",
    "        return self.content + other.content\n",
    "\n",
    "    def __str__(self):\n",
    "        return self.content"
   ]
  },
  {
   "cell_type": "code",
   "execution_count": 176,
   "id": "57457747",
   "metadata": {},
   "outputs": [],
   "source": [
    "my_notebook = NoteBook('강의 노트')"
   ]
  },
  {
   "cell_type": "code",
   "execution_count": 177,
   "id": "13ad89af",
   "metadata": {},
   "outputs": [
    {
     "data": {
      "text/plain": [
       "'강의 노트'"
      ]
     },
     "execution_count": 177,
     "metadata": {},
     "output_type": "execute_result"
    }
   ],
   "source": [
    "my_notebook.title"
   ]
  },
  {
   "cell_type": "code",
   "execution_count": 178,
   "id": "9c511347",
   "metadata": {},
   "outputs": [
    {
     "name": "stdout",
     "output_type": "stream",
     "text": [
      "알고리즘 재밌다.\n"
     ]
    }
   ],
   "source": [
    "new_note = Note('알고리즘 재밌다.')\n",
    "print(new_note)"
   ]
  },
  {
   "cell_type": "code",
   "execution_count": 179,
   "id": "88b6829b",
   "metadata": {},
   "outputs": [
    {
     "name": "stdout",
     "output_type": "stream",
     "text": [
      "파이썬 강의 재밌다.\n"
     ]
    }
   ],
   "source": [
    "new_note_2 = Note('파이썬 강의 재밌다.')\n",
    "print(new_note_2)"
   ]
  },
  {
   "cell_type": "code",
   "execution_count": 184,
   "id": "5bf62c7c",
   "metadata": {},
   "outputs": [],
   "source": [
    "my_notebook.add_note(new_note)\n",
    "my_notebook.add_note(new_note_2, 100)"
   ]
  },
  {
   "cell_type": "code",
   "execution_count": 185,
   "id": "b12494ac",
   "metadata": {},
   "outputs": [
    {
     "data": {
      "text/plain": [
       "1"
      ]
     },
     "execution_count": 185,
     "metadata": {},
     "output_type": "execute_result"
    }
   ],
   "source": [
    "my_notebook.get_number_of_pages()"
   ]
  },
  {
   "cell_type": "code",
   "execution_count": 186,
   "id": "97a1e8d1",
   "metadata": {},
   "outputs": [
    {
     "name": "stdout",
     "output_type": "stream",
     "text": [
      "{100: <__main__.Note object at 0x7f9c0c87ce80>}\n"
     ]
    }
   ],
   "source": [
    "print(my_notebook.notes)"
   ]
  },
  {
   "cell_type": "code",
   "execution_count": null,
   "id": "c12f28c8",
   "metadata": {},
   "outputs": [],
   "source": []
  }
 ],
 "metadata": {
  "kernelspec": {
   "display_name": "Python 3",
   "language": "python",
   "name": "python3"
  },
  "language_info": {
   "codemirror_mode": {
    "name": "ipython",
    "version": 3
   },
   "file_extension": ".py",
   "mimetype": "text/x-python",
   "name": "python",
   "nbconvert_exporter": "python",
   "pygments_lexer": "ipython3",
   "version": "3.8.10"
  },
  "toc": {
   "base_numbering": 1,
   "nav_menu": {},
   "number_sections": true,
   "sideBar": true,
   "skip_h1_title": false,
   "title_cell": "Table of Contents",
   "title_sidebar": "Contents",
   "toc_cell": false,
   "toc_position": {},
   "toc_section_display": true,
   "toc_window_display": false
  }
 },
 "nbformat": 4,
 "nbformat_minor": 5
}
